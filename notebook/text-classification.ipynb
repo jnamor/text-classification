{
 "cells": [
  {
   "cell_type": "markdown",
   "id": "breeding-ending",
   "metadata": {},
   "source": [
    "### 1. Import the libraries\n",
    "As the first step, we need to import the required libraries."
   ]
  },
  {
   "cell_type": "code",
   "execution_count": 54,
   "id": "motivated-mitchell",
   "metadata": {},
   "outputs": [],
   "source": [
    "import pandas as pd\n",
    "import numpy as np"
   ]
  },
  {
   "cell_type": "markdown",
   "id": "weekly-catalog",
   "metadata": {},
   "source": [
    "### 2. Load the dataset\n",
    "Load the dataset."
   ]
  },
  {
   "cell_type": "code",
   "execution_count": 55,
   "id": "whole-radio",
   "metadata": {},
   "outputs": [
    {
     "data": {
      "text/html": [
       "<div>\n",
       "<style scoped>\n",
       "    .dataframe tbody tr th:only-of-type {\n",
       "        vertical-align: middle;\n",
       "    }\n",
       "\n",
       "    .dataframe tbody tr th {\n",
       "        vertical-align: top;\n",
       "    }\n",
       "\n",
       "    .dataframe thead th {\n",
       "        text-align: right;\n",
       "    }\n",
       "</style>\n",
       "<table border=\"1\" class=\"dataframe\">\n",
       "  <thead>\n",
       "    <tr style=\"text-align: right;\">\n",
       "      <th></th>\n",
       "      <th>category</th>\n",
       "      <th>text</th>\n",
       "    </tr>\n",
       "  </thead>\n",
       "  <tbody>\n",
       "    <tr>\n",
       "      <th>0</th>\n",
       "      <td>tech</td>\n",
       "      <td>tv future in the hands of viewers with home th...</td>\n",
       "    </tr>\n",
       "    <tr>\n",
       "      <th>1</th>\n",
       "      <td>business</td>\n",
       "      <td>worldcom boss  left books alone  former worldc...</td>\n",
       "    </tr>\n",
       "    <tr>\n",
       "      <th>2</th>\n",
       "      <td>sport</td>\n",
       "      <td>tigers wary of farrell  gamble  leicester say ...</td>\n",
       "    </tr>\n",
       "    <tr>\n",
       "      <th>3</th>\n",
       "      <td>sport</td>\n",
       "      <td>yeading face newcastle in fa cup premiership s...</td>\n",
       "    </tr>\n",
       "    <tr>\n",
       "      <th>4</th>\n",
       "      <td>entertainment</td>\n",
       "      <td>ocean s twelve raids box office ocean s twelve...</td>\n",
       "    </tr>\n",
       "  </tbody>\n",
       "</table>\n",
       "</div>"
      ],
      "text/plain": [
       "        category                                               text\n",
       "0           tech  tv future in the hands of viewers with home th...\n",
       "1       business  worldcom boss  left books alone  former worldc...\n",
       "2          sport  tigers wary of farrell  gamble  leicester say ...\n",
       "3          sport  yeading face newcastle in fa cup premiership s...\n",
       "4  entertainment  ocean s twelve raids box office ocean s twelve..."
      ]
     },
     "execution_count": 55,
     "metadata": {},
     "output_type": "execute_result"
    }
   ],
   "source": [
    "df = pd.read_csv('../data/text-classification.csv')\n",
    "df.head()"
   ]
  },
  {
   "cell_type": "code",
   "execution_count": 56,
   "id": "african-split",
   "metadata": {},
   "outputs": [
    {
     "data": {
      "text/plain": [
       "(2225, 2)"
      ]
     },
     "execution_count": 56,
     "metadata": {},
     "output_type": "execute_result"
    }
   ],
   "source": [
    "df.shape"
   ]
  },
  {
   "cell_type": "code",
   "execution_count": 57,
   "id": "communist-purple",
   "metadata": {},
   "outputs": [
    {
     "name": "stdout",
     "output_type": "stream",
     "text": [
      "<class 'pandas.core.frame.DataFrame'>\n",
      "RangeIndex: 2225 entries, 0 to 2224\n",
      "Data columns (total 2 columns):\n",
      " #   Column    Non-Null Count  Dtype \n",
      "---  ------    --------------  ----- \n",
      " 0   category  2225 non-null   object\n",
      " 1   text      2225 non-null   object\n",
      "dtypes: object(2)\n",
      "memory usage: 34.9+ KB\n"
     ]
    }
   ],
   "source": [
    "df.info()"
   ]
  },
  {
   "cell_type": "markdown",
   "id": "grateful-seeking",
   "metadata": {},
   "source": [
    "### 3. Exploratory Data Analysis"
   ]
  },
  {
   "cell_type": "code",
   "execution_count": 58,
   "id": "numerical-paper",
   "metadata": {},
   "outputs": [],
   "source": [
    "from collections import Counter\n",
    "\n",
    "def countWord(list_of_words):            \n",
    "    count = Counter()\n",
    "    for sentence in list_of_words:\n",
    "        for word in sentence.split():\n",
    "            count[word] += 1\n",
    "    \n",
    "    return count"
   ]
  },
  {
   "cell_type": "code",
   "execution_count": 59,
   "id": "super-vertex",
   "metadata": {},
   "outputs": [
    {
     "data": {
      "text/plain": [
       "Counter({'tech': 401,\n",
       "         'business': 510,\n",
       "         'sport': 511,\n",
       "         'entertainment': 386,\n",
       "         'politics': 417})"
      ]
     },
     "execution_count": 59,
     "metadata": {},
     "output_type": "execute_result"
    }
   ],
   "source": [
    "countWord(df['category'])"
   ]
  },
  {
   "cell_type": "code",
   "execution_count": 60,
   "id": "fatty-basin",
   "metadata": {},
   "outputs": [
    {
     "data": {
      "text/plain": [
       "[('the', 52567), ('to', 24955), ('of', 19947), ('and', 18561), ('a', 18251)]"
      ]
     },
     "execution_count": 60,
     "metadata": {},
     "output_type": "execute_result"
    }
   ],
   "source": [
    "counter = countWord(df['text'])\n",
    "counter.most_common(5)"
   ]
  },
  {
   "cell_type": "code",
   "execution_count": 61,
   "id": "human-clearing",
   "metadata": {},
   "outputs": [
    {
     "data": {
      "text/plain": [
       "43771"
      ]
     },
     "execution_count": 61,
     "metadata": {},
     "output_type": "execute_result"
    }
   ],
   "source": [
    "total_words = len(counter)\n",
    "total_words"
   ]
  },
  {
   "cell_type": "markdown",
   "id": "heavy-baghdad",
   "metadata": {},
   "source": [
    "### 4. Pre-processing the data\n",
    "The actual data must meet certain conditions before being sent to the model. We will create a `pipeline`: a multi-level system where each level receives its data from the previous level and sends its results to the next level."
   ]
  },
  {
   "cell_type": "markdown",
   "id": "random-serbia",
   "metadata": {},
   "source": [
    "#### 4.1 Tranforming the data"
   ]
  },
  {
   "cell_type": "markdown",
   "id": "juvenile-scholar",
   "metadata": {},
   "source": [
    "We transform the `textual categories` into `index values`."
   ]
  },
  {
   "cell_type": "code",
   "execution_count": 62,
   "id": "reflected-detective",
   "metadata": {},
   "outputs": [],
   "source": [
    "def category_transforming(df):\n",
    "    category_mapper = dict(zip(np.unique(df[\"category\"]), list(range(df['category'].nunique()))))\n",
    "    category_inv_mapper = dict(zip(list(range(df['category'].nunique())), np.unique(df[\"category\"])))\n",
    "    \n",
    "    return category_mapper, category_inv_mapper"
   ]
  },
  {
   "cell_type": "code",
   "execution_count": 63,
   "id": "magnetic-admission",
   "metadata": {},
   "outputs": [],
   "source": [
    "category_mapper, category_inv_mapper = category_transforming(df)"
   ]
  },
  {
   "cell_type": "code",
   "execution_count": 64,
   "id": "built-pressure",
   "metadata": {},
   "outputs": [
    {
     "data": {
      "text/html": [
       "<div>\n",
       "<style scoped>\n",
       "    .dataframe tbody tr th:only-of-type {\n",
       "        vertical-align: middle;\n",
       "    }\n",
       "\n",
       "    .dataframe tbody tr th {\n",
       "        vertical-align: top;\n",
       "    }\n",
       "\n",
       "    .dataframe thead th {\n",
       "        text-align: right;\n",
       "    }\n",
       "</style>\n",
       "<table border=\"1\" class=\"dataframe\">\n",
       "  <thead>\n",
       "    <tr style=\"text-align: right;\">\n",
       "      <th></th>\n",
       "      <th>category</th>\n",
       "      <th>text</th>\n",
       "      <th>category_ind</th>\n",
       "    </tr>\n",
       "  </thead>\n",
       "  <tbody>\n",
       "    <tr>\n",
       "      <th>0</th>\n",
       "      <td>tech</td>\n",
       "      <td>tv future in the hands of viewers with home th...</td>\n",
       "      <td>4</td>\n",
       "    </tr>\n",
       "    <tr>\n",
       "      <th>1</th>\n",
       "      <td>business</td>\n",
       "      <td>worldcom boss  left books alone  former worldc...</td>\n",
       "      <td>0</td>\n",
       "    </tr>\n",
       "    <tr>\n",
       "      <th>2</th>\n",
       "      <td>sport</td>\n",
       "      <td>tigers wary of farrell  gamble  leicester say ...</td>\n",
       "      <td>3</td>\n",
       "    </tr>\n",
       "    <tr>\n",
       "      <th>3</th>\n",
       "      <td>sport</td>\n",
       "      <td>yeading face newcastle in fa cup premiership s...</td>\n",
       "      <td>3</td>\n",
       "    </tr>\n",
       "    <tr>\n",
       "      <th>4</th>\n",
       "      <td>entertainment</td>\n",
       "      <td>ocean s twelve raids box office ocean s twelve...</td>\n",
       "      <td>1</td>\n",
       "    </tr>\n",
       "  </tbody>\n",
       "</table>\n",
       "</div>"
      ],
      "text/plain": [
       "        category                                               text  \\\n",
       "0           tech  tv future in the hands of viewers with home th...   \n",
       "1       business  worldcom boss  left books alone  former worldc...   \n",
       "2          sport  tigers wary of farrell  gamble  leicester say ...   \n",
       "3          sport  yeading face newcastle in fa cup premiership s...   \n",
       "4  entertainment  ocean s twelve raids box office ocean s twelve...   \n",
       "\n",
       "   category_ind  \n",
       "0             4  \n",
       "1             0  \n",
       "2             3  \n",
       "3             3  \n",
       "4             1  "
      ]
     },
     "execution_count": 64,
     "metadata": {},
     "output_type": "execute_result"
    }
   ],
   "source": [
    "category_ind = [category_mapper[i] for i in df['category']]\n",
    "df['category_ind'] = category_ind\n",
    "df.head()"
   ]
  },
  {
   "cell_type": "markdown",
   "id": "colonial-myanmar",
   "metadata": {},
   "source": [
    "We can use another alternative with `scikit-learn` :"
   ]
  },
  {
   "cell_type": "code",
   "execution_count": 65,
   "id": "color-recall",
   "metadata": {},
   "outputs": [],
   "source": [
    "from sklearn.preprocessing import LabelEncoder\n",
    "\n",
    "def category_transforming(list_of_categories):\n",
    "    label_encoder = LabelEncoder()\n",
    "    label_encoder.fit(df['category'])\n",
    "    predicted_label = label_encoder.transform(list_of_categories)\n",
    "    \n",
    "    return predicted_label"
   ]
  },
  {
   "cell_type": "code",
   "execution_count": 66,
   "id": "bizarre-diving",
   "metadata": {},
   "outputs": [
    {
     "data": {
      "text/html": [
       "<div>\n",
       "<style scoped>\n",
       "    .dataframe tbody tr th:only-of-type {\n",
       "        vertical-align: middle;\n",
       "    }\n",
       "\n",
       "    .dataframe tbody tr th {\n",
       "        vertical-align: top;\n",
       "    }\n",
       "\n",
       "    .dataframe thead th {\n",
       "        text-align: right;\n",
       "    }\n",
       "</style>\n",
       "<table border=\"1\" class=\"dataframe\">\n",
       "  <thead>\n",
       "    <tr style=\"text-align: right;\">\n",
       "      <th></th>\n",
       "      <th>category</th>\n",
       "      <th>text</th>\n",
       "      <th>category_ind</th>\n",
       "    </tr>\n",
       "  </thead>\n",
       "  <tbody>\n",
       "    <tr>\n",
       "      <th>0</th>\n",
       "      <td>tech</td>\n",
       "      <td>tv future in the hands of viewers with home th...</td>\n",
       "      <td>4</td>\n",
       "    </tr>\n",
       "    <tr>\n",
       "      <th>1</th>\n",
       "      <td>business</td>\n",
       "      <td>worldcom boss  left books alone  former worldc...</td>\n",
       "      <td>0</td>\n",
       "    </tr>\n",
       "    <tr>\n",
       "      <th>2</th>\n",
       "      <td>sport</td>\n",
       "      <td>tigers wary of farrell  gamble  leicester say ...</td>\n",
       "      <td>3</td>\n",
       "    </tr>\n",
       "    <tr>\n",
       "      <th>3</th>\n",
       "      <td>sport</td>\n",
       "      <td>yeading face newcastle in fa cup premiership s...</td>\n",
       "      <td>3</td>\n",
       "    </tr>\n",
       "    <tr>\n",
       "      <th>4</th>\n",
       "      <td>entertainment</td>\n",
       "      <td>ocean s twelve raids box office ocean s twelve...</td>\n",
       "      <td>1</td>\n",
       "    </tr>\n",
       "  </tbody>\n",
       "</table>\n",
       "</div>"
      ],
      "text/plain": [
       "        category                                               text  \\\n",
       "0           tech  tv future in the hands of viewers with home th...   \n",
       "1       business  worldcom boss  left books alone  former worldc...   \n",
       "2          sport  tigers wary of farrell  gamble  leicester say ...   \n",
       "3          sport  yeading face newcastle in fa cup premiership s...   \n",
       "4  entertainment  ocean s twelve raids box office ocean s twelve...   \n",
       "\n",
       "   category_ind  \n",
       "0             4  \n",
       "1             0  \n",
       "2             3  \n",
       "3             3  \n",
       "4             1  "
      ]
     },
     "execution_count": 66,
     "metadata": {},
     "output_type": "execute_result"
    }
   ],
   "source": [
    "category_ind = category_transforming(df['category'])\n",
    "df['category_ind'] = category_ind\n",
    "df.head()"
   ]
  },
  {
   "cell_type": "markdown",
   "id": "mounted-invitation",
   "metadata": {},
   "source": [
    "#### 4.2 Splitting the data"
   ]
  },
  {
   "cell_type": "code",
   "execution_count": 67,
   "id": "figured-century",
   "metadata": {},
   "outputs": [],
   "source": [
    "split_size = int(df.shape[0] * 0.8)"
   ]
  },
  {
   "cell_type": "code",
   "execution_count": 68,
   "id": "excess-person",
   "metadata": {},
   "outputs": [],
   "source": [
    "df_train = df[:split_size]\n",
    "df_val = df[split_size:]"
   ]
  },
  {
   "cell_type": "markdown",
   "id": "rotary-pledge",
   "metadata": {},
   "source": [
    "### 5.  NLP Pipeline - Dataset preparation"
   ]
  },
  {
   "cell_type": "code",
   "execution_count": 69,
   "id": "casual-surname",
   "metadata": {},
   "outputs": [],
   "source": [
    "import nltk"
   ]
  },
  {
   "cell_type": "markdown",
   "id": "sized-atmosphere",
   "metadata": {},
   "source": [
    "#### Step 1 -  Remove URL's"
   ]
  },
  {
   "cell_type": "code",
   "execution_count": 70,
   "id": "enclosed-edward",
   "metadata": {},
   "outputs": [],
   "source": [
    "import re\n",
    "\n",
    "def remove_links(text):\n",
    "    url = re.compile(r\"https?://\\S+|www\\.\\S+\")\n",
    "    return url.sub(\"\", text)"
   ]
  },
  {
   "cell_type": "code",
   "execution_count": 71,
   "id": "viral-defendant",
   "metadata": {
    "scrolled": true
   },
   "outputs": [
    {
     "data": {
      "text/plain": [
       "'tv future in the hands of viewers with home theatre systems  plasma high-definition tvs  and digital video recorders moving into the living room  the way people watch tv will be radically different in five years  time.  that is according to an expert panel which gathered at the annual consumer electronics show in las vegas to discuss how these new technologies will impact one of our favourite pastimes. with the us leading the trend  programmes and other content will be delivered to viewers via home networks  through cable  satellite  telecoms companies  and broadband service providers to front rooms and portable devices.  one of the most talked-about technologies of ces has been digital and personal video recorders (dvr and pvr). these set-top boxes  like the us s tivo and the uk s sky+ system  allow people to record  store  play  pause and forward wind tv programmes when they want.  essentially  the technology allows for much more personalised tv. they are also being built-in to high-definition tv sets  which are big business in japan and the us  but slower to take off in europe because of the lack of high-definition programming. not only can people forward wind through adverts  they can also forget about abiding by network and channel schedules  putting together their own a-la-carte entertainment. but some us networks and cable and satellite companies are worried about what it means for them in terms of advertising revenues as well as  brand identity  and viewer loyalty to channels. although the us leads in this technology at the moment  it is also a concern that is being raised in europe  particularly with the growing uptake of services like sky+.  what happens here today  we will see in nine months to a years  time in the uk   adam hume  the bbc broadcast s futurologist told the bbc news website. for the likes of the bbc  there are no issues of lost advertising revenue yet. it is a more pressing issue at the moment for commercial uk broadcasters  but brand loyalty is important for everyone.  we will be talking more about content brands rather than network brands   said tim hanlon  from brand communications firm starcom mediavest.  the reality is that with broadband connections  anybody can be the producer of content.  he added:  the challenge now is that it is hard to promote a programme with so much choice.   what this means  said stacey jolna  senior vice president of tv guide tv group  is that the way people find the content they want to watch has to be simplified for tv viewers. it means that networks  in us terms  or channels could take a leaf out of google s book and be the search engine of the future  instead of the scheduler to help people find what they want to watch. this kind of channel model might work for the younger ipod generation which is used to taking control of their gadgets and what they play on them. but it might not suit everyone  the panel recognised. older generations are more comfortable with familiar schedules and channel brands because they know what they are getting. they perhaps do not want so much of the choice put into their hands  mr hanlon suggested.  on the other end  you have the kids just out of diapers who are pushing buttons already - everything is possible and available to them   said mr hanlon.  ultimately  the consumer will tell the market they want.   of the 50 000 new gadgets and technologies being showcased at ces  many of them are about enhancing the tv-watching experience. high-definition tv sets are everywhere and many new models of lcd (liquid crystal display) tvs have been launched with dvr capability built into them  instead of being external boxes. one such example launched at the show is humax s 26-inch lcd tv with an 80-hour tivo dvr and dvd recorder. one of the us s biggest satellite tv companies  directtv  has even launched its own branded dvr at the show with 100-hours of recording capability  instant replay  and a search function. the set can pause and rewind tv for up to 90 hours. and microsoft chief bill gates announced in his pre-show keynote speech a partnership with tivo  called tivotogo  which means people can play recorded programmes on windows pcs and mobile devices. all these reflect the increasing trend of freeing up multimedia so that people can watch what they want  when they want.'"
      ]
     },
     "execution_count": 71,
     "metadata": {},
     "output_type": "execute_result"
    }
   ],
   "source": [
    "corpus = [remove_links(sentence) for sentence in df['text']]\n",
    "corpus[0]"
   ]
  },
  {
   "cell_type": "code",
   "execution_count": 72,
   "id": "single-lawsuit",
   "metadata": {},
   "outputs": [
    {
     "data": {
      "text/plain": [
       "0    tv future in the hands of viewers with home th...\n",
       "1    worldcom boss  left books alone  former worldc...\n",
       "2    tigers wary of farrell  gamble  leicester say ...\n",
       "3    yeading face newcastle in fa cup premiership s...\n",
       "4    ocean s twelve raids box office ocean s twelve...\n",
       "Name: text, dtype: object"
      ]
     },
     "execution_count": 72,
     "metadata": {},
     "output_type": "execute_result"
    }
   ],
   "source": [
    "df['text'] = df['text'].map(remove_links)\n",
    "df['text'].head()"
   ]
  },
  {
   "cell_type": "markdown",
   "id": "controversial-parallel",
   "metadata": {},
   "source": [
    "#### Step 2 -  Remove Punctuations"
   ]
  },
  {
   "cell_type": "code",
   "execution_count": 73,
   "id": "stuck-ceremony",
   "metadata": {},
   "outputs": [],
   "source": [
    "import string\n",
    "\n",
    "def remove_punctuations(text):\n",
    "    characters_to_remove = string.punctuation\n",
    "    translator = str.maketrans(\"\", \"\", characters_to_remove)\n",
    "    clean_text = (text\n",
    "                  .lower()\n",
    "                  .translate(translator)\n",
    "                 )\n",
    "    \n",
    "    return clean_text"
   ]
  },
  {
   "cell_type": "code",
   "execution_count": 74,
   "id": "pharmaceutical-cylinder",
   "metadata": {
    "scrolled": true
   },
   "outputs": [
    {
     "data": {
      "text/plain": [
       "'tv future in the hands of viewers with home theatre systems  plasma highdefinition tvs  and digital video recorders moving into the living room  the way people watch tv will be radically different in five years  time  that is according to an expert panel which gathered at the annual consumer electronics show in las vegas to discuss how these new technologies will impact one of our favourite pastimes with the us leading the trend  programmes and other content will be delivered to viewers via home networks  through cable  satellite  telecoms companies  and broadband service providers to front rooms and portable devices  one of the most talkedabout technologies of ces has been digital and personal video recorders dvr and pvr these settop boxes  like the us s tivo and the uk s sky system  allow people to record  store  play  pause and forward wind tv programmes when they want  essentially  the technology allows for much more personalised tv they are also being builtin to highdefinition tv sets  which are big business in japan and the us  but slower to take off in europe because of the lack of highdefinition programming not only can people forward wind through adverts  they can also forget about abiding by network and channel schedules  putting together their own alacarte entertainment but some us networks and cable and satellite companies are worried about what it means for them in terms of advertising revenues as well as  brand identity  and viewer loyalty to channels although the us leads in this technology at the moment  it is also a concern that is being raised in europe  particularly with the growing uptake of services like sky  what happens here today  we will see in nine months to a years  time in the uk   adam hume  the bbc broadcast s futurologist told the bbc news website for the likes of the bbc  there are no issues of lost advertising revenue yet it is a more pressing issue at the moment for commercial uk broadcasters  but brand loyalty is important for everyone  we will be talking more about content brands rather than network brands   said tim hanlon  from brand communications firm starcom mediavest  the reality is that with broadband connections  anybody can be the producer of content  he added  the challenge now is that it is hard to promote a programme with so much choice   what this means  said stacey jolna  senior vice president of tv guide tv group  is that the way people find the content they want to watch has to be simplified for tv viewers it means that networks  in us terms  or channels could take a leaf out of google s book and be the search engine of the future  instead of the scheduler to help people find what they want to watch this kind of channel model might work for the younger ipod generation which is used to taking control of their gadgets and what they play on them but it might not suit everyone  the panel recognised older generations are more comfortable with familiar schedules and channel brands because they know what they are getting they perhaps do not want so much of the choice put into their hands  mr hanlon suggested  on the other end  you have the kids just out of diapers who are pushing buttons already  everything is possible and available to them   said mr hanlon  ultimately  the consumer will tell the market they want   of the 50 000 new gadgets and technologies being showcased at ces  many of them are about enhancing the tvwatching experience highdefinition tv sets are everywhere and many new models of lcd liquid crystal display tvs have been launched with dvr capability built into them  instead of being external boxes one such example launched at the show is humax s 26inch lcd tv with an 80hour tivo dvr and dvd recorder one of the us s biggest satellite tv companies  directtv  has even launched its own branded dvr at the show with 100hours of recording capability  instant replay  and a search function the set can pause and rewind tv for up to 90 hours and microsoft chief bill gates announced in his preshow keynote speech a partnership with tivo  called tivotogo  which means people can play recorded programmes on windows pcs and mobile devices all these reflect the increasing trend of freeing up multimedia so that people can watch what they want  when they want'"
      ]
     },
     "execution_count": 74,
     "metadata": {},
     "output_type": "execute_result"
    }
   ],
   "source": [
    "corpus = [remove_punctuations(sentence) for sentence in df['text']]\n",
    "corpus[0]"
   ]
  },
  {
   "cell_type": "code",
   "execution_count": 75,
   "id": "closing-inside",
   "metadata": {},
   "outputs": [
    {
     "data": {
      "text/plain": [
       "0    tv future in the hands of viewers with home th...\n",
       "1    worldcom boss  left books alone  former worldc...\n",
       "2    tigers wary of farrell  gamble  leicester say ...\n",
       "3    yeading face newcastle in fa cup premiership s...\n",
       "4    ocean s twelve raids box office ocean s twelve...\n",
       "Name: text, dtype: object"
      ]
     },
     "execution_count": 75,
     "metadata": {},
     "output_type": "execute_result"
    }
   ],
   "source": [
    "df['text'] = df['text'].map(remove_punctuations)\n",
    "df['text'].head()"
   ]
  },
  {
   "cell_type": "code",
   "execution_count": 76,
   "id": "prospective-slave",
   "metadata": {},
   "outputs": [
    {
     "data": {
      "text/html": [
       "<div>\n",
       "<style scoped>\n",
       "    .dataframe tbody tr th:only-of-type {\n",
       "        vertical-align: middle;\n",
       "    }\n",
       "\n",
       "    .dataframe tbody tr th {\n",
       "        vertical-align: top;\n",
       "    }\n",
       "\n",
       "    .dataframe thead th {\n",
       "        text-align: right;\n",
       "    }\n",
       "</style>\n",
       "<table border=\"1\" class=\"dataframe\">\n",
       "  <thead>\n",
       "    <tr style=\"text-align: right;\">\n",
       "      <th></th>\n",
       "      <th>category</th>\n",
       "      <th>text</th>\n",
       "      <th>category_ind</th>\n",
       "    </tr>\n",
       "  </thead>\n",
       "  <tbody>\n",
       "    <tr>\n",
       "      <th>0</th>\n",
       "      <td>tech</td>\n",
       "      <td>tv future in the hands of viewers with home th...</td>\n",
       "      <td>4</td>\n",
       "    </tr>\n",
       "    <tr>\n",
       "      <th>1</th>\n",
       "      <td>business</td>\n",
       "      <td>worldcom boss  left books alone  former worldc...</td>\n",
       "      <td>0</td>\n",
       "    </tr>\n",
       "    <tr>\n",
       "      <th>2</th>\n",
       "      <td>sport</td>\n",
       "      <td>tigers wary of farrell  gamble  leicester say ...</td>\n",
       "      <td>3</td>\n",
       "    </tr>\n",
       "    <tr>\n",
       "      <th>3</th>\n",
       "      <td>sport</td>\n",
       "      <td>yeading face newcastle in fa cup premiership s...</td>\n",
       "      <td>3</td>\n",
       "    </tr>\n",
       "    <tr>\n",
       "      <th>4</th>\n",
       "      <td>entertainment</td>\n",
       "      <td>ocean s twelve raids box office ocean s twelve...</td>\n",
       "      <td>1</td>\n",
       "    </tr>\n",
       "  </tbody>\n",
       "</table>\n",
       "</div>"
      ],
      "text/plain": [
       "        category                                               text  \\\n",
       "0           tech  tv future in the hands of viewers with home th...   \n",
       "1       business  worldcom boss  left books alone  former worldc...   \n",
       "2          sport  tigers wary of farrell  gamble  leicester say ...   \n",
       "3          sport  yeading face newcastle in fa cup premiership s...   \n",
       "4  entertainment  ocean s twelve raids box office ocean s twelve...   \n",
       "\n",
       "   category_ind  \n",
       "0             4  \n",
       "1             0  \n",
       "2             3  \n",
       "3             3  \n",
       "4             1  "
      ]
     },
     "execution_count": 76,
     "metadata": {},
     "output_type": "execute_result"
    }
   ],
   "source": [
    "df.head()"
   ]
  },
  {
   "cell_type": "markdown",
   "id": "mexican-bradford",
   "metadata": {},
   "source": [
    "#### Step 3 - Stop words"
   ]
  },
  {
   "cell_type": "code",
   "execution_count": 77,
   "id": "understood-omega",
   "metadata": {},
   "outputs": [],
   "source": [
    "# nltk.download('stopwords')\n",
    "from nltk.corpus import stopwords\n",
    "\n",
    "def remove_stop_words(text):\n",
    "    stop = stopwords.words(\"english\")\n",
    "    filtered_words = [word for word in text.split() if word not in stop]\n",
    "    \n",
    "    return \" \".join(filtered_words)"
   ]
  },
  {
   "cell_type": "code",
   "execution_count": 78,
   "id": "musical-equipment",
   "metadata": {},
   "outputs": [
    {
     "data": {
      "text/plain": [
       "0    tv future hands viewers home theatre systems p...\n",
       "1    worldcom boss left books alone former worldcom...\n",
       "2    tigers wary farrell gamble leicester say rushe...\n",
       "3    yeading face newcastle fa cup premiership side...\n",
       "4    ocean twelve raids box office ocean twelve cri...\n",
       "Name: text, dtype: object"
      ]
     },
     "execution_count": 78,
     "metadata": {},
     "output_type": "execute_result"
    }
   ],
   "source": [
    "df['text'] = df['text'].map(remove_stop_words)\n",
    "df['text'].head()"
   ]
  },
  {
   "cell_type": "markdown",
   "id": "danish-syndication",
   "metadata": {},
   "source": [
    "#### Step 4 - Tokenization then Stemming or Lemmatization ?"
   ]
  },
  {
   "cell_type": "markdown",
   "id": "designing-evanescence",
   "metadata": {},
   "source": [
    "`Tokenization` splits a string into smaller entities such as words or single characters. Therefore, these are also referred to as tokens. <a href=\"https://en.wikipedia.org/wiki/Lexical_analysis#Tokenization\">Wikipedia</a> provides a nice example."
   ]
  },
  {
   "attachments": {
    "image.png": {
     "image/png": "[encoded data removed]"
    }
   },
   "cell_type": "markdown",
   "id": "sharp-sheriff",
   "metadata": {},
   "source": [
    "`Stemming` and `Lemmatization` are methods used by search engines and chatbots to analyze the meaning behind a word. `Stemming` uses the stem of the word, while `Lemmatization` uses the context in which the word is being used.\n",
    "\n",
    "![image.png](attachment:image.png)\n",
    "\n",
    "In this example, we will use `Stemming` for optimization and performance purposes."
   ]
  },
  {
   "cell_type": "code",
   "execution_count": 79,
   "id": "graphic-blair",
   "metadata": {},
   "outputs": [],
   "source": [
    "# nltk.download('wordnet')\n",
    "from nltk.stem import WordNetLemmatizer\n",
    "# nltk.download('punkt')\n",
    "from nltk.stem.porter import PorterStemmer\n",
    "\n",
    "def get_tokenized_text(input_sentence):\n",
    "    return nltk.word_tokenize(input_sentence)\n",
    "\n",
    "def get_stemmed_text(word):\n",
    "    stemmer = PorterStemmer()\n",
    "    return stemmer.stem(word)\n",
    "\n",
    "def convert_text_to_array(text_tokenized):\n",
    "    for sentence in text_tokenized:\n",
    "        for index, word in enumerate(sentence):\n",
    "            sentence[index] = get_stemmed_text(word)\n",
    "    \n",
    "    return np.array(text_tokenized)"
   ]
  },
  {
   "cell_type": "code",
   "execution_count": 80,
   "id": "internal-childhood",
   "metadata": {},
   "outputs": [],
   "source": [
    "train_text_tokenized = [get_tokenized_text(sentence) for sentence in df_train['text']]\n",
    "val_text_tokenized = [get_tokenized_text(sentence) for sentence in df_val['text']]"
   ]
  },
  {
   "cell_type": "code",
   "execution_count": 81,
   "id": "alone-study",
   "metadata": {},
   "outputs": [],
   "source": [
    "train_text_to_array = convert_text_to_array(train_text_tokenized)\n",
    "val_text_to_array = convert_text_to_array(val_text_tokenized)"
   ]
  },
  {
   "cell_type": "code",
   "execution_count": 82,
   "id": "heavy-calculator",
   "metadata": {},
   "outputs": [],
   "source": [
    "train_category_ind_to_array = df_train['category_ind'].to_numpy()\n",
    "val_category_ind_to_array = df_val['category_ind'].to_numpy()"
   ]
  },
  {
   "cell_type": "code",
   "execution_count": 83,
   "id": "french-slovenia",
   "metadata": {},
   "outputs": [
    {
     "data": {
      "text/plain": [
       "((1780,), (445,))"
      ]
     },
     "execution_count": 83,
     "metadata": {},
     "output_type": "execute_result"
    }
   ],
   "source": [
    "train_text_to_array.shape, val_text_to_array.shape"
   ]
  },
  {
   "cell_type": "markdown",
   "id": "excellent-humanity",
   "metadata": {},
   "source": [
    "#### Step 5. - Tokenization with Keras"
   ]
  },
  {
   "cell_type": "markdown",
   "id": "three-melissa",
   "metadata": {},
   "source": [
    "`Keras-Tokenizer` allows to vectorize a text corpus, by turning each text into either a sequence of integers (each integer being the index of a token in a dictionary) or into a vector.\n",
    "\n",
    "This means that the data is already cleaned, lemmatized etc."
   ]
  },
  {
   "cell_type": "code",
   "execution_count": 84,
   "id": "opponent-civilian",
   "metadata": {},
   "outputs": [],
   "source": [
    "from keras.preprocessing.text import Tokenizer\n",
    "\n",
    "def get_sequence_of_tokens(input_sentences):\n",
    "    tokenizer = Tokenizer()\n",
    "    \n",
    "    tokenizer.fit_on_texts(input_sentences)   \n",
    "    sentences_to_sequences = tokenizer.texts_to_sequences(input_sentences)\n",
    "    \n",
    "    return sentences_to_sequences"
   ]
  },
  {
   "cell_type": "code",
   "execution_count": 85,
   "id": "universal-inspiration",
   "metadata": {},
   "outputs": [],
   "source": [
    "train_text_to_sequences = get_sequence_of_tokens(train_text_to_array)\n",
    "val_text_to_sequences = get_sequence_of_tokens(val_text_to_array)"
   ]
  },
  {
   "cell_type": "code",
   "execution_count": 86,
   "id": "organized-apartment",
   "metadata": {},
   "outputs": [
    {
     "name": "stdout",
     "output_type": "stream",
     "text": [
      "[list(['tv', 'futur', 'in', 'the', 'hand', 'of', 'viewer', 'with', 'home', 'theatr', 'system', 'plasma', 'high-definit', 'tv', 'and', 'digit', 'video', 'record', 'move', 'into', 'the', 'live', 'room', 'the', 'way', 'peopl', 'watch', 'tv', 'will', 'be', 'radic', 'differ', 'in', 'five', 'year', 'time', '.', 'that', 'is', 'accord', 'to', 'an', 'expert', 'panel', 'which', 'gather', 'at', 'the', 'annual', 'consum', 'electron', 'show', 'in', 'la', 'vega', 'to', 'discuss', 'how', 'these', 'new', 'technolog', 'will', 'impact', 'one', 'of', 'our', 'favourit', 'pastim', '.', 'with', 'the', 'us', 'lead', 'the', 'trend', 'programm', 'and', 'other', 'content', 'will', 'be', 'deliv', 'to', 'viewer', 'via', 'home', 'network', 'through', 'cabl', 'satellit', 'telecom', 'compani', 'and', 'broadband', 'servic', 'provid', 'to', 'front', 'room', 'and', 'portabl', 'devic', '.', 'one', 'of', 'the', 'most', 'talked-about', 'technolog', 'of', 'ce', 'ha', 'been', 'digit', 'and', 'person', 'video', 'record', '(', 'dvr', 'and', 'pvr', ')', '.', 'these', 'set-top', 'box', 'like', 'the', 'us', 's', 'tivo', 'and', 'the', 'uk', 's', 'sky+', 'system', 'allow', 'peopl', 'to', 'record', 'store', 'play', 'paus', 'and', 'forward', 'wind', 'tv', 'programm', 'when', 'they', 'want', '.', 'essenti', 'the', 'technolog', 'allow', 'for', 'much', 'more', 'personalis', 'tv', '.', 'they', 'are', 'also', 'be', 'built-in', 'to', 'high-definit', 'tv', 'set', 'which', 'are', 'big', 'busi', 'in', 'japan', 'and', 'the', 'us', 'but', 'slower', 'to', 'take', 'off', 'in', 'europ', 'becaus', 'of', 'the', 'lack', 'of', 'high-definit', 'program', '.', 'not', 'onli', 'can', 'peopl', 'forward', 'wind', 'through', 'advert', 'they', 'can', 'also', 'forget', 'about', 'abid', 'by', 'network', 'and', 'channel', 'schedul', 'put', 'togeth', 'their', 'own', 'a-la-cart', 'entertain', '.', 'but', 'some', 'us', 'network', 'and', 'cabl', 'and', 'satellit', 'compani', 'are', 'worri', 'about', 'what', 'it', 'mean', 'for', 'them', 'in', 'term', 'of', 'advertis', 'revenu', 'as', 'well', 'as', 'brand', 'ident', 'and', 'viewer', 'loyalti', 'to', 'channel', '.', 'although', 'the', 'us', 'lead', 'in', 'thi', 'technolog', 'at', 'the', 'moment', 'it', 'is', 'also', 'a', 'concern', 'that', 'is', 'be', 'rais', 'in', 'europ', 'particularli', 'with', 'the', 'grow', 'uptak', 'of', 'servic', 'like', 'sky+', '.', 'what', 'happen', 'here', 'today', 'we', 'will', 'see', 'in', 'nine', 'month', 'to', 'a', 'year', 'time', 'in', 'the', 'uk', 'adam', 'hume', 'the', 'bbc', 'broadcast', 's', 'futurologist', 'told', 'the', 'bbc', 'news', 'websit', '.', 'for', 'the', 'like', 'of', 'the', 'bbc', 'there', 'are', 'no', 'issu', 'of', 'lost', 'advertis', 'revenu', 'yet', '.', 'it', 'is', 'a', 'more', 'press', 'issu', 'at', 'the', 'moment', 'for', 'commerci', 'uk', 'broadcast', 'but', 'brand', 'loyalti', 'is', 'import', 'for', 'everyon', '.', 'we', 'will', 'be', 'talk', 'more', 'about', 'content', 'brand', 'rather', 'than', 'network', 'brand', 'said', 'tim', 'hanlon', 'from', 'brand', 'commun', 'firm', 'starcom', 'mediavest', '.', 'the', 'realiti', 'is', 'that', 'with', 'broadband', 'connect', 'anybodi', 'can', 'be', 'the', 'produc', 'of', 'content', '.', 'he', 'ad', ':', 'the', 'challeng', 'now', 'is', 'that', 'it', 'is', 'hard', 'to', 'promot', 'a', 'programm', 'with', 'so', 'much', 'choic', '.', 'what', 'thi', 'mean', 'said', 'stacey', 'jolna', 'senior', 'vice', 'presid', 'of', 'tv', 'guid', 'tv', 'group', 'is', 'that', 'the', 'way', 'peopl', 'find', 'the', 'content', 'they', 'want', 'to', 'watch', 'ha', 'to', 'be', 'simplifi', 'for', 'tv', 'viewer', '.', 'it', 'mean', 'that', 'network', 'in', 'us', 'term', 'or', 'channel', 'could', 'take', 'a', 'leaf', 'out', 'of', 'googl', 's', 'book', 'and', 'be', 'the', 'search', 'engin', 'of', 'the', 'futur', 'instead', 'of', 'the', 'schedul', 'to', 'help', 'peopl', 'find', 'what', 'they', 'want', 'to', 'watch', '.', 'thi', 'kind', 'of', 'channel', 'model', 'might', 'work', 'for', 'the', 'younger', 'ipod', 'gener', 'which', 'is', 'use', 'to', 'take', 'control', 'of', 'their', 'gadget', 'and', 'what', 'they', 'play', 'on', 'them', '.', 'but', 'it', 'might', 'not', 'suit', 'everyon', 'the', 'panel', 'recognis', '.', 'older', 'gener', 'are', 'more', 'comfort', 'with', 'familiar', 'schedul', 'and', 'channel', 'brand', 'becaus', 'they', 'know', 'what', 'they', 'are', 'get', '.', 'they', 'perhap', 'do', 'not', 'want', 'so', 'much', 'of', 'the', 'choic', 'put', 'into', 'their', 'hand', 'mr', 'hanlon', 'suggest', '.', 'on', 'the', 'other', 'end', 'you', 'have', 'the', 'kid', 'just', 'out', 'of', 'diaper', 'who', 'are', 'push', 'button', 'alreadi', '-', 'everyth', 'is', 'possibl', 'and', 'avail', 'to', 'them', 'said', 'mr', 'hanlon', '.', 'ultim', 'the', 'consum', 'will', 'tell', 'the', 'market', 'they', 'want', '.', 'of', 'the', '50', '000', 'new', 'gadget', 'and', 'technolog', 'be', 'showcas', 'at', 'ce', 'mani', 'of', 'them', 'are', 'about', 'enhanc', 'the', 'tv-watch', 'experi', '.', 'high-definit', 'tv', 'set', 'are', 'everywher', 'and', 'mani', 'new', 'model', 'of', 'lcd', '(', 'liquid', 'crystal', 'display', ')', 'tv', 'have', 'been', 'launch', 'with', 'dvr', 'capabl', 'built', 'into', 'them', 'instead', 'of', 'be', 'extern', 'box', '.', 'one', 'such', 'exampl', 'launch', 'at', 'the', 'show', 'is', 'humax', 's', '26-inch', 'lcd', 'tv', 'with', 'an', '80-hour', 'tivo', 'dvr', 'and', 'dvd', 'record', '.', 'one', 'of', 'the', 'us', 's', 'biggest', 'satellit', 'tv', 'compani', 'directtv', 'ha', 'even', 'launch', 'it', 'own', 'brand', 'dvr', 'at', 'the', 'show', 'with', '100-hour', 'of', 'record', 'capabl', 'instant', 'replay', 'and', 'a', 'search', 'function', '.', 'the', 'set', 'can', 'paus', 'and', 'rewind', 'tv', 'for', 'up', 'to', '90', 'hour', '.', 'and', 'microsoft', 'chief', 'bill', 'gate', 'announc', 'in', 'hi', 'pre-show', 'keynot', 'speech', 'a', 'partnership', 'with', 'tivo', 'call', 'tivotogo', 'which', 'mean', 'peopl', 'can', 'play', 'record', 'programm', 'on', 'window', 'pc', 'and', 'mobil', 'devic', '.', 'all', 'these', 'reflect', 'the', 'increas', 'trend', 'of', 'free', 'up', 'multimedia', 'so', 'that', 'peopl', 'can', 'watch', 'what', 'they', 'want', 'when', 'they', 'want', '.'])\n",
      " list(['worldcom', 'boss', 'left', 'book', 'alon', 'former', 'worldcom', 'boss', 'berni', 'ebber', 'who', 'is', 'accus', 'of', 'overse', 'an', '$', '11bn', '(', '£5.8bn', ')', 'fraud', 'never', 'made', 'account', 'decis', 'a', 'wit', 'ha', 'told', 'juror', '.', 'david', 'myer', 'made', 'the', 'comment', 'under', 'question', 'by', 'defenc', 'lawyer', 'who', 'have', 'been', 'argu', 'that', 'mr', 'ebber', 'wa', 'not', 'respons', 'for', 'worldcom', 's', 'problem', '.', 'the', 'phone', 'compani', 'collaps', 'in', '2002', 'and', 'prosecutor', 'claim', 'that', 'loss', 'were', 'hidden', 'to', 'protect', 'the', 'firm', 's', 'share', '.', 'mr', 'myer', 'ha', 'alreadi', 'plead', 'guilti', 'to', 'fraud', 'and', 'is', 'assist', 'prosecutor', '.', 'on', 'monday', 'defenc', 'lawyer', 'reid', 'weingarten', 'tri', 'to', 'distanc', 'hi', 'client', 'from', 'the', 'alleg', '.', 'dure', 'cross', 'examin', 'he', 'ask', 'mr', 'myer', 'if', 'he', 'ever', 'knew', 'mr', 'ebber', 'make', 'an', 'account', 'decis', '.', 'not', 'that', 'i', 'am', 'awar', 'of', 'mr', 'myer', 'repli', '.', 'did', 'you', 'ever', 'know', 'mr', 'ebber', 'to', 'make', 'an', 'account', 'entri', 'into', 'worldcom', 'book', 'mr', 'weingarten', 'press', '.', 'no', 'repli', 'the', 'wit', '.', 'mr', 'myer', 'ha', 'admit', 'that', 'he', 'order', 'fals', 'account', 'entri', 'at', 'the', 'request', 'of', 'former', 'worldcom', 'chief', 'financi', 'offic', 'scott', 'sullivan', '.', 'defenc', 'lawyer', 'have', 'been', 'tri', 'to', 'paint', 'mr', 'sullivan', 'who', 'ha', 'admit', 'fraud', 'and', 'will', 'testifi', 'later', 'in', 'the', 'trial', 'as', 'the', 'mastermind', 'behind', 'worldcom', 's', 'account', 'hous', 'of', 'card', '.', 'mr', 'ebber', 'team', 'meanwhil', 'are', 'look', 'to', 'portray', 'him', 'as', 'an', 'affabl', 'boss', 'who', 'by', 'hi', 'own', 'admiss', 'is', 'more', 'pe', 'graduat', 'than', 'economist', '.', 'whatev', 'hi', 'abil', 'mr', 'ebber', 'transform', 'worldcom', 'from', 'a', 'rel', 'unknown', 'into', 'a', '$', '160bn', 'telecom', 'giant', 'and', 'investor', 'darl', 'of', 'the', 'late', '1990', '.', 'worldcom', 's', 'problem', 'mount', 'howev', 'as', 'competit', 'increas', 'and', 'the', 'telecom', 'boom', 'peter', 'out', '.', 'when', 'the', 'firm', 'final', 'collaps', 'sharehold', 'lost', 'about', '$', '180bn', 'and', '20', '000', 'worker', 'lost', 'their', 'job', '.', 'mr', 'ebber', 'trial', 'is', 'expect', 'to', 'last', 'two', 'month', 'and', 'if', 'found', 'guilti', 'the', 'former', 'ceo', 'face', 'a', 'substanti', 'jail', 'sentenc', '.', 'he', 'ha', 'firmli', 'declar', 'hi', 'innoc', '.'])\n",
      " list(['tiger', 'wari', 'of', 'farrel', 'gambl', 'leicest', 'say', 'they', 'will', 'not', 'be', 'rush', 'into', 'make', 'a', 'bid', 'for', 'andi', 'farrel', 'should', 'the', 'great', 'britain', 'rugbi', 'leagu', 'captain', 'decid', 'to', 'switch', 'code', '.', 'we', 'and', 'anybodi', 'els', 'involv', 'in', 'the', 'process', 'are', 'still', 'some', 'way', 'away', 'from', 'go', 'to', 'the', 'next', 'stage', 'tiger', 'boss', 'john', 'well', 'told', 'bbc', 'radio', 'leicest', '.', 'at', 'the', 'moment', 'there', 'are', 'still', 'a', 'lot', 'of', 'unknown', 'about', 'andi', 'farrel', 'not', 'least', 'hi', 'medic', 'situat', '.', 'whoever', 'doe', 'take', 'him', 'on', 'is', 'go', 'to', 'take', 'a', 'big', 'big', 'gambl', '.', 'farrel', 'who', 'ha', 'had', 'persist', 'knee', 'problem', 'had', 'an', 'oper', 'on', 'hi', 'knee', 'five', 'week', 'ago', 'and', 'is', 'expect', 'to', 'be', 'out', 'for', 'anoth', 'three', 'month', '.', 'leicest', 'and', 'saracen', 'are', 'believ', 'to', 'head', 'the', 'list', 'of', 'rugbi', 'union', 'club', 'interest', 'in', 'sign', 'farrel', 'if', 'he', 'decid', 'to', 'move', 'to', 'the', '15-man', 'game', '.', 'if', 'he', 'doe', 'move', 'across', 'to', 'union', 'well', 'believ', 'he', 'would', 'better', 'off', 'play', 'in', 'the', 'back', 'at', 'least', 'initi', '.', 'i', 'm', 'sure', 'he', 'could', 'make', 'the', 'step', 'between', 'leagu', 'and', 'union', 'by', 'be', 'involv', 'in', 'the', 'centr', 'said', 'well', '.', 'i', 'think', 'england', 'would', 'prefer', 'him', 'to', 'progress', 'to', 'a', 'posit', 'in', 'the', 'back', 'row', 'where', 'they', 'can', 'make', 'use', 'of', 'some', 'of', 'hi', 'rugbi', 'leagu', 'skill', 'within', 'the', 'forward', '.', 'the', 'juri', 'is', 'out', 'on', 'whether', 'he', 'can', 'cross', 'that', 'divid', '.', 'at', 'thi', 'club', 'the', 'balanc', 'will', 'have', 'to', 'be', 'struck', 'between', 'the', 'cost', 'of', 'that', 'gambl', 'and', 'the', 'option', 'of', 'bring', 'in', 'a', 'ready-mad', 'replac', '.'])\n",
      " list(['yead', 'face', 'newcastl', 'in', 'fa', 'cup', 'premiership', 'side', 'newcastl', 'unit', 'face', 'a', 'trip', 'to', 'ryman', 'premier', 'leagu', 'leader', 'yead', 'in', 'the', 'fa', 'cup', 'third', 'round', '.', 'the', 'game', '-', 'arguabl', 'the', 'highlight', 'of', 'the', 'draw', '-', 'is', 'a', 'potenti', 'money-spinn', 'for', 'non-leagu', 'yead', 'who', 'beat', 'slough', 'in', 'the', 'second', 'round', '.', 'confer', 'side', 'exet', 'citi', 'who', 'knock', 'out', 'doncast', 'on', 'saturday', 'will', 'travel', 'to', 'old', 'trafford', 'to', 'meet', 'holder', 'manchest', 'unit', 'in', 'januari', '.', 'arsen', 'were', 'drawn', 'at', 'home', 'to', 'stoke', 'and', 'chelsea', 'will', 'play', 'host', 'to', 'scunthorp', '.', 'the', 'onli', 'other', 'non-leagu', 'side', 'in', 'the', 'draw', 'are', 'hinckley', 'unit', 'who', 'held', 'brentford', 'to', 'a', 'goalless', 'draw', 'on', 'sunday', '.', 'they', 'will', 'meet', 'leagu', 'one', 'leader', 'luton', 'if', 'they', 'win', 'their', 'replay', 'against', 'martin', 'allen', 's', 'team', 'at', 'griffin', 'park', '.', 'a', 'number', 'of', 'premiership', 'team', 'face', 'difficult', 'away', 'game', 'against', 'championship', 'side', 'on', 'the', 'weekend', 'of', '8/9', 'januari', '.', 'third-plac', 'everton', 'visit', 'plymouth', 'liverpool', 'travel', 'to', 'burnley', 'crystal', 'palac', 'go', 'to', 'sunderland', 'fulham', 'face', 'carl', 'cup', 'semi-finalist', 'watford', 'bolton', 'meet', 'ipswich', 'while', 'aston', 'villa', 'were', 'drawn', 'against', 'sheffield', 'unit', '.', 'premiership', 'struggler', 'norwich', 'blackburn', 'west', 'brom', 'are', 'away', 'at', 'west', 'ham', 'cardiff', 'and', 'preston', 'north', 'end', 'respect', '.', 'southampton', 'visit', 'northampton', 'have', 'alreadi', 'beaten', 'the', 'leagu', 'two', 'side', 'in', 'the', 'carl', 'cup', 'earlier', 'thi', 'season', '.', 'middlesbrough', 'were', 'drawn', 'away', 'against', 'either', 'swindon', 'or', 'nott', 'counti', 'while', 'spur', 'entertain', 'brighton', 'at', 'white', 'hart', 'lane', '.', 'arsen', 'v', 'stoke', 'swindon/nott', 'co', 'v', 'middlesbrough', 'man', 'utd', 'v', 'exet', 'plymouth', 'v', 'everton', 'leicest', 'v', 'blackpool', 'derbi', 'v', 'wigan', 'sunderland', 'v', 'crystal', 'palac', 'wolv', 'v', 'millwal', 'yead', 'v', 'newcastl', 'hull', 'v', 'colchest', 'tottenham', 'v', 'brighton', 'read', 'v', 'stockport/swansea', 'birmingham', 'v', 'leed', 'hartlepool', 'v', 'boston', 'milton', 'keyn', 'don', 'v', 'peterborough', 'oldham', 'v', 'man', 'citi', 'chelsea', 'v', 'scunthorp', 'cardiff', 'v', 'blackburn', 'charlton', 'v', 'rochdal', 'west', 'ham', 'v', 'norwich', 'sheff', 'utd', 'v', 'aston', 'villa', 'preston', 'v', 'west', 'brom', 'rotherham', 'v', 'yeovil', 'burnley', 'v', 'liverpool', 'bournemouth', 'v', 'chester', 'coventri', 'v', 'crew', 'watford', 'v', 'fulham', 'ipswich', 'v', 'bolton', 'portsmouth', 'v', 'gillingham', 'northampton', 'v', 'southampton', 'qpr', 'v', 'nottm', 'forest', 'luton', 'v', 'hinckley/brentford', 'match', 'to', 'be', 'play', 'on', 'weekend', 'of', '8/9', 'januari', '.'])\n",
      " list(['ocean', 's', 'twelv', 'raid', 'box', 'offic', 'ocean', 's', 'twelv', 'the', 'crime', 'caper', 'sequel', 'star', 'georg', 'clooney', 'brad', 'pitt', 'and', 'julia', 'robert', 'ha', 'gone', 'straight', 'to', 'number', 'one', 'in', 'the', 'us', 'box', 'offic', 'chart', '.', 'it', 'took', '$', '40.8m', '(', '£21m', ')', 'in', 'weekend', 'ticket', 'sale', 'accord', 'to', 'studio', 'estim', '.', 'the', 'sequel', 'follow', 'the', 'master', 'crimin', 'as', 'they', 'tri', 'to', 'pull', 'off', 'three', 'major', 'heist', 'across', 'europ', '.', 'it', 'knock', 'last', 'week', 's', 'number', 'one', 'nation', 'treasur', 'into', 'third', 'place', '.', 'wesley', 'snipe', 'blade', ':', 'triniti', 'wa', 'in', 'second', 'take', '$', '16.1m', '(', '£8.4m', ')', '.', 'round', 'out', 'the', 'top', 'five', 'wa', 'anim', 'fabl', 'the', 'polar', 'express', 'star', 'tom', 'hank', 'and', 'festiv', 'comedi', 'christma', 'with', 'the', 'krank', '.', 'ocean', 's', 'twelv', 'box', 'offic', 'triumph', 'mark', 'the', 'fourth-biggest', 'open', 'for', 'a', 'decemb', 'releas', 'in', 'the', 'us', 'after', 'the', 'three', 'film', 'in', 'the', 'lord', 'of', 'the', 'ring', 'trilog', '.', 'the', 'sequel', 'narrowli', 'beat', 'it', '2001', 'predecessor', 'ocean', 's', 'eleven', 'which', 'took', '$', '38.1m', '(', '£19.8m', ')', 'on', 'it', 'open', 'weekend', 'and', '$', '184m', '(', '£95.8m', ')', 'in', 'total', '.', 'a', 'remak', 'of', 'the', '1960', 'film', 'star', 'frank', 'sinatra', 'and', 'the', 'rat', 'pack', 'ocean', 's', 'eleven', 'wa', 'direct', 'by', 'oscar-win', 'director', 'steven', 'soderbergh', '.', 'soderbergh', 'return', 'to', 'direct', 'the', 'hit', 'sequel', 'which', 'reunit', 'clooney', 'pitt', 'and', 'robert', 'with', 'matt', 'damon', 'andi', 'garcia', 'and', 'elliott', 'gould', '.', 'catherin', 'zeta-jon', 'join', 'the', 'all-star', 'cast', '.', 'it', 's', 'just', 'a', 'fun', 'good', 'holiday', 'movi', 'said', 'dan', 'fellman', 'presid', 'of', 'distribut', 'at', 'warner', 'bros.', 'howev', 'us', 'critic', 'were', 'less', 'complimentari', 'about', 'the', '$', '110m', '(', '£57.2m', ')', 'project', 'with', 'the', 'lo', 'angel', 'time', 'label', 'it', 'a', 'dispirit', 'vaniti', 'project', '.', 'a', 'milder', 'review', 'in', 'the', 'new', 'york', 'time', 'dub', 'the', 'sequel', 'unabashedli', 'trivial', '.'])]\n",
      "[[224, 311, 7, 1, 484, 4, 1128, 18, 148, 1116, 198, 5175, 1583, 224, 5, 278, 352, 183, 179, 89, 1, 288, 1435, 1, 125, 50, 640, 224, 22, 15, 2544, 358, 7, 248, 36, 71, 2, 12, 11, 289, 3, 37, 1075, 1313, 39, 1314, 23, 1, 755, 309, 797, 98, 7, 1400, 2969, 3, 800, 171, 209, 51, 164, 22, 954, 57, 4, 158, 835, 8601, 2, 18, 1, 54, 281, 1, 1341, 351, 5, 76, 546, 22, 15, 856, 3, 1128, 955, 148, 304, 216, 1282, 1876, 1283, 94, 5, 424, 112, 341, 3, 1022, 1435, 5, 1076, 466, 2, 57, 4, 1, 139, 13680, 164, 4, 2341, 21, 41, 278, 5, 313, 352, 183, 45, 5581, 5, 3167, 44, 2, 209, 3388, 715, 82, 1, 54, 9, 3849, 5, 1, 97, 9, 6097, 198, 269, 50, 3, 183, 888, 79, 3276, 5, 599, 3538, 224, 351, 74, 32, 103, 2, 1671, 1, 164, 269, 10, 176, 43, 4034, 224, 2, 32, 26, 46, 15, 4035, 3, 1583, 224, 130, 39, 26, 300, 204, 7, 619, 5, 1, 54, 25, 2687, 3, 85, 190, 7, 315, 126, 4, 1, 1117, 4, 1583, 548, 2, 28, 104, 56, 50, 599, 3538, 216, 2106, 32, 56, 46, 2189, 55, 6720, 24, 304, 5, 996, 1505, 191, 788, 42, 207, 13681, 836, 2, 25, 92, 54, 304, 5, 1282, 5, 1876, 94, 26, 908, 55, 91, 8, 299, 10, 107, 7, 515, 4, 1401, 922, 19, 145, 19, 901, 2190, 5, 1128, 4286, 3, 996, 2, 416, 1, 54, 281, 7, 35, 164, 23, 1, 757, 8, 11, 46, 6, 364, 12, 11, 15, 501, 7, 315, 947, 18, 1, 565, 7505, 4, 112, 82, 6097, 2, 91, 472, 566, 632, 34, 22, 166, 7, 1188, 132, 3, 6, 36, 71, 7, 1, 97, 1877, 13682, 1, 136, 688, 9, 10335, 111, 1, 136, 212, 359, 2, 10, 1, 82, 4, 1, 136, 53, 26, 105, 199, 4, 427, 1401, 922, 526, 2, 8, 11, 6, 43, 763, 199, 23, 1, 757, 10, 1236, 97, 688, 25, 901, 4286, 11, 345, 10, 975, 2, 34, 22, 15, 339, 43, 55, 546, 901, 586, 63, 304, 901, 14, 1419, 8602, 29, 901, 455, 102, 13683, 13684, 2, 1, 1718, 11, 12, 18, 424, 675, 2688, 56, 15, 1, 322, 4, 546, 2, 17, 118, 59, 1, 597, 90, 11, 12, 8, 11, 456, 3, 1009, 6, 351, 18, 96, 176, 735, 2, 91, 35, 299, 14, 13685, 13686, 878, 1790, 373, 4, 224, 2342, 224, 163, 11, 12, 1, 125, 50, 316, 1, 546, 32, 103, 3, 640, 21, 3, 15, 5582, 10, 224, 1128, 2, 8, 299, 12, 304, 7, 54, 515, 60, 996, 68, 85, 6, 10336, 61, 4, 1161, 9, 461, 5, 15, 1, 589, 940, 4, 1, 311, 785, 4, 1, 1505, 3, 159, 50, 316, 91, 32, 103, 3, 640, 2, 35, 1198, 4, 996, 902, 539, 95, 10, 1, 2070, 1162, 184, 39, 11, 67, 3, 85, 305, 4, 42, 576, 5, 91, 32, 79, 13, 107, 2, 25, 8, 539, 28, 1691, 975, 1, 1313, 1209, 2, 1719, 184, 26, 43, 2435, 18, 2883, 1505, 5, 996, 901, 126, 32, 283, 91, 32, 26, 83, 2, 32, 1467, 87, 28, 103, 96, 176, 4, 1, 735, 191, 89, 42, 484, 31, 8602, 375, 2, 13, 1, 76, 180, 69, 20, 1, 2343, 106, 61, 4, 13687, 48, 26, 916, 5176, 249, 30, 1077, 11, 440, 5, 633, 3, 107, 14, 31, 8602, 2, 1563, 1, 309, 22, 863, 1, 108, 32, 103, 2, 4, 1, 736, 141, 51, 576, 5, 164, 15, 2545, 23, 2341, 123, 4, 107, 26, 55, 2743, 1, 13688, 857, 2, 1583, 224, 130, 26, 5583, 5, 123, 51, 902, 4, 5177, 45, 3539, 3540, 1173, 44, 224, 20, 41, 347, 18, 5581, 1402, 1342, 89, 107, 785, 4, 15, 3541, 715, 2, 57, 120, 976, 347, 23, 1, 98, 11, 13689, 9, 13690, 5177, 224, 18, 37, 13691, 3849, 5581, 5, 658, 183, 2, 57, 4, 1, 54, 9, 446, 1876, 224, 94, 13692, 21, 192, 347, 8, 207, 901, 5581, 23, 1, 98, 18, 13693, 4, 183, 1402, 4287, 2689, 5, 6, 589, 1791, 2, 1, 130, 56, 3276, 5, 6721, 224, 10, 49, 3, 1818, 558, 2, 5, 449, 261, 354, 2107, 286, 7, 33, 6098, 3389, 923, 6, 2494, 18, 3849, 147, 13694, 39, 299, 50, 56, 79, 183, 351, 13, 870, 399, 5, 202, 466, 2, 66, 209, 1107, 1, 197, 1341, 4, 583, 49, 1624, 96, 12, 50, 56, 640, 91, 32, 103, 74, 32, 103, 2], [1819, 695, 441, 461, 1450, 272, 1819, 695, 4831, 1641, 48, 11, 669, 4, 3277, 37, 84, 4553, 45, 13695, 44, 997, 434, 114, 462, 287, 6, 2158, 21, 111, 3850, 2, 533, 4832, 114, 1, 506, 213, 498, 24, 998, 987, 48, 20, 41, 683, 12, 31, 1641, 16, 28, 435, 10, 1819, 9, 258, 2, 1, 210, 94, 1720, 7, 1095, 5, 1721, 174, 12, 924, 47, 2744, 3, 519, 1, 102, 9, 187, 2, 31, 4832, 21, 249, 2191, 1451, 3, 997, 5, 11, 1328, 1721, 2, 13, 615, 998, 987, 4554, 6722, 188, 3, 2108, 33, 1942, 29, 1, 889, 2, 270, 1129, 2192, 17, 306, 31, 4832, 65, 17, 559, 1606, 31, 1641, 73, 37, 462, 287, 2, 28, 12, 27, 480, 1289, 4, 31, 4832, 2546, 2, 205, 69, 559, 283, 31, 1641, 3, 73, 37, 462, 1642, 89, 1819, 461, 31, 6722, 763, 2, 105, 2546, 1, 2158, 2, 31, 4832, 21, 747, 12, 17, 489, 1943, 462, 1642, 23, 1, 1846, 4, 272, 1819, 261, 475, 263, 1643, 1255, 2, 998, 987, 20, 41, 188, 3, 2547, 31, 1255, 48, 21, 747, 997, 5, 22, 6723, 410, 7, 1, 624, 19, 1, 6724, 579, 1819, 9, 462, 323, 4, 476, 2, 31, 1641, 273, 948, 26, 146, 3, 2615, 160, 19, 37, 13696, 695, 48, 24, 33, 207, 3390, 11, 43, 13697, 3699, 63, 1066, 2, 1944, 33, 1256, 31, 1641, 2495, 1819, 29, 6, 1452, 3851, 89, 6, 84, 13698, 1283, 748, 5, 810, 5178, 4, 1, 789, 1945, 2, 1819, 9, 258, 2884, 203, 19, 520, 197, 5, 1, 1283, 1792, 1163, 61, 2, 74, 1, 102, 260, 1720, 999, 427, 55, 84, 6725, 5, 511, 141, 858, 427, 42, 267, 2, 31, 1641, 624, 11, 143, 3, 72, 86, 132, 5, 65, 348, 1451, 1, 272, 6099, 225, 6, 2109, 1506, 1541, 2, 17, 21, 3852, 1564, 33, 2548, 2], [2616, 4833, 4, 3066, 2813, 1257, 64, 32, 22, 28, 15, 2159, 89, 73, 6, 507, 10, 1049, 3066, 117, 1, 317, 274, 620, 682, 1078, 544, 3, 1542, 1096, 2, 34, 5, 2688, 1519, 547, 7, 1, 743, 26, 172, 92, 125, 390, 29, 80, 3, 1, 137, 641, 2616, 695, 467, 145, 111, 136, 369, 1257, 2, 23, 1, 757, 53, 26, 172, 6, 343, 4, 3851, 55, 1049, 3066, 28, 625, 33, 1847, 988, 2, 5584, 436, 85, 160, 13, 11, 80, 3, 85, 6, 300, 300, 2813, 2, 3066, 48, 21, 38, 2970, 2110, 258, 38, 37, 276, 13, 33, 2110, 248, 133, 573, 5, 11, 143, 3, 15, 61, 10, 314, 149, 132, 2, 1257, 5, 4288, 26, 193, 3, 481, 1, 344, 4, 620, 453, 291, 246, 7, 402, 3066, 65, 17, 544, 3, 179, 3, 1, 10337, 62, 2, 65, 17, 436, 179, 560, 3, 453, 145, 193, 17, 40, 370, 190, 79, 7, 1, 109, 23, 625, 689, 2, 27, 238, 692, 17, 68, 73, 1, 670, 196, 682, 5, 453, 24, 15, 547, 7, 1, 542, 14, 145, 2, 27, 151, 185, 40, 1468, 160, 3, 1189, 3, 6, 400, 7, 1, 109, 1097, 220, 32, 56, 73, 67, 4, 92, 4, 33, 620, 682, 1290, 634, 1, 599, 2, 1, 2549, 11, 61, 13, 412, 17, 56, 1129, 12, 1738, 2, 23, 35, 291, 1, 1625, 22, 20, 3, 15, 2392, 196, 1, 247, 4, 12, 2813, 5, 1, 1190, 4, 602, 7, 6, 10338, 594, 2], [7506, 225, 1164, 7, 1626, 421, 1130, 295, 1164, 235, 225, 6, 1848, 3, 10339, 1627, 682, 320, 7506, 7, 1, 1626, 421, 331, 917, 2, 1, 62, 30, 6100, 1, 1315, 4, 1, 1174, 30, 11, 6, 684, 13699, 10, 10340, 7506, 48, 432, 6101, 7, 1, 169, 917, 2, 727, 295, 3853, 636, 48, 1820, 61, 10341, 13, 650, 22, 909, 3, 771, 3278, 3, 242, 2111, 830, 235, 7, 413, 2, 728, 47, 1739, 23, 148, 3, 4834, 5, 590, 22, 79, 711, 3, 10342, 2, 1, 104, 76, 10340, 295, 7, 1, 1174, 26, 8603, 235, 48, 516, 5179, 3, 6, 8604, 1174, 13, 512, 2, 32, 22, 242, 682, 57, 320, 5585, 65, 32, 110, 42, 2689, 99, 864, 4835, 9, 273, 23, 5180, 1108, 2, 6, 115, 4, 1130, 273, 225, 721, 390, 62, 99, 837, 295, 13, 1, 845, 4, 10343, 413, 2, 13700, 1849, 1050, 7507, 786, 909, 3, 3168, 3540, 3391, 80, 3, 3067, 3854, 225, 2617, 421, 8605, 8606, 2436, 242, 7508, 138, 2814, 2815, 47, 1739, 99, 2193, 235, 2, 1130, 13701, 2283, 2344, 826, 4836, 26, 390, 23, 826, 2816, 1343, 5, 4837, 1191, 180, 1038, 2, 2239, 1050, 3392, 20, 249, 2112, 1, 682, 86, 295, 7, 1, 2617, 421, 463, 35, 425, 2, 3542, 47, 1739, 390, 99, 903, 6726, 60, 10344, 4555, 138, 2885, 836, 3855, 23, 1039, 3543, 2496, 2, 728, 879, 4834, 13702, 8607, 879, 3542, 513, 2745, 879, 3853, 7507, 879, 1849, 1257, 879, 3068, 3279, 879, 7509, 3067, 879, 3540, 3391, 3169, 879, 4289, 7506, 879, 1164, 10345, 879, 7510, 2618, 879, 3855, 1010, 879, 13703, 1543, 879, 2113, 6102, 879, 3393, 10346, 13704, 259, 879, 10347, 5586, 879, 513, 636, 590, 879, 10342, 1343, 879, 2344, 3170, 879, 8608, 826, 2816, 879, 2283, 10348, 2745, 879, 2814, 2815, 4837, 879, 826, 4836, 13705, 879, 8609, 3168, 879, 786, 4290, 879, 10349, 8610, 879, 3856, 8606, 879, 3854, 7508, 879, 2436, 3069, 879, 10350, 3392, 879, 2239, 7511, 879, 10351, 3544, 5585, 879, 13706, 337, 3, 15, 79, 13, 845, 4, 10343, 413, 2], [3394, 9, 4556, 4291, 715, 263, 3394, 9, 4556, 1, 1165, 13707, 2160, 195, 1329, 10352, 5181, 6103, 5, 4036, 890, 21, 1023, 1453, 3, 115, 57, 7, 1, 54, 715, 263, 712, 2, 8, 342, 84, 13708, 45, 10353, 44, 7, 845, 1403, 155, 289, 3, 1079, 880, 2, 1, 2160, 217, 1, 3395, 956, 19, 32, 188, 3, 1301, 190, 149, 325, 13709, 560, 315, 2, 8, 1820, 72, 133, 9, 115, 57, 150, 3700, 89, 331, 214, 2, 13710, 10354, 5182, 59, 10355, 16, 7, 169, 85, 84, 13711, 45, 13712, 44, 2, 917, 61, 1, 178, 248, 16, 1237, 13713, 1, 6727, 1192, 195, 1764, 3171, 5, 676, 961, 811, 18, 1, 10356, 2, 3394, 9, 4556, 715, 263, 2038, 442, 1, 10357, 181, 10, 6, 468, 298, 7, 1, 54, 58, 1, 149, 88, 7, 1, 292, 4, 1, 1960, 4838, 2, 1, 2160, 4557, 432, 8, 941, 4037, 3394, 9, 6104, 39, 342, 84, 13714, 45, 13715, 44, 13, 8, 181, 845, 5, 84, 13716, 45, 13717, 44, 7, 487, 2, 6, 3070, 4, 1, 2817, 88, 195, 2071, 8611, 5, 1, 6105, 1850, 3394, 9, 6104, 16, 531, 24, 4038, 239, 1258, 10358, 2, 10358, 328, 3, 531, 1, 231, 2160, 39, 3396, 10352, 6103, 5, 890, 18, 1644, 10359, 1049, 4558, 5, 5587, 13718, 2, 5183, 13719, 567, 1, 13720, 1584, 2, 8, 9, 106, 6, 1722, 154, 1961, 534, 14, 2971, 13721, 373, 4, 1245, 23, 3701, 7512, 203, 54, 499, 47, 450, 13722, 55, 1, 84, 10360, 45, 13723, 44, 517, 18, 1, 1374, 1015, 71, 1344, 8, 6, 13724, 5184, 517, 2, 6, 8612, 977, 7, 1, 51, 779, 71, 2284, 1, 2160, 13725, 13726, 2]]\n"
     ]
    }
   ],
   "source": [
    "print(train_text_to_array[:5])\n",
    "print(train_text_to_sequences[:5])"
   ]
  },
  {
   "cell_type": "markdown",
   "id": "ahead-leeds",
   "metadata": {},
   "source": [
    "#### 6.Padding the Sequences\n",
    "\n",
    "Now that we have generated a data-set which contains sequence of tokens, it is possible that different sequences have different lengths. Before starting training the model, we need to pad the sequences and make their lengths equal. We can use pad_sequence function of Keras for this purpose."
   ]
  },
  {
   "cell_type": "code",
   "execution_count": 87,
   "id": "cultural-contrast",
   "metadata": {},
   "outputs": [],
   "source": [
    "from tensorflow.keras.preprocessing.sequence import pad_sequences\n",
    "\n",
    "def generate_padded_sequences(input_sequences):\n",
    "    max_sequence = max([len(x) for x in input_sequences])\n",
    "    input_sequences = pad_sequences(input_sequences, maxlen = max_sequence, padding = \"post\", truncating = \"post\")\n",
    "    \n",
    "    return input_sequences, max_sequence"
   ]
  },
  {
   "cell_type": "code",
   "execution_count": 88,
   "id": "invalid-monroe",
   "metadata": {},
   "outputs": [],
   "source": [
    "train_padded, train_max_sequence = generate_padded_sequences(train_text_to_sequences)\n",
    "val_padded, val_max_sequence = generate_padded_sequences(val_text_to_sequences)"
   ]
  },
  {
   "cell_type": "code",
   "execution_count": 89,
   "id": "technical-excitement",
   "metadata": {},
   "outputs": [
    {
     "data": {
      "text/plain": [
       "((1780, 4757), (445, 1483))"
      ]
     },
     "execution_count": 89,
     "metadata": {},
     "output_type": "execute_result"
    }
   ],
   "source": [
    "train_padded.shape, val_padded.shape"
   ]
  },
  {
   "cell_type": "markdown",
   "id": "structural-international",
   "metadata": {},
   "source": [
    "### 6.  LSTMs for Text Generation\n",
    "\n",
    "Unlike Feed-forward neural networks in which activation outputs are propagated only in one direction, the activation outputs from neurons propagate in both directions (from inputs to outputs and from outputs to inputs) in Recurrent Neural Networks. This creates loops in the neural network architecture which acts as a ‘memory state’ of the neurons. This state allows the neurons an ability to remember what have been learned so far.\n",
    "\n",
    "The memory state in RNNs gives an advantage over traditional neural networks but a problem called Vanishing Gradient is associated with them. In this problem, while learning with a large number of layers, it becomes really hard for the network to learn and tune the parameters of the earlier layers. To address this problem, A new type of RNNs called LSTMs (Long Short Term Memory) Models have been developed.\n",
    "\n",
    "LSTMs have an additional state called ‘cell state’ through which the network makes adjustments in the information flow. The advantage of this state is that the model can remember or forget the leanings more selectively. To learn more about LSTMs, here is a great post. Lets architecture a LSTM model in our code. I have added total three layers in the model.\n",
    "\n",
    "1. Input Layer : Takes the sequence of words as input\n",
    "2. LSTM Layer : Computes the output using LSTM units. I have added 100 units in the layer, but this number can be fine tuned later.\n",
    "3. Dropout Layer : A regularisation layer which randomly turns-off the activations of some neurons in the LSTM layer. It helps in preventing over fitting. (Optional Layer)\n",
    "4. Output Layer : Computes the probability of the best possible next word as output\n",
    "\n",
    "We will run this model for total 100 epoochs but it can be experimented further."
   ]
  },
  {
   "cell_type": "code",
   "execution_count": 90,
   "id": "swedish-treasure",
   "metadata": {},
   "outputs": [],
   "source": [
    "from keras.layers import Embedding, LSTM, Dense\n",
    "from keras.models import Sequential\n",
    "from keras.losses import BinaryCrossentropy\n",
    "from keras.optimizers import Adam\n",
    "\n",
    "def create_model(total_words, train_max_sequence):\n",
    "    \"\"\"\n",
    "    Generates a sparse matrix from ratings dataframe.\n",
    "    \n",
    "    Args:\n",
    "        df: pandas dataframe\n",
    "    \n",
    "    Returns:\n",
    "        X: sparse matrix\n",
    "        movie_mapper: dict that maps movie id's to movie indices\n",
    "    \"\"\"\n",
    "    \n",
    "    model = Sequential()\n",
    "    \n",
    "    # Add Input Embedding, Hidden and Ouput Layer\n",
    "    model.add(Embedding(input_dim = total_words, output_dim = 256, input_length = train_max_sequence))\n",
    "    model.add(LSTM(units = 502, dropout = 0.1))\n",
    "    model.add(Dense(units = total_words, activation='sigmoid'))\n",
    "    \n",
    "    loss = BinaryCrossentropy(from_logits = False)\n",
    "    optim = Adam(learning_rate = 0.001)\n",
    "    metrics = [\"accuracy\"]\n",
    "\n",
    "    model.compile(loss = loss, optimizer = optim, metrics = metrics)\n",
    "    \n",
    "    return model"
   ]
  },
  {
   "cell_type": "code",
   "execution_count": 91,
   "id": "heavy-animation",
   "metadata": {},
   "outputs": [
    {
     "name": "stdout",
     "output_type": "stream",
     "text": [
      "Model: \"sequential\"\n",
      "_________________________________________________________________\n",
      "Layer (type)                 Output Shape              Param #   \n",
      "=================================================================\n",
      "embedding (Embedding)        (None, 43771, 256)        1217792   \n",
      "_________________________________________________________________\n",
      "lstm (LSTM)                  (None, 502)               1524072   \n",
      "_________________________________________________________________\n",
      "dense (Dense)                (None, 4757)              2392771   \n",
      "=================================================================\n",
      "Total params: 5,134,635\n",
      "Trainable params: 5,134,635\n",
      "Non-trainable params: 0\n",
      "_________________________________________________________________\n"
     ]
    }
   ],
   "source": [
    "model = create_model(train_max_sequence, total_words)\n",
    "model.summary()"
   ]
  },
  {
   "cell_type": "markdown",
   "id": "literary-glenn",
   "metadata": {},
   "source": [
    "Lets train our model now"
   ]
  },
  {
   "cell_type": "code",
   "execution_count": 92,
   "id": "surgical-democracy",
   "metadata": {},
   "outputs": [],
   "source": [
    "model.fit(train_padded, train_category_ind_to_array, epochs = 100, validation_data = (val_padded, val_category_ind_to_array), verbose=5)"
   ]
  }
 ],
 "metadata": {
  "kernelspec": {
   "display_name": "Python 3",
   "language": "python",
   "name": "python3"
  },
  "language_info": {
   "codemirror_mode": {
    "name": "ipython",
    "version": 3
   },
   "file_extension": ".py",
   "mimetype": "text/x-python",
   "name": "python",
   "nbconvert_exporter": "python",
   "pygments_lexer": "ipython3",
   "version": "3.8.8"
  }
 },
 "nbformat": 4,
 "nbformat_minor": 5
}
