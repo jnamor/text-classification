{
 "cells": [
  {
   "cell_type": "markdown",
   "id": "breeding-ending",
   "metadata": {},
   "source": [
    "### 1. Import the libraries\n",
    "As the first step, we need to import the required libraries."
   ]
  },
  {
   "cell_type": "code",
   "execution_count": 3,
   "id": "motivated-mitchell",
   "metadata": {},
   "outputs": [],
   "source": [
    "import pandas as pd\n",
    "import numpy as np"
   ]
  },
  {
   "cell_type": "markdown",
   "id": "weekly-catalog",
   "metadata": {},
   "source": [
    "### 2. Load the dataset\n",
    "Load the dataset."
   ]
  },
  {
   "cell_type": "code",
   "execution_count": 4,
   "id": "whole-radio",
   "metadata": {},
   "outputs": [
    {
     "data": {
      "text/html": [
       "<div>\n",
       "<style scoped>\n",
       "    .dataframe tbody tr th:only-of-type {\n",
       "        vertical-align: middle;\n",
       "    }\n",
       "\n",
       "    .dataframe tbody tr th {\n",
       "        vertical-align: top;\n",
       "    }\n",
       "\n",
       "    .dataframe thead th {\n",
       "        text-align: right;\n",
       "    }\n",
       "</style>\n",
       "<table border=\"1\" class=\"dataframe\">\n",
       "  <thead>\n",
       "    <tr style=\"text-align: right;\">\n",
       "      <th></th>\n",
       "      <th>category</th>\n",
       "      <th>text</th>\n",
       "    </tr>\n",
       "  </thead>\n",
       "  <tbody>\n",
       "    <tr>\n",
       "      <th>0</th>\n",
       "      <td>tech</td>\n",
       "      <td>tv future in the hands of viewers with home th...</td>\n",
       "    </tr>\n",
       "    <tr>\n",
       "      <th>1</th>\n",
       "      <td>business</td>\n",
       "      <td>worldcom boss  left books alone  former worldc...</td>\n",
       "    </tr>\n",
       "    <tr>\n",
       "      <th>2</th>\n",
       "      <td>sport</td>\n",
       "      <td>tigers wary of farrell  gamble  leicester say ...</td>\n",
       "    </tr>\n",
       "    <tr>\n",
       "      <th>3</th>\n",
       "      <td>sport</td>\n",
       "      <td>yeading face newcastle in fa cup premiership s...</td>\n",
       "    </tr>\n",
       "    <tr>\n",
       "      <th>4</th>\n",
       "      <td>entertainment</td>\n",
       "      <td>ocean s twelve raids box office ocean s twelve...</td>\n",
       "    </tr>\n",
       "  </tbody>\n",
       "</table>\n",
       "</div>"
      ],
      "text/plain": [
       "        category                                               text\n",
       "0           tech  tv future in the hands of viewers with home th...\n",
       "1       business  worldcom boss  left books alone  former worldc...\n",
       "2          sport  tigers wary of farrell  gamble  leicester say ...\n",
       "3          sport  yeading face newcastle in fa cup premiership s...\n",
       "4  entertainment  ocean s twelve raids box office ocean s twelve..."
      ]
     },
     "execution_count": 4,
     "metadata": {},
     "output_type": "execute_result"
    }
   ],
   "source": [
    "df = pd.read_csv('../data/text-classification.csv')\n",
    "df.head()"
   ]
  },
  {
   "cell_type": "code",
   "execution_count": 5,
   "id": "african-split",
   "metadata": {},
   "outputs": [
    {
     "data": {
      "text/plain": [
       "(2225, 2)"
      ]
     },
     "execution_count": 5,
     "metadata": {},
     "output_type": "execute_result"
    }
   ],
   "source": [
    "df.shape"
   ]
  },
  {
   "cell_type": "code",
   "execution_count": 6,
   "id": "communist-purple",
   "metadata": {},
   "outputs": [
    {
     "name": "stdout",
     "output_type": "stream",
     "text": [
      "<class 'pandas.core.frame.DataFrame'>\n",
      "RangeIndex: 2225 entries, 0 to 2224\n",
      "Data columns (total 2 columns):\n",
      " #   Column    Non-Null Count  Dtype \n",
      "---  ------    --------------  ----- \n",
      " 0   category  2225 non-null   object\n",
      " 1   text      2225 non-null   object\n",
      "dtypes: object(2)\n",
      "memory usage: 34.9+ KB\n"
     ]
    }
   ],
   "source": [
    "df.info()"
   ]
  },
  {
   "cell_type": "markdown",
   "id": "grateful-seeking",
   "metadata": {},
   "source": [
    "### 3. Exploratory Data Analysis"
   ]
  },
  {
   "cell_type": "code",
   "execution_count": 7,
   "id": "numerical-paper",
   "metadata": {},
   "outputs": [],
   "source": [
    "from collections import Counter\n",
    "\n",
    "def countWord(list_of_words):            \n",
    "    count = Counter()\n",
    "    for sentence in list_of_words:\n",
    "        for word in sentence.split():\n",
    "            count[word] += 1\n",
    "    \n",
    "    return count"
   ]
  },
  {
   "cell_type": "code",
   "execution_count": 8,
   "id": "super-vertex",
   "metadata": {},
   "outputs": [
    {
     "data": {
      "text/plain": [
       "Counter({'tech': 401,\n",
       "         'business': 510,\n",
       "         'sport': 511,\n",
       "         'entertainment': 386,\n",
       "         'politics': 417})"
      ]
     },
     "execution_count": 8,
     "metadata": {},
     "output_type": "execute_result"
    }
   ],
   "source": [
    "countWord(df['category'])"
   ]
  },
  {
   "cell_type": "code",
   "execution_count": 9,
   "id": "fatty-basin",
   "metadata": {},
   "outputs": [
    {
     "data": {
      "text/plain": [
       "[('the', 52567), ('to', 24955), ('of', 19947), ('and', 18561), ('a', 18251)]"
      ]
     },
     "execution_count": 9,
     "metadata": {},
     "output_type": "execute_result"
    }
   ],
   "source": [
    "counter = countWord(df['text'])\n",
    "counter.most_common(5)"
   ]
  },
  {
   "cell_type": "markdown",
   "id": "heavy-baghdad",
   "metadata": {},
   "source": [
    "### 4. Pre-processing the data\n",
    "The actual data must meet certain conditions before being sent to the model. We will create a `pipeline`: a multi-level system where each level receives its data from the previous level and sends its results to the next level."
   ]
  },
  {
   "cell_type": "markdown",
   "id": "juvenile-scholar",
   "metadata": {},
   "source": [
    "#### 4.1 Tranforming the data\n",
    "We transform the `textual categories` into `index values`."
   ]
  },
  {
   "cell_type": "code",
   "execution_count": 10,
   "id": "reflected-detective",
   "metadata": {},
   "outputs": [],
   "source": [
    "def category_transforming(df):\n",
    "    category_mapper = dict(zip(np.unique(df[\"category\"]), list(range(df['category'].nunique()))))\n",
    "    category_inv_mapper = dict(zip(list(range(df['category'].nunique())), np.unique(df[\"category\"])))\n",
    "    \n",
    "    return category_mapper, category_inv_mapper"
   ]
  },
  {
   "cell_type": "code",
   "execution_count": 11,
   "id": "magnetic-admission",
   "metadata": {},
   "outputs": [],
   "source": [
    "category_mapper, category_inv_mapper = category_transforming(df)"
   ]
  },
  {
   "cell_type": "code",
   "execution_count": 12,
   "id": "built-pressure",
   "metadata": {},
   "outputs": [
    {
     "data": {
      "text/html": [
       "<div>\n",
       "<style scoped>\n",
       "    .dataframe tbody tr th:only-of-type {\n",
       "        vertical-align: middle;\n",
       "    }\n",
       "\n",
       "    .dataframe tbody tr th {\n",
       "        vertical-align: top;\n",
       "    }\n",
       "\n",
       "    .dataframe thead th {\n",
       "        text-align: right;\n",
       "    }\n",
       "</style>\n",
       "<table border=\"1\" class=\"dataframe\">\n",
       "  <thead>\n",
       "    <tr style=\"text-align: right;\">\n",
       "      <th></th>\n",
       "      <th>category</th>\n",
       "      <th>text</th>\n",
       "      <th>category_ind</th>\n",
       "    </tr>\n",
       "  </thead>\n",
       "  <tbody>\n",
       "    <tr>\n",
       "      <th>0</th>\n",
       "      <td>tech</td>\n",
       "      <td>tv future in the hands of viewers with home th...</td>\n",
       "      <td>4</td>\n",
       "    </tr>\n",
       "    <tr>\n",
       "      <th>1</th>\n",
       "      <td>business</td>\n",
       "      <td>worldcom boss  left books alone  former worldc...</td>\n",
       "      <td>0</td>\n",
       "    </tr>\n",
       "    <tr>\n",
       "      <th>2</th>\n",
       "      <td>sport</td>\n",
       "      <td>tigers wary of farrell  gamble  leicester say ...</td>\n",
       "      <td>3</td>\n",
       "    </tr>\n",
       "    <tr>\n",
       "      <th>3</th>\n",
       "      <td>sport</td>\n",
       "      <td>yeading face newcastle in fa cup premiership s...</td>\n",
       "      <td>3</td>\n",
       "    </tr>\n",
       "    <tr>\n",
       "      <th>4</th>\n",
       "      <td>entertainment</td>\n",
       "      <td>ocean s twelve raids box office ocean s twelve...</td>\n",
       "      <td>1</td>\n",
       "    </tr>\n",
       "  </tbody>\n",
       "</table>\n",
       "</div>"
      ],
      "text/plain": [
       "        category                                               text  \\\n",
       "0           tech  tv future in the hands of viewers with home th...   \n",
       "1       business  worldcom boss  left books alone  former worldc...   \n",
       "2          sport  tigers wary of farrell  gamble  leicester say ...   \n",
       "3          sport  yeading face newcastle in fa cup premiership s...   \n",
       "4  entertainment  ocean s twelve raids box office ocean s twelve...   \n",
       "\n",
       "   category_ind  \n",
       "0             4  \n",
       "1             0  \n",
       "2             3  \n",
       "3             3  \n",
       "4             1  "
      ]
     },
     "execution_count": 12,
     "metadata": {},
     "output_type": "execute_result"
    }
   ],
   "source": [
    "category_ind = [category_mapper[i] for i in df['category']]\n",
    "df['category_ind'] = category_ind\n",
    "df.head()"
   ]
  },
  {
   "cell_type": "markdown",
   "id": "colonial-myanmar",
   "metadata": {},
   "source": [
    "We can use another alternative with `scikit-learn` :"
   ]
  },
  {
   "cell_type": "code",
   "execution_count": 13,
   "id": "color-recall",
   "metadata": {},
   "outputs": [],
   "source": [
    "from sklearn.preprocessing import LabelEncoder\n",
    "\n",
    "def category_transforming(list_of_categories):\n",
    "    label_encoder = LabelEncoder()\n",
    "    label_encoder.fit(df['category'])\n",
    "    predicted_label = label_encoder.transform(list_of_categories)\n",
    "    \n",
    "    return predicted_label"
   ]
  },
  {
   "cell_type": "code",
   "execution_count": 14,
   "id": "bizarre-diving",
   "metadata": {},
   "outputs": [
    {
     "data": {
      "text/html": [
       "<div>\n",
       "<style scoped>\n",
       "    .dataframe tbody tr th:only-of-type {\n",
       "        vertical-align: middle;\n",
       "    }\n",
       "\n",
       "    .dataframe tbody tr th {\n",
       "        vertical-align: top;\n",
       "    }\n",
       "\n",
       "    .dataframe thead th {\n",
       "        text-align: right;\n",
       "    }\n",
       "</style>\n",
       "<table border=\"1\" class=\"dataframe\">\n",
       "  <thead>\n",
       "    <tr style=\"text-align: right;\">\n",
       "      <th></th>\n",
       "      <th>category</th>\n",
       "      <th>text</th>\n",
       "      <th>category_ind</th>\n",
       "    </tr>\n",
       "  </thead>\n",
       "  <tbody>\n",
       "    <tr>\n",
       "      <th>0</th>\n",
       "      <td>tech</td>\n",
       "      <td>tv future in the hands of viewers with home th...</td>\n",
       "      <td>4</td>\n",
       "    </tr>\n",
       "    <tr>\n",
       "      <th>1</th>\n",
       "      <td>business</td>\n",
       "      <td>worldcom boss  left books alone  former worldc...</td>\n",
       "      <td>0</td>\n",
       "    </tr>\n",
       "    <tr>\n",
       "      <th>2</th>\n",
       "      <td>sport</td>\n",
       "      <td>tigers wary of farrell  gamble  leicester say ...</td>\n",
       "      <td>3</td>\n",
       "    </tr>\n",
       "    <tr>\n",
       "      <th>3</th>\n",
       "      <td>sport</td>\n",
       "      <td>yeading face newcastle in fa cup premiership s...</td>\n",
       "      <td>3</td>\n",
       "    </tr>\n",
       "    <tr>\n",
       "      <th>4</th>\n",
       "      <td>entertainment</td>\n",
       "      <td>ocean s twelve raids box office ocean s twelve...</td>\n",
       "      <td>1</td>\n",
       "    </tr>\n",
       "  </tbody>\n",
       "</table>\n",
       "</div>"
      ],
      "text/plain": [
       "        category                                               text  \\\n",
       "0           tech  tv future in the hands of viewers with home th...   \n",
       "1       business  worldcom boss  left books alone  former worldc...   \n",
       "2          sport  tigers wary of farrell  gamble  leicester say ...   \n",
       "3          sport  yeading face newcastle in fa cup premiership s...   \n",
       "4  entertainment  ocean s twelve raids box office ocean s twelve...   \n",
       "\n",
       "   category_ind  \n",
       "0             4  \n",
       "1             0  \n",
       "2             3  \n",
       "3             3  \n",
       "4             1  "
      ]
     },
     "execution_count": 14,
     "metadata": {},
     "output_type": "execute_result"
    }
   ],
   "source": [
    "category_ind = category_transforming(df['category'])\n",
    "df['category_ind'] = category_ind\n",
    "df.head()"
   ]
  },
  {
   "cell_type": "markdown",
   "id": "antique-syracuse",
   "metadata": {},
   "source": [
    "#### 4.2 Splitting the Data"
   ]
  },
  {
   "cell_type": "code",
   "execution_count": null,
   "id": "static-popularity",
   "metadata": {},
   "outputs": [],
   "source": []
  },
  {
   "cell_type": "markdown",
   "id": "rotary-pledge",
   "metadata": {},
   "source": [
    "#### 4.3  NLP Pipeline"
   ]
  },
  {
   "cell_type": "code",
   "execution_count": 15,
   "id": "casual-surname",
   "metadata": {},
   "outputs": [],
   "source": [
    "import nltk"
   ]
  },
  {
   "cell_type": "markdown",
   "id": "sized-atmosphere",
   "metadata": {},
   "source": [
    "#### Step 1 -  Remove URL's"
   ]
  },
  {
   "cell_type": "code",
   "execution_count": 16,
   "id": "enclosed-edward",
   "metadata": {},
   "outputs": [],
   "source": [
    "import re\n",
    "\n",
    "def remove_links(text):\n",
    "    url = re.compile(r\"https?://\\S+|www\\.\\S+\")\n",
    "    return url.sub(\"\", text)"
   ]
  },
  {
   "cell_type": "code",
   "execution_count": 17,
   "id": "viral-defendant",
   "metadata": {
    "scrolled": true
   },
   "outputs": [
    {
     "data": {
      "text/plain": [
       "'tv future in the hands of viewers with home theatre systems  plasma high-definition tvs  and digital video recorders moving into the living room  the way people watch tv will be radically different in five years  time.  that is according to an expert panel which gathered at the annual consumer electronics show in las vegas to discuss how these new technologies will impact one of our favourite pastimes. with the us leading the trend  programmes and other content will be delivered to viewers via home networks  through cable  satellite  telecoms companies  and broadband service providers to front rooms and portable devices.  one of the most talked-about technologies of ces has been digital and personal video recorders (dvr and pvr). these set-top boxes  like the us s tivo and the uk s sky+ system  allow people to record  store  play  pause and forward wind tv programmes when they want.  essentially  the technology allows for much more personalised tv. they are also being built-in to high-definition tv sets  which are big business in japan and the us  but slower to take off in europe because of the lack of high-definition programming. not only can people forward wind through adverts  they can also forget about abiding by network and channel schedules  putting together their own a-la-carte entertainment. but some us networks and cable and satellite companies are worried about what it means for them in terms of advertising revenues as well as  brand identity  and viewer loyalty to channels. although the us leads in this technology at the moment  it is also a concern that is being raised in europe  particularly with the growing uptake of services like sky+.  what happens here today  we will see in nine months to a years  time in the uk   adam hume  the bbc broadcast s futurologist told the bbc news website. for the likes of the bbc  there are no issues of lost advertising revenue yet. it is a more pressing issue at the moment for commercial uk broadcasters  but brand loyalty is important for everyone.  we will be talking more about content brands rather than network brands   said tim hanlon  from brand communications firm starcom mediavest.  the reality is that with broadband connections  anybody can be the producer of content.  he added:  the challenge now is that it is hard to promote a programme with so much choice.   what this means  said stacey jolna  senior vice president of tv guide tv group  is that the way people find the content they want to watch has to be simplified for tv viewers. it means that networks  in us terms  or channels could take a leaf out of google s book and be the search engine of the future  instead of the scheduler to help people find what they want to watch. this kind of channel model might work for the younger ipod generation which is used to taking control of their gadgets and what they play on them. but it might not suit everyone  the panel recognised. older generations are more comfortable with familiar schedules and channel brands because they know what they are getting. they perhaps do not want so much of the choice put into their hands  mr hanlon suggested.  on the other end  you have the kids just out of diapers who are pushing buttons already - everything is possible and available to them   said mr hanlon.  ultimately  the consumer will tell the market they want.   of the 50 000 new gadgets and technologies being showcased at ces  many of them are about enhancing the tv-watching experience. high-definition tv sets are everywhere and many new models of lcd (liquid crystal display) tvs have been launched with dvr capability built into them  instead of being external boxes. one such example launched at the show is humax s 26-inch lcd tv with an 80-hour tivo dvr and dvd recorder. one of the us s biggest satellite tv companies  directtv  has even launched its own branded dvr at the show with 100-hours of recording capability  instant replay  and a search function. the set can pause and rewind tv for up to 90 hours. and microsoft chief bill gates announced in his pre-show keynote speech a partnership with tivo  called tivotogo  which means people can play recorded programmes on windows pcs and mobile devices. all these reflect the increasing trend of freeing up multimedia so that people can watch what they want  when they want.'"
      ]
     },
     "execution_count": 17,
     "metadata": {},
     "output_type": "execute_result"
    }
   ],
   "source": [
    "corpus = [remove_links(sentence) for sentence in df['text']]\n",
    "corpus[0]"
   ]
  },
  {
   "cell_type": "code",
   "execution_count": 18,
   "id": "single-lawsuit",
   "metadata": {},
   "outputs": [
    {
     "data": {
      "text/plain": [
       "0    tv future in the hands of viewers with home th...\n",
       "1    worldcom boss  left books alone  former worldc...\n",
       "2    tigers wary of farrell  gamble  leicester say ...\n",
       "3    yeading face newcastle in fa cup premiership s...\n",
       "4    ocean s twelve raids box office ocean s twelve...\n",
       "Name: text, dtype: object"
      ]
     },
     "execution_count": 18,
     "metadata": {},
     "output_type": "execute_result"
    }
   ],
   "source": [
    "df['text'] = df['text'].map(remove_links)\n",
    "df['text'].head()"
   ]
  },
  {
   "cell_type": "markdown",
   "id": "controversial-parallel",
   "metadata": {},
   "source": [
    "#### Step 2 -  Remove Punctuations"
   ]
  },
  {
   "cell_type": "code",
   "execution_count": 19,
   "id": "stuck-ceremony",
   "metadata": {},
   "outputs": [],
   "source": [
    "import string\n",
    "\n",
    "def remove_punctuations(text):\n",
    "    characters_to_remove = string.punctuation\n",
    "    translator = str.maketrans(\"\", \"\", characters_to_remove)\n",
    "    clean_text = (text\n",
    "                  .lower()\n",
    "                  .translate(translator)\n",
    "                 )\n",
    "    \n",
    "    return clean_text"
   ]
  },
  {
   "cell_type": "code",
   "execution_count": 20,
   "id": "pharmaceutical-cylinder",
   "metadata": {
    "scrolled": true
   },
   "outputs": [
    {
     "data": {
      "text/plain": [
       "'tv future in the hands of viewers with home theatre systems  plasma highdefinition tvs  and digital video recorders moving into the living room  the way people watch tv will be radically different in five years  time  that is according to an expert panel which gathered at the annual consumer electronics show in las vegas to discuss how these new technologies will impact one of our favourite pastimes with the us leading the trend  programmes and other content will be delivered to viewers via home networks  through cable  satellite  telecoms companies  and broadband service providers to front rooms and portable devices  one of the most talkedabout technologies of ces has been digital and personal video recorders dvr and pvr these settop boxes  like the us s tivo and the uk s sky system  allow people to record  store  play  pause and forward wind tv programmes when they want  essentially  the technology allows for much more personalised tv they are also being builtin to highdefinition tv sets  which are big business in japan and the us  but slower to take off in europe because of the lack of highdefinition programming not only can people forward wind through adverts  they can also forget about abiding by network and channel schedules  putting together their own alacarte entertainment but some us networks and cable and satellite companies are worried about what it means for them in terms of advertising revenues as well as  brand identity  and viewer loyalty to channels although the us leads in this technology at the moment  it is also a concern that is being raised in europe  particularly with the growing uptake of services like sky  what happens here today  we will see in nine months to a years  time in the uk   adam hume  the bbc broadcast s futurologist told the bbc news website for the likes of the bbc  there are no issues of lost advertising revenue yet it is a more pressing issue at the moment for commercial uk broadcasters  but brand loyalty is important for everyone  we will be talking more about content brands rather than network brands   said tim hanlon  from brand communications firm starcom mediavest  the reality is that with broadband connections  anybody can be the producer of content  he added  the challenge now is that it is hard to promote a programme with so much choice   what this means  said stacey jolna  senior vice president of tv guide tv group  is that the way people find the content they want to watch has to be simplified for tv viewers it means that networks  in us terms  or channels could take a leaf out of google s book and be the search engine of the future  instead of the scheduler to help people find what they want to watch this kind of channel model might work for the younger ipod generation which is used to taking control of their gadgets and what they play on them but it might not suit everyone  the panel recognised older generations are more comfortable with familiar schedules and channel brands because they know what they are getting they perhaps do not want so much of the choice put into their hands  mr hanlon suggested  on the other end  you have the kids just out of diapers who are pushing buttons already  everything is possible and available to them   said mr hanlon  ultimately  the consumer will tell the market they want   of the 50 000 new gadgets and technologies being showcased at ces  many of them are about enhancing the tvwatching experience highdefinition tv sets are everywhere and many new models of lcd liquid crystal display tvs have been launched with dvr capability built into them  instead of being external boxes one such example launched at the show is humax s 26inch lcd tv with an 80hour tivo dvr and dvd recorder one of the us s biggest satellite tv companies  directtv  has even launched its own branded dvr at the show with 100hours of recording capability  instant replay  and a search function the set can pause and rewind tv for up to 90 hours and microsoft chief bill gates announced in his preshow keynote speech a partnership with tivo  called tivotogo  which means people can play recorded programmes on windows pcs and mobile devices all these reflect the increasing trend of freeing up multimedia so that people can watch what they want  when they want'"
      ]
     },
     "execution_count": 20,
     "metadata": {},
     "output_type": "execute_result"
    }
   ],
   "source": [
    "corpus = [remove_punctuations(sentence) for sentence in df['text']]\n",
    "corpus[0]"
   ]
  },
  {
   "cell_type": "code",
   "execution_count": 21,
   "id": "closing-inside",
   "metadata": {},
   "outputs": [
    {
     "data": {
      "text/plain": [
       "0    tv future in the hands of viewers with home th...\n",
       "1    worldcom boss  left books alone  former worldc...\n",
       "2    tigers wary of farrell  gamble  leicester say ...\n",
       "3    yeading face newcastle in fa cup premiership s...\n",
       "4    ocean s twelve raids box office ocean s twelve...\n",
       "Name: text, dtype: object"
      ]
     },
     "execution_count": 21,
     "metadata": {},
     "output_type": "execute_result"
    }
   ],
   "source": [
    "df['text'] = df['text'].map(remove_punctuations)\n",
    "df['text'].head()"
   ]
  },
  {
   "cell_type": "code",
   "execution_count": 38,
   "id": "driving-argentina",
   "metadata": {},
   "outputs": [
    {
     "data": {
      "text/html": [
       "<div>\n",
       "<style scoped>\n",
       "    .dataframe tbody tr th:only-of-type {\n",
       "        vertical-align: middle;\n",
       "    }\n",
       "\n",
       "    .dataframe tbody tr th {\n",
       "        vertical-align: top;\n",
       "    }\n",
       "\n",
       "    .dataframe thead th {\n",
       "        text-align: right;\n",
       "    }\n",
       "</style>\n",
       "<table border=\"1\" class=\"dataframe\">\n",
       "  <thead>\n",
       "    <tr style=\"text-align: right;\">\n",
       "      <th></th>\n",
       "      <th>category</th>\n",
       "      <th>text</th>\n",
       "      <th>category_ind</th>\n",
       "    </tr>\n",
       "  </thead>\n",
       "  <tbody>\n",
       "    <tr>\n",
       "      <th>0</th>\n",
       "      <td>tech</td>\n",
       "      <td>tv future hands viewers home theatre systems p...</td>\n",
       "      <td>4</td>\n",
       "    </tr>\n",
       "    <tr>\n",
       "      <th>1</th>\n",
       "      <td>business</td>\n",
       "      <td>worldcom boss left books alone former worldcom...</td>\n",
       "      <td>0</td>\n",
       "    </tr>\n",
       "    <tr>\n",
       "      <th>2</th>\n",
       "      <td>sport</td>\n",
       "      <td>tigers wary farrell gamble leicester say rushe...</td>\n",
       "      <td>3</td>\n",
       "    </tr>\n",
       "    <tr>\n",
       "      <th>3</th>\n",
       "      <td>sport</td>\n",
       "      <td>yeading face newcastle fa cup premiership side...</td>\n",
       "      <td>3</td>\n",
       "    </tr>\n",
       "    <tr>\n",
       "      <th>4</th>\n",
       "      <td>entertainment</td>\n",
       "      <td>ocean twelve raids box office ocean twelve cri...</td>\n",
       "      <td>1</td>\n",
       "    </tr>\n",
       "  </tbody>\n",
       "</table>\n",
       "</div>"
      ],
      "text/plain": [
       "        category                                               text  \\\n",
       "0           tech  tv future hands viewers home theatre systems p...   \n",
       "1       business  worldcom boss left books alone former worldcom...   \n",
       "2          sport  tigers wary farrell gamble leicester say rushe...   \n",
       "3          sport  yeading face newcastle fa cup premiership side...   \n",
       "4  entertainment  ocean twelve raids box office ocean twelve cri...   \n",
       "\n",
       "   category_ind  \n",
       "0             4  \n",
       "1             0  \n",
       "2             3  \n",
       "3             3  \n",
       "4             1  "
      ]
     },
     "execution_count": 38,
     "metadata": {},
     "output_type": "execute_result"
    }
   ],
   "source": [
    "df.head()"
   ]
  },
  {
   "cell_type": "markdown",
   "id": "mexican-bradford",
   "metadata": {},
   "source": [
    "#### Step 3 - Stop words"
   ]
  },
  {
   "cell_type": "code",
   "execution_count": 22,
   "id": "understood-omega",
   "metadata": {},
   "outputs": [],
   "source": [
    "# nltk.download('stopwords')\n",
    "from nltk.corpus import stopwords\n",
    "\n",
    "def removing_stop_words(text):\n",
    "    stop = stopwords.words(\"english\")\n",
    "    filtered_words = [word for word in text.split() if word not in stop]\n",
    "    \n",
    "    return \" \".join(filtered_words)"
   ]
  },
  {
   "cell_type": "code",
   "execution_count": 23,
   "id": "musical-equipment",
   "metadata": {},
   "outputs": [
    {
     "data": {
      "text/plain": [
       "0    tv future hands viewers home theatre systems p...\n",
       "1    worldcom boss left books alone former worldcom...\n",
       "2    tigers wary farrell gamble leicester say rushe...\n",
       "3    yeading face newcastle fa cup premiership side...\n",
       "4    ocean twelve raids box office ocean twelve cri...\n",
       "Name: text, dtype: object"
      ]
     },
     "execution_count": 23,
     "metadata": {},
     "output_type": "execute_result"
    }
   ],
   "source": [
    "df['text'] = df['text'].map(removing_stop_words)\n",
    "df['text'].head()"
   ]
  },
  {
   "cell_type": "markdown",
   "id": "documented-behalf",
   "metadata": {},
   "source": [
    "#### Step 3 - Splitting the Dataset"
   ]
  },
  {
   "cell_type": "code",
   "execution_count": null,
   "id": "selective-hypothesis",
   "metadata": {},
   "outputs": [],
   "source": [
    "split_size = int(df.shape[0] * 0.8)"
   ]
  },
  {
   "cell_type": "code",
   "execution_count": 34,
   "id": "conceptual-omega",
   "metadata": {},
   "outputs": [],
   "source": [
    "df_train = df[:split_size]\n",
    "df_val = df[split_size:]"
   ]
  },
  {
   "cell_type": "code",
   "execution_count": 39,
   "id": "further-collection",
   "metadata": {},
   "outputs": [],
   "source": [
    "train_text_to_array = df_train['text'].to_numpy()\n",
    "val_text_to_array = df_val['text'].to_numpy()\n",
    "train_category_ind_to_array = df_train['category_ind'].to_numpy()\n",
    "val_category_ind_to_array = df_val['category_ind'].to_numpy()"
   ]
  },
  {
   "cell_type": "code",
   "execution_count": 40,
   "id": "rising-magic",
   "metadata": {},
   "outputs": [
    {
     "data": {
      "text/plain": [
       "((1780,), (445,))"
      ]
     },
     "execution_count": 40,
     "metadata": {},
     "output_type": "execute_result"
    }
   ],
   "source": [
    "train_text_to_array.shape, val_text_to_array.shape"
   ]
  },
  {
   "cell_type": "markdown",
   "id": "danish-syndication",
   "metadata": {},
   "source": [
    "#### Step 4 - Tokenization, Stemming, Lemmatization "
   ]
  },
  {
   "cell_type": "code",
   "execution_count": 25,
   "id": "great-parent",
   "metadata": {},
   "outputs": [],
   "source": [
    "from keras.preprocessing.text import Tokenizer"
   ]
  },
  {
   "cell_type": "code",
   "execution_count": 26,
   "id": "romantic-naples",
   "metadata": {},
   "outputs": [],
   "source": [
    "# nltk.download('punkt')\n",
    "from nltk.stem.porter import PorterStemmer\n",
    "# nltk.download('wordnet')\n",
    "from nltk.stem import WordNetLemmatizer\n",
    "\n",
    "def tokenize(sentence):\n",
    "    return nltk.word_tokenize(sentence)\n",
    "\n",
    "def stem(word):\n",
    "    stemmer = PorterStemmer()\n",
    "    return stemmer.stem(word)\n",
    "\n",
    "def lemmatize(word):\n",
    "    lemmatizer = WordNetLemmatizer()\n",
    "    return lemmatizer.lemmatize(word)"
   ]
  },
  {
   "cell_type": "code",
   "execution_count": 27,
   "id": "integral-numbers",
   "metadata": {},
   "outputs": [
    {
     "data": {
      "text/plain": [
       "['tv',\n",
       " 'future',\n",
       " 'hands',\n",
       " 'viewers',\n",
       " 'home',\n",
       " 'theatre',\n",
       " 'systems',\n",
       " 'plasma',\n",
       " 'highdefinition',\n",
       " 'tvs',\n",
       " 'digital',\n",
       " 'video',\n",
       " 'recorders',\n",
       " 'moving',\n",
       " 'living',\n",
       " 'room',\n",
       " 'way',\n",
       " 'people',\n",
       " 'watch',\n",
       " 'tv',\n",
       " 'radically',\n",
       " 'different',\n",
       " 'five',\n",
       " 'years',\n",
       " 'time',\n",
       " 'according',\n",
       " 'expert',\n",
       " 'panel',\n",
       " 'gathered',\n",
       " 'annual',\n",
       " 'consumer',\n",
       " 'electronics',\n",
       " 'show',\n",
       " 'las',\n",
       " 'vegas',\n",
       " 'discuss',\n",
       " 'new',\n",
       " 'technologies',\n",
       " 'impact',\n",
       " 'one',\n",
       " 'favourite',\n",
       " 'pastimes',\n",
       " 'us',\n",
       " 'leading',\n",
       " 'trend',\n",
       " 'programmes',\n",
       " 'content',\n",
       " 'delivered',\n",
       " 'viewers',\n",
       " 'via',\n",
       " 'home',\n",
       " 'networks',\n",
       " 'cable',\n",
       " 'satellite',\n",
       " 'telecoms',\n",
       " 'companies',\n",
       " 'broadband',\n",
       " 'service',\n",
       " 'providers',\n",
       " 'front',\n",
       " 'rooms',\n",
       " 'portable',\n",
       " 'devices',\n",
       " 'one',\n",
       " 'talkedabout',\n",
       " 'technologies',\n",
       " 'ces',\n",
       " 'digital',\n",
       " 'personal',\n",
       " 'video',\n",
       " 'recorders',\n",
       " 'dvr',\n",
       " 'pvr',\n",
       " 'settop',\n",
       " 'boxes',\n",
       " 'like',\n",
       " 'us',\n",
       " 'tivo',\n",
       " 'uk',\n",
       " 'sky',\n",
       " 'system',\n",
       " 'allow',\n",
       " 'people',\n",
       " 'record',\n",
       " 'store',\n",
       " 'play',\n",
       " 'pause',\n",
       " 'forward',\n",
       " 'wind',\n",
       " 'tv',\n",
       " 'programmes',\n",
       " 'want',\n",
       " 'essentially',\n",
       " 'technology',\n",
       " 'allows',\n",
       " 'much',\n",
       " 'personalised',\n",
       " 'tv',\n",
       " 'also',\n",
       " 'builtin',\n",
       " 'highdefinition',\n",
       " 'tv',\n",
       " 'sets',\n",
       " 'big',\n",
       " 'business',\n",
       " 'japan',\n",
       " 'us',\n",
       " 'slower',\n",
       " 'take',\n",
       " 'europe',\n",
       " 'lack',\n",
       " 'highdefinition',\n",
       " 'programming',\n",
       " 'people',\n",
       " 'forward',\n",
       " 'wind',\n",
       " 'adverts',\n",
       " 'also',\n",
       " 'forget',\n",
       " 'abiding',\n",
       " 'network',\n",
       " 'channel',\n",
       " 'schedules',\n",
       " 'putting',\n",
       " 'together',\n",
       " 'alacarte',\n",
       " 'entertainment',\n",
       " 'us',\n",
       " 'networks',\n",
       " 'cable',\n",
       " 'satellite',\n",
       " 'companies',\n",
       " 'worried',\n",
       " 'means',\n",
       " 'terms',\n",
       " 'advertising',\n",
       " 'revenues',\n",
       " 'well',\n",
       " 'brand',\n",
       " 'identity',\n",
       " 'viewer',\n",
       " 'loyalty',\n",
       " 'channels',\n",
       " 'although',\n",
       " 'us',\n",
       " 'leads',\n",
       " 'technology',\n",
       " 'moment',\n",
       " 'also',\n",
       " 'concern',\n",
       " 'raised',\n",
       " 'europe',\n",
       " 'particularly',\n",
       " 'growing',\n",
       " 'uptake',\n",
       " 'services',\n",
       " 'like',\n",
       " 'sky',\n",
       " 'happens',\n",
       " 'today',\n",
       " 'see',\n",
       " 'nine',\n",
       " 'months',\n",
       " 'years',\n",
       " 'time',\n",
       " 'uk',\n",
       " 'adam',\n",
       " 'hume',\n",
       " 'bbc',\n",
       " 'broadcast',\n",
       " 'futurologist',\n",
       " 'told',\n",
       " 'bbc',\n",
       " 'news',\n",
       " 'website',\n",
       " 'likes',\n",
       " 'bbc',\n",
       " 'issues',\n",
       " 'lost',\n",
       " 'advertising',\n",
       " 'revenue',\n",
       " 'yet',\n",
       " 'pressing',\n",
       " 'issue',\n",
       " 'moment',\n",
       " 'commercial',\n",
       " 'uk',\n",
       " 'broadcasters',\n",
       " 'brand',\n",
       " 'loyalty',\n",
       " 'important',\n",
       " 'everyone',\n",
       " 'talking',\n",
       " 'content',\n",
       " 'brands',\n",
       " 'rather',\n",
       " 'network',\n",
       " 'brands',\n",
       " 'said',\n",
       " 'tim',\n",
       " 'hanlon',\n",
       " 'brand',\n",
       " 'communications',\n",
       " 'firm',\n",
       " 'starcom',\n",
       " 'mediavest',\n",
       " 'reality',\n",
       " 'broadband',\n",
       " 'connections',\n",
       " 'anybody',\n",
       " 'producer',\n",
       " 'content',\n",
       " 'added',\n",
       " 'challenge',\n",
       " 'hard',\n",
       " 'promote',\n",
       " 'programme',\n",
       " 'much',\n",
       " 'choice',\n",
       " 'means',\n",
       " 'said',\n",
       " 'stacey',\n",
       " 'jolna',\n",
       " 'senior',\n",
       " 'vice',\n",
       " 'president',\n",
       " 'tv',\n",
       " 'guide',\n",
       " 'tv',\n",
       " 'group',\n",
       " 'way',\n",
       " 'people',\n",
       " 'find',\n",
       " 'content',\n",
       " 'want',\n",
       " 'watch',\n",
       " 'simplified',\n",
       " 'tv',\n",
       " 'viewers',\n",
       " 'means',\n",
       " 'networks',\n",
       " 'us',\n",
       " 'terms',\n",
       " 'channels',\n",
       " 'could',\n",
       " 'take',\n",
       " 'leaf',\n",
       " 'google',\n",
       " 'book',\n",
       " 'search',\n",
       " 'engine',\n",
       " 'future',\n",
       " 'instead',\n",
       " 'scheduler',\n",
       " 'help',\n",
       " 'people',\n",
       " 'find',\n",
       " 'want',\n",
       " 'watch',\n",
       " 'kind',\n",
       " 'channel',\n",
       " 'model',\n",
       " 'might',\n",
       " 'work',\n",
       " 'younger',\n",
       " 'ipod',\n",
       " 'generation',\n",
       " 'used',\n",
       " 'taking',\n",
       " 'control',\n",
       " 'gadgets',\n",
       " 'play',\n",
       " 'might',\n",
       " 'suit',\n",
       " 'everyone',\n",
       " 'panel',\n",
       " 'recognised',\n",
       " 'older',\n",
       " 'generations',\n",
       " 'comfortable',\n",
       " 'familiar',\n",
       " 'schedules',\n",
       " 'channel',\n",
       " 'brands',\n",
       " 'know',\n",
       " 'getting',\n",
       " 'perhaps',\n",
       " 'want',\n",
       " 'much',\n",
       " 'choice',\n",
       " 'put',\n",
       " 'hands',\n",
       " 'mr',\n",
       " 'hanlon',\n",
       " 'suggested',\n",
       " 'end',\n",
       " 'kids',\n",
       " 'diapers',\n",
       " 'pushing',\n",
       " 'buttons',\n",
       " 'already',\n",
       " 'everything',\n",
       " 'possible',\n",
       " 'available',\n",
       " 'said',\n",
       " 'mr',\n",
       " 'hanlon',\n",
       " 'ultimately',\n",
       " 'consumer',\n",
       " 'tell',\n",
       " 'market',\n",
       " 'want',\n",
       " '50',\n",
       " '000',\n",
       " 'new',\n",
       " 'gadgets',\n",
       " 'technologies',\n",
       " 'showcased',\n",
       " 'ces',\n",
       " 'many',\n",
       " 'enhancing',\n",
       " 'tvwatching',\n",
       " 'experience',\n",
       " 'highdefinition',\n",
       " 'tv',\n",
       " 'sets',\n",
       " 'everywhere',\n",
       " 'many',\n",
       " 'new',\n",
       " 'models',\n",
       " 'lcd',\n",
       " 'liquid',\n",
       " 'crystal',\n",
       " 'display',\n",
       " 'tvs',\n",
       " 'launched',\n",
       " 'dvr',\n",
       " 'capability',\n",
       " 'built',\n",
       " 'instead',\n",
       " 'external',\n",
       " 'boxes',\n",
       " 'one',\n",
       " 'example',\n",
       " 'launched',\n",
       " 'show',\n",
       " 'humax',\n",
       " '26inch',\n",
       " 'lcd',\n",
       " 'tv',\n",
       " '80hour',\n",
       " 'tivo',\n",
       " 'dvr',\n",
       " 'dvd',\n",
       " 'recorder',\n",
       " 'one',\n",
       " 'us',\n",
       " 'biggest',\n",
       " 'satellite',\n",
       " 'tv',\n",
       " 'companies',\n",
       " 'directtv',\n",
       " 'even',\n",
       " 'launched',\n",
       " 'branded',\n",
       " 'dvr',\n",
       " 'show',\n",
       " '100hours',\n",
       " 'recording',\n",
       " 'capability',\n",
       " 'instant',\n",
       " 'replay',\n",
       " 'search',\n",
       " 'function',\n",
       " 'set',\n",
       " 'pause',\n",
       " 'rewind',\n",
       " 'tv',\n",
       " '90',\n",
       " 'hours',\n",
       " 'microsoft',\n",
       " 'chief',\n",
       " 'bill',\n",
       " 'gates',\n",
       " 'announced',\n",
       " 'preshow',\n",
       " 'keynote',\n",
       " 'speech',\n",
       " 'partnership',\n",
       " 'tivo',\n",
       " 'called',\n",
       " 'tivotogo',\n",
       " 'means',\n",
       " 'people',\n",
       " 'play',\n",
       " 'recorded',\n",
       " 'programmes',\n",
       " 'windows',\n",
       " 'pcs',\n",
       " 'mobile',\n",
       " 'devices',\n",
       " 'reflect',\n",
       " 'increasing',\n",
       " 'trend',\n",
       " 'freeing',\n",
       " 'multimedia',\n",
       " 'people',\n",
       " 'watch',\n",
       " 'want',\n",
       " 'want']"
      ]
     },
     "execution_count": 27,
     "metadata": {},
     "output_type": "execute_result"
    }
   ],
   "source": [
    "all_words = tokenize(df['text'][0])\n",
    "all_words"
   ]
  },
  {
   "cell_type": "code",
   "execution_count": 28,
   "id": "initial-master",
   "metadata": {},
   "outputs": [],
   "source": [
    "a = [\"organize\", \"organizes\", \"organizing\"]\n",
    "stemmed_words = [stem(w) for w in a]"
   ]
  },
  {
   "cell_type": "code",
   "execution_count": 29,
   "id": "banned-swing",
   "metadata": {},
   "outputs": [
    {
     "data": {
      "text/plain": [
       "['organ', 'organ', 'organ']"
      ]
     },
     "execution_count": 29,
     "metadata": {},
     "output_type": "execute_result"
    }
   ],
   "source": [
    "stemmed_words"
   ]
  },
  {
   "cell_type": "code",
   "execution_count": 30,
   "id": "broke-brooklyn",
   "metadata": {},
   "outputs": [],
   "source": [
    "lemmatized_word = [lemmatize(w) for w in a]"
   ]
  },
  {
   "cell_type": "code",
   "execution_count": 31,
   "id": "dependent-johns",
   "metadata": {},
   "outputs": [
    {
     "data": {
      "text/plain": [
       "['organize', 'organizes', 'organizing']"
      ]
     },
     "execution_count": 31,
     "metadata": {},
     "output_type": "execute_result"
    }
   ],
   "source": [
    "lemmatized_word"
   ]
  }
 ],
 "metadata": {
  "kernelspec": {
   "display_name": "Python 3",
   "language": "python",
   "name": "python3"
  },
  "language_info": {
   "codemirror_mode": {
    "name": "ipython",
    "version": 3
   },
   "file_extension": ".py",
   "mimetype": "text/x-python",
   "name": "python",
   "nbconvert_exporter": "python",
   "pygments_lexer": "ipython3",
   "version": "3.8.8"
  }
 },
 "nbformat": 4,
 "nbformat_minor": 5
}
