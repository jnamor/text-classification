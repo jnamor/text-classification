{
 "cells": [
  {
   "cell_type": "markdown",
   "id": "breeding-ending",
   "metadata": {
    "id": "breeding-ending"
   },
   "source": [
    "### 1. Import the libraries\n",
    "As the first step, we need to import the required libraries."
   ]
  },
  {
   "cell_type": "code",
   "execution_count": 81,
   "id": "motivated-mitchell",
   "metadata": {
    "id": "motivated-mitchell"
   },
   "outputs": [],
   "source": [
    "import pandas as pd\n",
    "import numpy as np"
   ]
  },
  {
   "cell_type": "markdown",
   "id": "weekly-catalog",
   "metadata": {
    "id": "weekly-catalog"
   },
   "source": [
    "### 2. Load the dataset"
   ]
  },
  {
   "cell_type": "code",
   "execution_count": 82,
   "id": "ggbp5ZJ3qgDz",
   "metadata": {
    "colab": {
     "base_uri": "https://localhost:8080/"
    },
    "id": "ggbp5ZJ3qgDz",
    "outputId": "9872c210-6f7a-4a26-a039-e79a54d42d81"
   },
   "outputs": [
    {
     "name": "stdout",
     "output_type": "stream",
     "text": [
      "fatal: destination path 'text-classification' already exists and is not an empty directory.\n"
     ]
    }
   ],
   "source": [
    "!git clone https://github.com/jnamor/text-classification"
   ]
  },
  {
   "cell_type": "code",
   "execution_count": 83,
   "id": "whole-radio",
   "metadata": {
    "colab": {
     "base_uri": "https://localhost:8080/",
     "height": 206
    },
    "id": "whole-radio",
    "outputId": "22660ea2-0d61-45b3-d8d8-becb129fc151"
   },
   "outputs": [
    {
     "data": {
      "text/html": [
       "\n",
       "  <div id=\"df-84d6e664-e36f-4537-a52c-02f62e1dd978\">\n",
       "    <div class=\"colab-df-container\">\n",
       "      <div>\n",
       "<style scoped>\n",
       "    .dataframe tbody tr th:only-of-type {\n",
       "        vertical-align: middle;\n",
       "    }\n",
       "\n",
       "    .dataframe tbody tr th {\n",
       "        vertical-align: top;\n",
       "    }\n",
       "\n",
       "    .dataframe thead th {\n",
       "        text-align: right;\n",
       "    }\n",
       "</style>\n",
       "<table border=\"1\" class=\"dataframe\">\n",
       "  <thead>\n",
       "    <tr style=\"text-align: right;\">\n",
       "      <th></th>\n",
       "      <th>category</th>\n",
       "      <th>text</th>\n",
       "    </tr>\n",
       "  </thead>\n",
       "  <tbody>\n",
       "    <tr>\n",
       "      <th>0</th>\n",
       "      <td>tech</td>\n",
       "      <td>tv future in the hands of viewers with home th...</td>\n",
       "    </tr>\n",
       "    <tr>\n",
       "      <th>1</th>\n",
       "      <td>business</td>\n",
       "      <td>worldcom boss  left books alone  former worldc...</td>\n",
       "    </tr>\n",
       "    <tr>\n",
       "      <th>2</th>\n",
       "      <td>sport</td>\n",
       "      <td>tigers wary of farrell  gamble  leicester say ...</td>\n",
       "    </tr>\n",
       "    <tr>\n",
       "      <th>3</th>\n",
       "      <td>sport</td>\n",
       "      <td>yeading face newcastle in fa cup premiership s...</td>\n",
       "    </tr>\n",
       "    <tr>\n",
       "      <th>4</th>\n",
       "      <td>entertainment</td>\n",
       "      <td>ocean s twelve raids box office ocean s twelve...</td>\n",
       "    </tr>\n",
       "  </tbody>\n",
       "</table>\n",
       "</div>\n",
       "      <button class=\"colab-df-convert\" onclick=\"convertToInteractive('df-84d6e664-e36f-4537-a52c-02f62e1dd978')\"\n",
       "              title=\"Convert this dataframe to an interactive table.\"\n",
       "              style=\"display:none;\">\n",
       "        \n",
       "  <svg xmlns=\"http://www.w3.org/2000/svg\" height=\"24px\"viewBox=\"0 0 24 24\"\n",
       "       width=\"24px\">\n",
       "    <path d=\"M0 0h24v24H0V0z\" fill=\"none\"/>\n",
       "    <path d=\"M18.56 5.44l.94 2.06.94-2.06 2.06-.94-2.06-.94-.94-2.06-.94 2.06-2.06.94zm-11 1L8.5 8.5l.94-2.06 2.06-.94-2.06-.94L8.5 2.5l-.94 2.06-2.06.94zm10 10l.94 2.06.94-2.06 2.06-.94-2.06-.94-.94-2.06-.94 2.06-2.06.94z\"/><path d=\"M17.41 7.96l-1.37-1.37c-.4-.4-.92-.59-1.43-.59-.52 0-1.04.2-1.43.59L10.3 9.45l-7.72 7.72c-.78.78-.78 2.05 0 2.83L4 21.41c.39.39.9.59 1.41.59.51 0 1.02-.2 1.41-.59l7.78-7.78 2.81-2.81c.8-.78.8-2.07 0-2.86zM5.41 20L4 18.59l7.72-7.72 1.47 1.35L5.41 20z\"/>\n",
       "  </svg>\n",
       "      </button>\n",
       "      \n",
       "  <style>\n",
       "    .colab-df-container {\n",
       "      display:flex;\n",
       "      flex-wrap:wrap;\n",
       "      gap: 12px;\n",
       "    }\n",
       "\n",
       "    .colab-df-convert {\n",
       "      background-color: #E8F0FE;\n",
       "      border: none;\n",
       "      border-radius: 50%;\n",
       "      cursor: pointer;\n",
       "      display: none;\n",
       "      fill: #1967D2;\n",
       "      height: 32px;\n",
       "      padding: 0 0 0 0;\n",
       "      width: 32px;\n",
       "    }\n",
       "\n",
       "    .colab-df-convert:hover {\n",
       "      background-color: #E2EBFA;\n",
       "      box-shadow: 0px 1px 2px rgba(60, 64, 67, 0.3), 0px 1px 3px 1px rgba(60, 64, 67, 0.15);\n",
       "      fill: #174EA6;\n",
       "    }\n",
       "\n",
       "    [theme=dark] .colab-df-convert {\n",
       "      background-color: #3B4455;\n",
       "      fill: #D2E3FC;\n",
       "    }\n",
       "\n",
       "    [theme=dark] .colab-df-convert:hover {\n",
       "      background-color: #434B5C;\n",
       "      box-shadow: 0px 1px 3px 1px rgba(0, 0, 0, 0.15);\n",
       "      filter: drop-shadow(0px 1px 2px rgba(0, 0, 0, 0.3));\n",
       "      fill: #FFFFFF;\n",
       "    }\n",
       "  </style>\n",
       "\n",
       "      <script>\n",
       "        const buttonEl =\n",
       "          document.querySelector('#df-84d6e664-e36f-4537-a52c-02f62e1dd978 button.colab-df-convert');\n",
       "        buttonEl.style.display =\n",
       "          google.colab.kernel.accessAllowed ? 'block' : 'none';\n",
       "\n",
       "        async function convertToInteractive(key) {\n",
       "          const element = document.querySelector('#df-84d6e664-e36f-4537-a52c-02f62e1dd978');\n",
       "          const dataTable =\n",
       "            await google.colab.kernel.invokeFunction('convertToInteractive',\n",
       "                                                     [key], {});\n",
       "          if (!dataTable) return;\n",
       "\n",
       "          const docLinkHtml = 'Like what you see? Visit the ' +\n",
       "            '<a target=\"_blank\" href=https://colab.research.google.com/notebooks/data_table.ipynb>data table notebook</a>'\n",
       "            + ' to learn more about interactive tables.';\n",
       "          element.innerHTML = '';\n",
       "          dataTable['output_type'] = 'display_data';\n",
       "          await google.colab.output.renderOutput(dataTable, element);\n",
       "          const docLink = document.createElement('div');\n",
       "          docLink.innerHTML = docLinkHtml;\n",
       "          element.appendChild(docLink);\n",
       "        }\n",
       "      </script>\n",
       "    </div>\n",
       "  </div>\n",
       "  "
      ],
      "text/plain": [
       "        category                                               text\n",
       "0           tech  tv future in the hands of viewers with home th...\n",
       "1       business  worldcom boss  left books alone  former worldc...\n",
       "2          sport  tigers wary of farrell  gamble  leicester say ...\n",
       "3          sport  yeading face newcastle in fa cup premiership s...\n",
       "4  entertainment  ocean s twelve raids box office ocean s twelve..."
      ]
     },
     "execution_count": 83,
     "metadata": {},
     "output_type": "execute_result"
    }
   ],
   "source": [
    "df = pd.read_csv('text-classification/data/text-classification.csv')\n",
    "df.head()"
   ]
  },
  {
   "cell_type": "code",
   "execution_count": 84,
   "id": "african-split",
   "metadata": {
    "colab": {
     "base_uri": "https://localhost:8080/"
    },
    "id": "african-split",
    "outputId": "dbb4bb09-b619-4a52-e21a-4bf70006265d"
   },
   "outputs": [
    {
     "data": {
      "text/plain": [
       "(2225, 2)"
      ]
     },
     "execution_count": 84,
     "metadata": {},
     "output_type": "execute_result"
    }
   ],
   "source": [
    "df.shape"
   ]
  },
  {
   "cell_type": "code",
   "execution_count": 85,
   "id": "communist-purple",
   "metadata": {
    "colab": {
     "base_uri": "https://localhost:8080/"
    },
    "id": "communist-purple",
    "outputId": "f23010d7-2383-445c-8e66-482d3e8365d0"
   },
   "outputs": [
    {
     "name": "stdout",
     "output_type": "stream",
     "text": [
      "<class 'pandas.core.frame.DataFrame'>\n",
      "RangeIndex: 2225 entries, 0 to 2224\n",
      "Data columns (total 2 columns):\n",
      " #   Column    Non-Null Count  Dtype \n",
      "---  ------    --------------  ----- \n",
      " 0   category  2225 non-null   object\n",
      " 1   text      2225 non-null   object\n",
      "dtypes: object(2)\n",
      "memory usage: 34.9+ KB\n"
     ]
    }
   ],
   "source": [
    "df.info()"
   ]
  },
  {
   "cell_type": "markdown",
   "id": "grateful-seeking",
   "metadata": {
    "id": "grateful-seeking"
   },
   "source": [
    "### 3. Exploratory Data Analysis"
   ]
  },
  {
   "cell_type": "code",
   "execution_count": 86,
   "id": "numerical-paper",
   "metadata": {
    "id": "numerical-paper"
   },
   "outputs": [],
   "source": [
    "from collections import Counter\n",
    "\n",
    "def countWord(list_of_words):            \n",
    "    count = Counter()\n",
    "    for sentence in list_of_words:\n",
    "        for word in sentence.split():\n",
    "            count[word] += 1\n",
    "    \n",
    "    return count"
   ]
  },
  {
   "cell_type": "code",
   "execution_count": 87,
   "id": "super-vertex",
   "metadata": {
    "colab": {
     "base_uri": "https://localhost:8080/"
    },
    "id": "super-vertex",
    "outputId": "c9f41945-a4b4-41a4-89d2-a40b3107331d"
   },
   "outputs": [
    {
     "data": {
      "text/plain": [
       "Counter({'tech': 401,\n",
       "         'business': 510,\n",
       "         'sport': 511,\n",
       "         'entertainment': 386,\n",
       "         'politics': 417})"
      ]
     },
     "execution_count": 87,
     "metadata": {},
     "output_type": "execute_result"
    }
   ],
   "source": [
    "countWord(df['category'])"
   ]
  },
  {
   "cell_type": "code",
   "execution_count": 88,
   "id": "fatty-basin",
   "metadata": {
    "colab": {
     "base_uri": "https://localhost:8080/"
    },
    "id": "fatty-basin",
    "outputId": "745c5bec-0999-4011-98b6-99020e3a431c"
   },
   "outputs": [
    {
     "data": {
      "text/plain": [
       "[('the', 52567), ('to', 24955), ('of', 19947), ('and', 18561), ('a', 18251)]"
      ]
     },
     "execution_count": 88,
     "metadata": {},
     "output_type": "execute_result"
    }
   ],
   "source": [
    "counter = countWord(df['text'])\n",
    "counter.most_common(5)"
   ]
  },
  {
   "cell_type": "code",
   "execution_count": 89,
   "id": "municipal-departure",
   "metadata": {
    "colab": {
     "base_uri": "https://localhost:8080/"
    },
    "id": "municipal-departure",
    "outputId": "f01b83f1-ab5a-49e2-d4ca-f32e998f2f20"
   },
   "outputs": [
    {
     "data": {
      "text/plain": [
       "43771"
      ]
     },
     "execution_count": 89,
     "metadata": {},
     "output_type": "execute_result"
    }
   ],
   "source": [
    "total_words = len(counter)\n",
    "total_words"
   ]
  },
  {
   "cell_type": "markdown",
   "id": "heavy-baghdad",
   "metadata": {
    "id": "heavy-baghdad"
   },
   "source": [
    "### 4. Pre-processing the data\n",
    "The actual data must meet certain conditions before being sent to the model. We will create a `pipeline`: a multi-level system where each level receives its data from the previous level and sends its results to the next level."
   ]
  },
  {
   "cell_type": "markdown",
   "id": "incoming-snowboard",
   "metadata": {
    "id": "incoming-snowboard"
   },
   "source": [
    "#### 4.1 Tranforming the data"
   ]
  },
  {
   "cell_type": "markdown",
   "id": "juvenile-scholar",
   "metadata": {
    "id": "juvenile-scholar"
   },
   "source": [
    "We transform the `textual categories` into `index values`."
   ]
  },
  {
   "cell_type": "code",
   "execution_count": 90,
   "id": "reflected-detective",
   "metadata": {
    "id": "reflected-detective"
   },
   "outputs": [],
   "source": [
    "def category_transforming(df):\n",
    "    category_mapper = dict(zip(np.unique(df[\"category\"]), list(range(df['category'].nunique()))))\n",
    "    category_inv_mapper = dict(zip(list(range(df['category'].nunique())), np.unique(df[\"category\"])))\n",
    "    \n",
    "    return category_mapper, category_inv_mapper"
   ]
  },
  {
   "cell_type": "code",
   "execution_count": 91,
   "id": "magnetic-admission",
   "metadata": {
    "id": "magnetic-admission"
   },
   "outputs": [],
   "source": [
    "category_mapper, category_inv_mapper = category_transforming(df)"
   ]
  },
  {
   "cell_type": "code",
   "execution_count": 92,
   "id": "built-pressure",
   "metadata": {
    "colab": {
     "base_uri": "https://localhost:8080/",
     "height": 206
    },
    "id": "built-pressure",
    "outputId": "4eaea8a7-7aeb-449d-b31d-bce68bd91a18"
   },
   "outputs": [
    {
     "data": {
      "text/html": [
       "\n",
       "  <div id=\"df-99995eed-6b51-4642-b5b1-1711238bc3e4\">\n",
       "    <div class=\"colab-df-container\">\n",
       "      <div>\n",
       "<style scoped>\n",
       "    .dataframe tbody tr th:only-of-type {\n",
       "        vertical-align: middle;\n",
       "    }\n",
       "\n",
       "    .dataframe tbody tr th {\n",
       "        vertical-align: top;\n",
       "    }\n",
       "\n",
       "    .dataframe thead th {\n",
       "        text-align: right;\n",
       "    }\n",
       "</style>\n",
       "<table border=\"1\" class=\"dataframe\">\n",
       "  <thead>\n",
       "    <tr style=\"text-align: right;\">\n",
       "      <th></th>\n",
       "      <th>category</th>\n",
       "      <th>text</th>\n",
       "      <th>category_ind</th>\n",
       "    </tr>\n",
       "  </thead>\n",
       "  <tbody>\n",
       "    <tr>\n",
       "      <th>0</th>\n",
       "      <td>tech</td>\n",
       "      <td>tv future in the hands of viewers with home th...</td>\n",
       "      <td>4</td>\n",
       "    </tr>\n",
       "    <tr>\n",
       "      <th>1</th>\n",
       "      <td>business</td>\n",
       "      <td>worldcom boss  left books alone  former worldc...</td>\n",
       "      <td>0</td>\n",
       "    </tr>\n",
       "    <tr>\n",
       "      <th>2</th>\n",
       "      <td>sport</td>\n",
       "      <td>tigers wary of farrell  gamble  leicester say ...</td>\n",
       "      <td>3</td>\n",
       "    </tr>\n",
       "    <tr>\n",
       "      <th>3</th>\n",
       "      <td>sport</td>\n",
       "      <td>yeading face newcastle in fa cup premiership s...</td>\n",
       "      <td>3</td>\n",
       "    </tr>\n",
       "    <tr>\n",
       "      <th>4</th>\n",
       "      <td>entertainment</td>\n",
       "      <td>ocean s twelve raids box office ocean s twelve...</td>\n",
       "      <td>1</td>\n",
       "    </tr>\n",
       "  </tbody>\n",
       "</table>\n",
       "</div>\n",
       "      <button class=\"colab-df-convert\" onclick=\"convertToInteractive('df-99995eed-6b51-4642-b5b1-1711238bc3e4')\"\n",
       "              title=\"Convert this dataframe to an interactive table.\"\n",
       "              style=\"display:none;\">\n",
       "        \n",
       "  <svg xmlns=\"http://www.w3.org/2000/svg\" height=\"24px\"viewBox=\"0 0 24 24\"\n",
       "       width=\"24px\">\n",
       "    <path d=\"M0 0h24v24H0V0z\" fill=\"none\"/>\n",
       "    <path d=\"M18.56 5.44l.94 2.06.94-2.06 2.06-.94-2.06-.94-.94-2.06-.94 2.06-2.06.94zm-11 1L8.5 8.5l.94-2.06 2.06-.94-2.06-.94L8.5 2.5l-.94 2.06-2.06.94zm10 10l.94 2.06.94-2.06 2.06-.94-2.06-.94-.94-2.06-.94 2.06-2.06.94z\"/><path d=\"M17.41 7.96l-1.37-1.37c-.4-.4-.92-.59-1.43-.59-.52 0-1.04.2-1.43.59L10.3 9.45l-7.72 7.72c-.78.78-.78 2.05 0 2.83L4 21.41c.39.39.9.59 1.41.59.51 0 1.02-.2 1.41-.59l7.78-7.78 2.81-2.81c.8-.78.8-2.07 0-2.86zM5.41 20L4 18.59l7.72-7.72 1.47 1.35L5.41 20z\"/>\n",
       "  </svg>\n",
       "      </button>\n",
       "      \n",
       "  <style>\n",
       "    .colab-df-container {\n",
       "      display:flex;\n",
       "      flex-wrap:wrap;\n",
       "      gap: 12px;\n",
       "    }\n",
       "\n",
       "    .colab-df-convert {\n",
       "      background-color: #E8F0FE;\n",
       "      border: none;\n",
       "      border-radius: 50%;\n",
       "      cursor: pointer;\n",
       "      display: none;\n",
       "      fill: #1967D2;\n",
       "      height: 32px;\n",
       "      padding: 0 0 0 0;\n",
       "      width: 32px;\n",
       "    }\n",
       "\n",
       "    .colab-df-convert:hover {\n",
       "      background-color: #E2EBFA;\n",
       "      box-shadow: 0px 1px 2px rgba(60, 64, 67, 0.3), 0px 1px 3px 1px rgba(60, 64, 67, 0.15);\n",
       "      fill: #174EA6;\n",
       "    }\n",
       "\n",
       "    [theme=dark] .colab-df-convert {\n",
       "      background-color: #3B4455;\n",
       "      fill: #D2E3FC;\n",
       "    }\n",
       "\n",
       "    [theme=dark] .colab-df-convert:hover {\n",
       "      background-color: #434B5C;\n",
       "      box-shadow: 0px 1px 3px 1px rgba(0, 0, 0, 0.15);\n",
       "      filter: drop-shadow(0px 1px 2px rgba(0, 0, 0, 0.3));\n",
       "      fill: #FFFFFF;\n",
       "    }\n",
       "  </style>\n",
       "\n",
       "      <script>\n",
       "        const buttonEl =\n",
       "          document.querySelector('#df-99995eed-6b51-4642-b5b1-1711238bc3e4 button.colab-df-convert');\n",
       "        buttonEl.style.display =\n",
       "          google.colab.kernel.accessAllowed ? 'block' : 'none';\n",
       "\n",
       "        async function convertToInteractive(key) {\n",
       "          const element = document.querySelector('#df-99995eed-6b51-4642-b5b1-1711238bc3e4');\n",
       "          const dataTable =\n",
       "            await google.colab.kernel.invokeFunction('convertToInteractive',\n",
       "                                                     [key], {});\n",
       "          if (!dataTable) return;\n",
       "\n",
       "          const docLinkHtml = 'Like what you see? Visit the ' +\n",
       "            '<a target=\"_blank\" href=https://colab.research.google.com/notebooks/data_table.ipynb>data table notebook</a>'\n",
       "            + ' to learn more about interactive tables.';\n",
       "          element.innerHTML = '';\n",
       "          dataTable['output_type'] = 'display_data';\n",
       "          await google.colab.output.renderOutput(dataTable, element);\n",
       "          const docLink = document.createElement('div');\n",
       "          docLink.innerHTML = docLinkHtml;\n",
       "          element.appendChild(docLink);\n",
       "        }\n",
       "      </script>\n",
       "    </div>\n",
       "  </div>\n",
       "  "
      ],
      "text/plain": [
       "        category                                               text  \\\n",
       "0           tech  tv future in the hands of viewers with home th...   \n",
       "1       business  worldcom boss  left books alone  former worldc...   \n",
       "2          sport  tigers wary of farrell  gamble  leicester say ...   \n",
       "3          sport  yeading face newcastle in fa cup premiership s...   \n",
       "4  entertainment  ocean s twelve raids box office ocean s twelve...   \n",
       "\n",
       "   category_ind  \n",
       "0             4  \n",
       "1             0  \n",
       "2             3  \n",
       "3             3  \n",
       "4             1  "
      ]
     },
     "execution_count": 92,
     "metadata": {},
     "output_type": "execute_result"
    }
   ],
   "source": [
    "category_ind = [category_mapper[i] for i in df['category']]\n",
    "df['category_ind'] = category_ind\n",
    "df.head()"
   ]
  },
  {
   "cell_type": "markdown",
   "id": "colonial-myanmar",
   "metadata": {
    "id": "colonial-myanmar"
   },
   "source": [
    "We can use another alternative with `scikit-learn` :"
   ]
  },
  {
   "cell_type": "code",
   "execution_count": 93,
   "id": "color-recall",
   "metadata": {
    "id": "color-recall"
   },
   "outputs": [],
   "source": [
    "from sklearn.preprocessing import LabelEncoder\n",
    "\n",
    "def category_transforming(list_of_categories):\n",
    "    label_encoder = LabelEncoder()\n",
    "    label_encoder.fit(df['category'])\n",
    "    predicted_label = label_encoder.transform(list_of_categories)\n",
    "    \n",
    "    return predicted_label"
   ]
  },
  {
   "cell_type": "code",
   "execution_count": 94,
   "id": "bizarre-diving",
   "metadata": {
    "colab": {
     "base_uri": "https://localhost:8080/",
     "height": 206
    },
    "id": "bizarre-diving",
    "outputId": "d911d8f0-f2db-4dac-ea93-bfc363d3eae2"
   },
   "outputs": [
    {
     "data": {
      "text/html": [
       "\n",
       "  <div id=\"df-ae365fea-0af7-4717-b657-01caab89d488\">\n",
       "    <div class=\"colab-df-container\">\n",
       "      <div>\n",
       "<style scoped>\n",
       "    .dataframe tbody tr th:only-of-type {\n",
       "        vertical-align: middle;\n",
       "    }\n",
       "\n",
       "    .dataframe tbody tr th {\n",
       "        vertical-align: top;\n",
       "    }\n",
       "\n",
       "    .dataframe thead th {\n",
       "        text-align: right;\n",
       "    }\n",
       "</style>\n",
       "<table border=\"1\" class=\"dataframe\">\n",
       "  <thead>\n",
       "    <tr style=\"text-align: right;\">\n",
       "      <th></th>\n",
       "      <th>category</th>\n",
       "      <th>text</th>\n",
       "      <th>category_ind</th>\n",
       "    </tr>\n",
       "  </thead>\n",
       "  <tbody>\n",
       "    <tr>\n",
       "      <th>0</th>\n",
       "      <td>tech</td>\n",
       "      <td>tv future in the hands of viewers with home th...</td>\n",
       "      <td>4</td>\n",
       "    </tr>\n",
       "    <tr>\n",
       "      <th>1</th>\n",
       "      <td>business</td>\n",
       "      <td>worldcom boss  left books alone  former worldc...</td>\n",
       "      <td>0</td>\n",
       "    </tr>\n",
       "    <tr>\n",
       "      <th>2</th>\n",
       "      <td>sport</td>\n",
       "      <td>tigers wary of farrell  gamble  leicester say ...</td>\n",
       "      <td>3</td>\n",
       "    </tr>\n",
       "    <tr>\n",
       "      <th>3</th>\n",
       "      <td>sport</td>\n",
       "      <td>yeading face newcastle in fa cup premiership s...</td>\n",
       "      <td>3</td>\n",
       "    </tr>\n",
       "    <tr>\n",
       "      <th>4</th>\n",
       "      <td>entertainment</td>\n",
       "      <td>ocean s twelve raids box office ocean s twelve...</td>\n",
       "      <td>1</td>\n",
       "    </tr>\n",
       "  </tbody>\n",
       "</table>\n",
       "</div>\n",
       "      <button class=\"colab-df-convert\" onclick=\"convertToInteractive('df-ae365fea-0af7-4717-b657-01caab89d488')\"\n",
       "              title=\"Convert this dataframe to an interactive table.\"\n",
       "              style=\"display:none;\">\n",
       "        \n",
       "  <svg xmlns=\"http://www.w3.org/2000/svg\" height=\"24px\"viewBox=\"0 0 24 24\"\n",
       "       width=\"24px\">\n",
       "    <path d=\"M0 0h24v24H0V0z\" fill=\"none\"/>\n",
       "    <path d=\"M18.56 5.44l.94 2.06.94-2.06 2.06-.94-2.06-.94-.94-2.06-.94 2.06-2.06.94zm-11 1L8.5 8.5l.94-2.06 2.06-.94-2.06-.94L8.5 2.5l-.94 2.06-2.06.94zm10 10l.94 2.06.94-2.06 2.06-.94-2.06-.94-.94-2.06-.94 2.06-2.06.94z\"/><path d=\"M17.41 7.96l-1.37-1.37c-.4-.4-.92-.59-1.43-.59-.52 0-1.04.2-1.43.59L10.3 9.45l-7.72 7.72c-.78.78-.78 2.05 0 2.83L4 21.41c.39.39.9.59 1.41.59.51 0 1.02-.2 1.41-.59l7.78-7.78 2.81-2.81c.8-.78.8-2.07 0-2.86zM5.41 20L4 18.59l7.72-7.72 1.47 1.35L5.41 20z\"/>\n",
       "  </svg>\n",
       "      </button>\n",
       "      \n",
       "  <style>\n",
       "    .colab-df-container {\n",
       "      display:flex;\n",
       "      flex-wrap:wrap;\n",
       "      gap: 12px;\n",
       "    }\n",
       "\n",
       "    .colab-df-convert {\n",
       "      background-color: #E8F0FE;\n",
       "      border: none;\n",
       "      border-radius: 50%;\n",
       "      cursor: pointer;\n",
       "      display: none;\n",
       "      fill: #1967D2;\n",
       "      height: 32px;\n",
       "      padding: 0 0 0 0;\n",
       "      width: 32px;\n",
       "    }\n",
       "\n",
       "    .colab-df-convert:hover {\n",
       "      background-color: #E2EBFA;\n",
       "      box-shadow: 0px 1px 2px rgba(60, 64, 67, 0.3), 0px 1px 3px 1px rgba(60, 64, 67, 0.15);\n",
       "      fill: #174EA6;\n",
       "    }\n",
       "\n",
       "    [theme=dark] .colab-df-convert {\n",
       "      background-color: #3B4455;\n",
       "      fill: #D2E3FC;\n",
       "    }\n",
       "\n",
       "    [theme=dark] .colab-df-convert:hover {\n",
       "      background-color: #434B5C;\n",
       "      box-shadow: 0px 1px 3px 1px rgba(0, 0, 0, 0.15);\n",
       "      filter: drop-shadow(0px 1px 2px rgba(0, 0, 0, 0.3));\n",
       "      fill: #FFFFFF;\n",
       "    }\n",
       "  </style>\n",
       "\n",
       "      <script>\n",
       "        const buttonEl =\n",
       "          document.querySelector('#df-ae365fea-0af7-4717-b657-01caab89d488 button.colab-df-convert');\n",
       "        buttonEl.style.display =\n",
       "          google.colab.kernel.accessAllowed ? 'block' : 'none';\n",
       "\n",
       "        async function convertToInteractive(key) {\n",
       "          const element = document.querySelector('#df-ae365fea-0af7-4717-b657-01caab89d488');\n",
       "          const dataTable =\n",
       "            await google.colab.kernel.invokeFunction('convertToInteractive',\n",
       "                                                     [key], {});\n",
       "          if (!dataTable) return;\n",
       "\n",
       "          const docLinkHtml = 'Like what you see? Visit the ' +\n",
       "            '<a target=\"_blank\" href=https://colab.research.google.com/notebooks/data_table.ipynb>data table notebook</a>'\n",
       "            + ' to learn more about interactive tables.';\n",
       "          element.innerHTML = '';\n",
       "          dataTable['output_type'] = 'display_data';\n",
       "          await google.colab.output.renderOutput(dataTable, element);\n",
       "          const docLink = document.createElement('div');\n",
       "          docLink.innerHTML = docLinkHtml;\n",
       "          element.appendChild(docLink);\n",
       "        }\n",
       "      </script>\n",
       "    </div>\n",
       "  </div>\n",
       "  "
      ],
      "text/plain": [
       "        category                                               text  \\\n",
       "0           tech  tv future in the hands of viewers with home th...   \n",
       "1       business  worldcom boss  left books alone  former worldc...   \n",
       "2          sport  tigers wary of farrell  gamble  leicester say ...   \n",
       "3          sport  yeading face newcastle in fa cup premiership s...   \n",
       "4  entertainment  ocean s twelve raids box office ocean s twelve...   \n",
       "\n",
       "   category_ind  \n",
       "0             4  \n",
       "1             0  \n",
       "2             3  \n",
       "3             3  \n",
       "4             1  "
      ]
     },
     "execution_count": 94,
     "metadata": {},
     "output_type": "execute_result"
    }
   ],
   "source": [
    "category_ind = category_transforming(df['category'])\n",
    "df['category_ind'] = category_ind\n",
    "df.head()"
   ]
  },
  {
   "cell_type": "code",
   "execution_count": 95,
   "id": "human-brazil",
   "metadata": {
    "colab": {
     "base_uri": "https://localhost:8080/"
    },
    "id": "human-brazil",
    "outputId": "e40b5ab1-ea85-4fed-eb2a-601b51f49065"
   },
   "outputs": [
    {
     "name": "stdout",
     "output_type": "stream",
     "text": [
      "<class 'pandas.core.frame.DataFrame'>\n",
      "RangeIndex: 2225 entries, 0 to 2224\n",
      "Data columns (total 3 columns):\n",
      " #   Column        Non-Null Count  Dtype \n",
      "---  ------        --------------  ----- \n",
      " 0   category      2225 non-null   object\n",
      " 1   text          2225 non-null   object\n",
      " 2   category_ind  2225 non-null   int64 \n",
      "dtypes: int64(1), object(2)\n",
      "memory usage: 52.3+ KB\n"
     ]
    }
   ],
   "source": [
    "df.info()"
   ]
  },
  {
   "cell_type": "code",
   "execution_count": 96,
   "id": "champion-wayne",
   "metadata": {
    "id": "champion-wayne"
   },
   "outputs": [],
   "source": [
    "X = df['text']\n",
    "Y = (df['category_ind']\n",
    "     .to_numpy()\n",
    "     .reshape(df['category_ind'].shape[0], 1))"
   ]
  },
  {
   "cell_type": "markdown",
   "id": "rotary-pledge",
   "metadata": {
    "id": "rotary-pledge"
   },
   "source": [
    "### 5.  NLP Pipeline - Dataset preparation"
   ]
  },
  {
   "cell_type": "code",
   "execution_count": 97,
   "id": "casual-surname",
   "metadata": {
    "id": "casual-surname"
   },
   "outputs": [],
   "source": [
    "import nltk"
   ]
  },
  {
   "cell_type": "markdown",
   "id": "sized-atmosphere",
   "metadata": {
    "id": "sized-atmosphere"
   },
   "source": [
    "#### Step 1 -  Remove URL's"
   ]
  },
  {
   "cell_type": "code",
   "execution_count": 98,
   "id": "enclosed-edward",
   "metadata": {
    "id": "enclosed-edward"
   },
   "outputs": [],
   "source": [
    "import re\n",
    "\n",
    "def remove_links(text):\n",
    "    url = re.compile(r\"https?://\\S+|www\\.\\S+\")\n",
    "    return url.sub(\"\", text)"
   ]
  },
  {
   "cell_type": "code",
   "execution_count": 99,
   "id": "single-lawsuit",
   "metadata": {
    "colab": {
     "base_uri": "https://localhost:8080/"
    },
    "id": "single-lawsuit",
    "outputId": "93ddfa20-53f1-444f-fb1b-beafa06f7b77"
   },
   "outputs": [
    {
     "data": {
      "text/plain": [
       "0    tv future in the hands of viewers with home th...\n",
       "1    worldcom boss  left books alone  former worldc...\n",
       "2    tigers wary of farrell  gamble  leicester say ...\n",
       "3    yeading face newcastle in fa cup premiership s...\n",
       "4    ocean s twelve raids box office ocean s twelve...\n",
       "Name: text, dtype: object"
      ]
     },
     "execution_count": 99,
     "metadata": {},
     "output_type": "execute_result"
    }
   ],
   "source": [
    "X = X.map(remove_links)\n",
    "X.head()"
   ]
  },
  {
   "cell_type": "markdown",
   "id": "controversial-parallel",
   "metadata": {
    "id": "controversial-parallel"
   },
   "source": [
    "#### Step 2 -  Remove Punctuations"
   ]
  },
  {
   "cell_type": "code",
   "execution_count": 100,
   "id": "stuck-ceremony",
   "metadata": {
    "id": "stuck-ceremony"
   },
   "outputs": [],
   "source": [
    "import string\n",
    "\n",
    "def remove_punctuations(text):\n",
    "    characters_to_remove = string.punctuation\n",
    "    translator = str.maketrans(\"\", \"\", characters_to_remove)\n",
    "    clean_text = (text\n",
    "                  .lower()\n",
    "                  .translate(translator)\n",
    "                 )\n",
    "    \n",
    "    return clean_text"
   ]
  },
  {
   "cell_type": "code",
   "execution_count": 101,
   "id": "positive-arkansas",
   "metadata": {
    "colab": {
     "base_uri": "https://localhost:8080/"
    },
    "id": "positive-arkansas",
    "outputId": "f42478e2-ebeb-4452-8e16-384757905b4e"
   },
   "outputs": [
    {
     "data": {
      "text/plain": [
       "0    tv future in the hands of viewers with home th...\n",
       "1    worldcom boss  left books alone  former worldc...\n",
       "2    tigers wary of farrell  gamble  leicester say ...\n",
       "3    yeading face newcastle in fa cup premiership s...\n",
       "4    ocean s twelve raids box office ocean s twelve...\n",
       "Name: text, dtype: object"
      ]
     },
     "execution_count": 101,
     "metadata": {},
     "output_type": "execute_result"
    }
   ],
   "source": [
    "X = X.map(remove_punctuations)\n",
    "X.head()"
   ]
  },
  {
   "cell_type": "markdown",
   "id": "mexican-bradford",
   "metadata": {
    "id": "mexican-bradford"
   },
   "source": [
    "#### Step 3 - Stop words"
   ]
  },
  {
   "cell_type": "code",
   "execution_count": 102,
   "id": "understood-omega",
   "metadata": {
    "colab": {
     "base_uri": "https://localhost:8080/"
    },
    "id": "understood-omega",
    "outputId": "ff47f861-dae5-4bb0-9e26-02088612d10f"
   },
   "outputs": [
    {
     "name": "stderr",
     "output_type": "stream",
     "text": [
      "[nltk_data] Downloading package stopwords to /root/nltk_data...\n",
      "[nltk_data]   Package stopwords is already up-to-date!\n"
     ]
    }
   ],
   "source": [
    "nltk.download('stopwords')\n",
    "from nltk.corpus import stopwords\n",
    "\n",
    "def remove_stop_words(text):\n",
    "    stop = stopwords.words(\"english\")\n",
    "    filtered_words = [word for word in text.split() if word not in stop]\n",
    "    \n",
    "    return \" \".join(filtered_words)"
   ]
  },
  {
   "cell_type": "code",
   "execution_count": 103,
   "id": "sunrise-christmas",
   "metadata": {
    "colab": {
     "base_uri": "https://localhost:8080/"
    },
    "id": "sunrise-christmas",
    "outputId": "918838f3-b0ec-49fa-a9fc-7cc750589ad3"
   },
   "outputs": [
    {
     "data": {
      "text/plain": [
       "0    tv future hands viewers home theatre systems p...\n",
       "1    worldcom boss left books alone former worldcom...\n",
       "2    tigers wary farrell gamble leicester say rushe...\n",
       "3    yeading face newcastle fa cup premiership side...\n",
       "4    ocean twelve raids box office ocean twelve cri...\n",
       "Name: text, dtype: object"
      ]
     },
     "execution_count": 103,
     "metadata": {},
     "output_type": "execute_result"
    }
   ],
   "source": [
    "X = X.map(remove_stop_words)\n",
    "X.head()"
   ]
  },
  {
   "cell_type": "markdown",
   "id": "danish-syndication",
   "metadata": {
    "id": "danish-syndication"
   },
   "source": [
    "#### Step 4 - Tokenization then Stemming or Lemmatization ?"
   ]
  },
  {
   "cell_type": "markdown",
   "id": "arabic-shelter",
   "metadata": {
    "id": "arabic-shelter"
   },
   "source": [
    "`Tokenization` splits a string into smaller entities such as words or single characters. Therefore, these are also referred to as tokens. <a href=\"https://en.wikipedia.org/wiki/Lexical_analysis#Tokenization\">Wikipedia</a> provides a nice example."
   ]
  },
  {
   "cell_type": "markdown",
   "id": "adaptive-nerve",
   "metadata": {
    "id": "adaptive-nerve"
   },
   "source": [
    "`Stemming` and `Lemmatization` are methods used by search engines and chatbots to analyze the meaning behind a word. `Stemming` uses the stem of the word, while `Lemmatization` uses the context in which the word is being used.\n",
    "\n",
    "<!-- ![image.png](attachment:image.png) -->\n",
    "\n",
    "In this example, we will use `Stemming` for optimization and performance purposes."
   ]
  },
  {
   "cell_type": "code",
   "execution_count": 104,
   "id": "yWoiZDuttGDX",
   "metadata": {
    "colab": {
     "base_uri": "https://localhost:8080/"
    },
    "id": "yWoiZDuttGDX",
    "outputId": "991debe4-7828-4e32-8de6-781690b2d813"
   },
   "outputs": [
    {
     "name": "stderr",
     "output_type": "stream",
     "text": [
      "[nltk_data] Downloading package wordnet to /root/nltk_data...\n",
      "[nltk_data]   Package wordnet is already up-to-date!\n",
      "[nltk_data] Downloading package punkt to /root/nltk_data...\n",
      "[nltk_data]   Package punkt is already up-to-date!\n",
      "[nltk_data] Downloading package omw-1.4 to /root/nltk_data...\n",
      "[nltk_data]   Package omw-1.4 is already up-to-date!\n"
     ]
    },
    {
     "data": {
      "text/plain": [
       "True"
      ]
     },
     "execution_count": 104,
     "metadata": {},
     "output_type": "execute_result"
    }
   ],
   "source": [
    "nltk.download('wordnet')\n",
    "nltk.download('punkt')\n",
    "nltk.download('omw-1.4')"
   ]
  },
  {
   "cell_type": "code",
   "execution_count": 105,
   "id": "north-cheese",
   "metadata": {
    "id": "north-cheese"
   },
   "outputs": [],
   "source": [
    "from nltk.stem import WordNetLemmatizer\n",
    "from nltk.stem.porter import PorterStemmer\n",
    "\n",
    "def get_tokenized_text(input_sentence):\n",
    "    return nltk.word_tokenize(input_sentence)\n",
    "\n",
    "def get_stemmed_text(word):\n",
    "    stemmer = PorterStemmer()\n",
    "    return stemmer.stem(word)\n",
    "\n",
    "def get_lemmatized_text(word):\n",
    "  lemmatizer = WordNetLemmatizer()\n",
    "  return lemmatizer.lemmatize(word)\n",
    "\n",
    "def convert_text_to_array(text_tokenized):\n",
    "    text_tokenized = [get_tokenized_text(sentence) for sentence in text_tokenized]\n",
    "    for sentence in text_tokenized:\n",
    "        for index, word in enumerate(sentence):\n",
    "            # sentence[index] = get_stemmed_text(word) # Steming\n",
    "            sentence[index] = get_lemmatized_text(word) # Lemmatization\n",
    "    \n",
    "    return np.array(text_tokenized)"
   ]
  },
  {
   "cell_type": "code",
   "execution_count": 106,
   "id": "musical-equipment",
   "metadata": {
    "colab": {
     "base_uri": "https://localhost:8080/"
    },
    "id": "musical-equipment",
    "outputId": "35a83bf2-669b-496d-e5bb-d46c77a48704",
    "scrolled": true
   },
   "outputs": [
    {
     "name": "stderr",
     "output_type": "stream",
     "text": [
      "/usr/local/lib/python3.7/dist-packages/ipykernel_launcher.py:22: VisibleDeprecationWarning: Creating an ndarray from ragged nested sequences (which is a list-or-tuple of lists-or-tuples-or ndarrays with different lengths or shapes) is deprecated. If you meant to do this, you must specify 'dtype=object' when creating the ndarray.\n"
     ]
    },
    {
     "data": {
      "text/plain": [
       "array([list(['tv', 'future', 'hand', 'viewer', 'home', 'theatre', 'system', 'plasma', 'highdefinition', 'tv', 'digital', 'video', 'recorder', 'moving', 'living', 'room', 'way', 'people', 'watch', 'tv', 'radically', 'different', 'five', 'year', 'time', 'according', 'expert', 'panel', 'gathered', 'annual', 'consumer', 'electronics', 'show', 'la', 'vega', 'discus', 'new', 'technology', 'impact', 'one', 'favourite', 'pastime', 'u', 'leading', 'trend', 'programme', 'content', 'delivered', 'viewer', 'via', 'home', 'network', 'cable', 'satellite', 'telecom', 'company', 'broadband', 'service', 'provider', 'front', 'room', 'portable', 'device', 'one', 'talkedabout', 'technology', 'ce', 'digital', 'personal', 'video', 'recorder', 'dvr', 'pvr', 'settop', 'box', 'like', 'u', 'tivo', 'uk', 'sky', 'system', 'allow', 'people', 'record', 'store', 'play', 'pause', 'forward', 'wind', 'tv', 'programme', 'want', 'essentially', 'technology', 'allows', 'much', 'personalised', 'tv', 'also', 'builtin', 'highdefinition', 'tv', 'set', 'big', 'business', 'japan', 'u', 'slower', 'take', 'europe', 'lack', 'highdefinition', 'programming', 'people', 'forward', 'wind', 'advert', 'also', 'forget', 'abiding', 'network', 'channel', 'schedule', 'putting', 'together', 'alacarte', 'entertainment', 'u', 'network', 'cable', 'satellite', 'company', 'worried', 'mean', 'term', 'advertising', 'revenue', 'well', 'brand', 'identity', 'viewer', 'loyalty', 'channel', 'although', 'u', 'lead', 'technology', 'moment', 'also', 'concern', 'raised', 'europe', 'particularly', 'growing', 'uptake', 'service', 'like', 'sky', 'happens', 'today', 'see', 'nine', 'month', 'year', 'time', 'uk', 'adam', 'hume', 'bbc', 'broadcast', 'futurologist', 'told', 'bbc', 'news', 'website', 'like', 'bbc', 'issue', 'lost', 'advertising', 'revenue', 'yet', 'pressing', 'issue', 'moment', 'commercial', 'uk', 'broadcaster', 'brand', 'loyalty', 'important', 'everyone', 'talking', 'content', 'brand', 'rather', 'network', 'brand', 'said', 'tim', 'hanlon', 'brand', 'communication', 'firm', 'starcom', 'mediavest', 'reality', 'broadband', 'connection', 'anybody', 'producer', 'content', 'added', 'challenge', 'hard', 'promote', 'programme', 'much', 'choice', 'mean', 'said', 'stacey', 'jolna', 'senior', 'vice', 'president', 'tv', 'guide', 'tv', 'group', 'way', 'people', 'find', 'content', 'want', 'watch', 'simplified', 'tv', 'viewer', 'mean', 'network', 'u', 'term', 'channel', 'could', 'take', 'leaf', 'google', 'book', 'search', 'engine', 'future', 'instead', 'scheduler', 'help', 'people', 'find', 'want', 'watch', 'kind', 'channel', 'model', 'might', 'work', 'younger', 'ipod', 'generation', 'used', 'taking', 'control', 'gadget', 'play', 'might', 'suit', 'everyone', 'panel', 'recognised', 'older', 'generation', 'comfortable', 'familiar', 'schedule', 'channel', 'brand', 'know', 'getting', 'perhaps', 'want', 'much', 'choice', 'put', 'hand', 'mr', 'hanlon', 'suggested', 'end', 'kid', 'diaper', 'pushing', 'button', 'already', 'everything', 'possible', 'available', 'said', 'mr', 'hanlon', 'ultimately', 'consumer', 'tell', 'market', 'want', '50', '000', 'new', 'gadget', 'technology', 'showcased', 'ce', 'many', 'enhancing', 'tvwatching', 'experience', 'highdefinition', 'tv', 'set', 'everywhere', 'many', 'new', 'model', 'lcd', 'liquid', 'crystal', 'display', 'tv', 'launched', 'dvr', 'capability', 'built', 'instead', 'external', 'box', 'one', 'example', 'launched', 'show', 'humax', '26inch', 'lcd', 'tv', '80hour', 'tivo', 'dvr', 'dvd', 'recorder', 'one', 'u', 'biggest', 'satellite', 'tv', 'company', 'directtv', 'even', 'launched', 'branded', 'dvr', 'show', '100hours', 'recording', 'capability', 'instant', 'replay', 'search', 'function', 'set', 'pause', 'rewind', 'tv', '90', 'hour', 'microsoft', 'chief', 'bill', 'gate', 'announced', 'preshow', 'keynote', 'speech', 'partnership', 'tivo', 'called', 'tivotogo', 'mean', 'people', 'play', 'recorded', 'programme', 'window', 'pc', 'mobile', 'device', 'reflect', 'increasing', 'trend', 'freeing', 'multimedia', 'people', 'watch', 'want', 'want']),\n",
       "       list(['worldcom', 'bos', 'left', 'book', 'alone', 'former', 'worldcom', 'bos', 'bernie', 'ebbers', 'accused', 'overseeing', '11bn', '£58bn', 'fraud', 'never', 'made', 'accounting', 'decision', 'witness', 'told', 'juror', 'david', 'myers', 'made', 'comment', 'questioning', 'defence', 'lawyer', 'arguing', 'mr', 'ebbers', 'responsible', 'worldcom', 'problem', 'phone', 'company', 'collapsed', '2002', 'prosecutor', 'claim', 'loss', 'hidden', 'protect', 'firm', 'share', 'mr', 'myers', 'already', 'pleaded', 'guilty', 'fraud', 'assisting', 'prosecutor', 'monday', 'defence', 'lawyer', 'reid', 'weingarten', 'tried', 'distance', 'client', 'allegation', 'cross', 'examination', 'asked', 'mr', 'myers', 'ever', 'knew', 'mr', 'ebbers', 'make', 'accounting', 'decision', 'aware', 'mr', 'myers', 'replied', 'ever', 'know', 'mr', 'ebbers', 'make', 'accounting', 'entry', 'worldcom', 'book', 'mr', 'weingarten', 'pressed', 'replied', 'witness', 'mr', 'myers', 'admitted', 'ordered', 'false', 'accounting', 'entry', 'request', 'former', 'worldcom', 'chief', 'financial', 'officer', 'scott', 'sullivan', 'defence', 'lawyer', 'trying', 'paint', 'mr', 'sullivan', 'admitted', 'fraud', 'testify', 'later', 'trial', 'mastermind', 'behind', 'worldcom', 'accounting', 'house', 'card', 'mr', 'ebbers', 'team', 'meanwhile', 'looking', 'portray', 'affable', 'bos', 'admission', 'pe', 'graduate', 'economist', 'whatever', 'ability', 'mr', 'ebbers', 'transformed', 'worldcom', 'relative', 'unknown', '160bn', 'telecom', 'giant', 'investor', 'darling', 'late', '1990s', 'worldcom', 'problem', 'mounted', 'however', 'competition', 'increased', 'telecom', 'boom', 'petered', 'firm', 'finally', 'collapsed', 'shareholder', 'lost', '180bn', '20', '000', 'worker', 'lost', 'job', 'mr', 'ebbers', 'trial', 'expected', 'last', 'two', 'month', 'found', 'guilty', 'former', 'ceo', 'face', 'substantial', 'jail', 'sentence', 'firmly', 'declared', 'innocence']),\n",
       "       list(['tiger', 'wary', 'farrell', 'gamble', 'leicester', 'say', 'rushed', 'making', 'bid', 'andy', 'farrell', 'great', 'britain', 'rugby', 'league', 'captain', 'decide', 'switch', 'code', 'anybody', 'else', 'involved', 'process', 'still', 'way', 'away', 'going', 'next', 'stage', 'tiger', 'bos', 'john', 'well', 'told', 'bbc', 'radio', 'leicester', 'moment', 'still', 'lot', 'unknown', 'andy', 'farrell', 'least', 'medical', 'situation', 'whoever', 'take', 'going', 'take', 'big', 'big', 'gamble', 'farrell', 'persistent', 'knee', 'problem', 'operation', 'knee', 'five', 'week', 'ago', 'expected', 'another', 'three', 'month', 'leicester', 'saracen', 'believed', 'head', 'list', 'rugby', 'union', 'club', 'interested', 'signing', 'farrell', 'decides', 'move', '15man', 'game', 'move', 'across', 'union', 'well', 'belief', 'would', 'better', 'playing', 'back', 'least', 'initially', 'sure', 'could', 'make', 'step', 'league', 'union', 'involved', 'centre', 'said', 'well', 'think', 'england', 'would', 'prefer', 'progress', 'position', 'back', 'row', 'make', 'use', 'rugby', 'league', 'skill', 'within', 'forward', 'jury', 'whether', 'cross', 'divide', 'club', 'balance', 'struck', 'cost', 'gamble', 'option', 'bringing', 'readymade', 'replacement']),\n",
       "       list(['yeading', 'face', 'newcastle', 'fa', 'cup', 'premiership', 'side', 'newcastle', 'united', 'face', 'trip', 'ryman', 'premier', 'league', 'leader', 'yeading', 'fa', 'cup', 'third', 'round', 'game', 'arguably', 'highlight', 'draw', 'potential', 'moneyspinner', 'nonleague', 'yeading', 'beat', 'slough', 'second', 'round', 'conference', 'side', 'exeter', 'city', 'knocked', 'doncaster', 'saturday', 'travel', 'old', 'trafford', 'meet', 'holder', 'manchester', 'united', 'january', 'arsenal', 'drawn', 'home', 'stoke', 'chelsea', 'play', 'host', 'scunthorpe', 'nonleague', 'side', 'draw', 'hinckley', 'united', 'held', 'brentford', 'goalless', 'draw', 'sunday', 'meet', 'league', 'one', 'leader', 'luton', 'win', 'replay', 'martin', 'allen', 'team', 'griffin', 'park', 'number', 'premiership', 'team', 'face', 'difficult', 'away', 'game', 'championship', 'side', 'weekend', '89', 'january', 'thirdplaced', 'everton', 'visit', 'plymouth', 'liverpool', 'travel', 'burnley', 'crystal', 'palace', 'go', 'sunderland', 'fulham', 'face', 'carling', 'cup', 'semifinalist', 'watford', 'bolton', 'meet', 'ipswich', 'aston', 'villa', 'drawn', 'sheffield', 'united', 'premiership', 'struggler', 'norwich', 'blackburn', 'west', 'brom', 'away', 'west', 'ham', 'cardiff', 'preston', 'north', 'end', 'respectively', 'southampton', 'visit', 'northampton', 'already', 'beaten', 'league', 'two', 'side', 'carling', 'cup', 'earlier', 'season', 'middlesbrough', 'drawn', 'away', 'either', 'swindon', 'notts', 'county', 'spur', 'entertain', 'brighton', 'white', 'hart', 'lane', 'arsenal', 'v', 'stoke', 'swindonnotts', 'co', 'v', 'middlesbrough', 'man', 'utd', 'v', 'exeter', 'plymouth', 'v', 'everton', 'leicester', 'v', 'blackpool', 'derby', 'v', 'wigan', 'sunderland', 'v', 'crystal', 'palace', 'wolf', 'v', 'millwall', 'yeading', 'v', 'newcastle', 'hull', 'v', 'colchester', 'tottenham', 'v', 'brighton', 'reading', 'v', 'stockportswansea', 'birmingham', 'v', 'leeds', 'hartlepool', 'v', 'boston', 'milton', 'keynes', 'don', 'v', 'peterborough', 'oldham', 'v', 'man', 'city', 'chelsea', 'v', 'scunthorpe', 'cardiff', 'v', 'blackburn', 'charlton', 'v', 'rochdale', 'west', 'ham', 'v', 'norwich', 'sheff', 'utd', 'v', 'aston', 'villa', 'preston', 'v', 'west', 'brom', 'rotherham', 'v', 'yeovil', 'burnley', 'v', 'liverpool', 'bournemouth', 'v', 'chester', 'coventry', 'v', 'crewe', 'watford', 'v', 'fulham', 'ipswich', 'v', 'bolton', 'portsmouth', 'v', 'gillingham', 'northampton', 'v', 'southampton', 'qpr', 'v', 'nottm', 'forest', 'luton', 'v', 'hinckleybrentford', 'match', 'played', 'weekend', '89', 'january']),\n",
       "       list(['ocean', 'twelve', 'raid', 'box', 'office', 'ocean', 'twelve', 'crime', 'caper', 'sequel', 'starring', 'george', 'clooney', 'brad', 'pitt', 'julia', 'robert', 'gone', 'straight', 'number', 'one', 'u', 'box', 'office', 'chart', 'took', '408m', '£21m', 'weekend', 'ticket', 'sale', 'according', 'studio', 'estimate', 'sequel', 'follows', 'master', 'criminal', 'try', 'pull', 'three', 'major', 'heist', 'across', 'europe', 'knocked', 'last', 'week', 'number', 'one', 'national', 'treasure', 'third', 'place', 'wesley', 'snipe', 'blade', 'trinity', 'second', 'taking', '161m', '£84m', 'rounding', 'top', 'five', 'animated', 'fable', 'polar', 'express', 'starring', 'tom', 'hank', 'festive', 'comedy', 'christmas', 'kranks', 'ocean', 'twelve', 'box', 'office', 'triumph', 'mark', 'fourthbiggest', 'opening', 'december', 'release', 'u', 'three', 'film', 'lord', 'ring', 'trilogy', 'sequel', 'narrowly', 'beat', '2001', 'predecessor', 'ocean', 'eleven', 'took', '381m', '£198m', 'opening', 'weekend', '184m', '£958m', 'total', 'remake', '1960s', 'film', 'starring', 'frank', 'sinatra', 'rat', 'pack', 'ocean', 'eleven', 'directed', 'oscarwinning', 'director', 'steven', 'soderbergh', 'soderbergh', 'return', 'direct', 'hit', 'sequel', 'reunites', 'clooney', 'pitt', 'robert', 'matt', 'damon', 'andy', 'garcia', 'elliott', 'gould', 'catherine', 'zetajones', 'join', 'allstar', 'cast', 'fun', 'good', 'holiday', 'movie', 'said', 'dan', 'fellman', 'president', 'distribution', 'warner', 'bros', 'however', 'u', 'critic', 'le', 'complimentary', '110m', '£572m', 'project', 'los', 'angeles', 'time', 'labelling', 'dispiriting', 'vanity', 'project', 'milder', 'review', 'new', 'york', 'time', 'dubbed', 'sequel', 'unabashedly', 'trivial'])],\n",
       "      dtype=object)"
      ]
     },
     "execution_count": 106,
     "metadata": {},
     "output_type": "execute_result"
    }
   ],
   "source": [
    "X = convert_text_to_array(X)\n",
    "X[:5]"
   ]
  },
  {
   "cell_type": "raw",
   "id": "miniature-power",
   "metadata": {
    "id": "miniature-power"
   },
   "source": [
    "X.shape, Y.shape"
   ]
  },
  {
   "cell_type": "markdown",
   "id": "mounted-anniversary",
   "metadata": {
    "id": "mounted-anniversary"
   },
   "source": [
    "#### Step 5. - Tokenization with Keras"
   ]
  },
  {
   "cell_type": "markdown",
   "id": "chinese-relaxation",
   "metadata": {
    "id": "chinese-relaxation"
   },
   "source": [
    "`Keras-Tokenizer` allows to vectorize a text corpus, by turning each text into either a sequence of integers (each integer being the index of a token in a dictionary) or into a vector.\n",
    "\n",
    "This means that the data is already cleaned, lemmatized etc."
   ]
  },
  {
   "cell_type": "code",
   "execution_count": 107,
   "id": "tracked-devon",
   "metadata": {
    "id": "tracked-devon"
   },
   "outputs": [],
   "source": [
    "from keras.preprocessing.text import Tokenizer\n",
    "\n",
    "def get_sequence_of_tokens(input_sentences):\n",
    "    tokenizer = Tokenizer()\n",
    "    \n",
    "    tokenizer.fit_on_texts(input_sentences)   \n",
    "    sentences_to_sequences = tokenizer.texts_to_sequences(input_sentences)\n",
    "    \n",
    "    return sentences_to_sequences"
   ]
  },
  {
   "cell_type": "code",
   "execution_count": 108,
   "id": "vertical-texas",
   "metadata": {
    "colab": {
     "base_uri": "https://localhost:8080/"
    },
    "id": "vertical-texas",
    "outputId": "6654ff12-330e-49fc-df22-8f4e6f4408ab"
   },
   "outputs": [
    {
     "data": {
      "text/plain": [
       "[[93,\n",
       "  173,\n",
       "  512,\n",
       "  971,\n",
       "  53,\n",
       "  1002,\n",
       "  88,\n",
       "  4666,\n",
       "  1173,\n",
       "  93,\n",
       "  147,\n",
       "  193,\n",
       "  2205,\n",
       "  1318,\n",
       "  1230,\n",
       "  1294,\n",
       "  32,\n",
       "  6,\n",
       "  873,\n",
       "  93,\n",
       "  5823,\n",
       "  333,\n",
       "  107,\n",
       "  3,\n",
       "  12,\n",
       "  141,\n",
       "  828,\n",
       "  1198,\n",
       "  2290,\n",
       "  579,\n",
       "  160,\n",
       "  1188,\n",
       "  48,\n",
       "  1253,\n",
       "  2802,\n",
       "  1589,\n",
       "  7,\n",
       "  64,\n",
       "  759,\n",
       "  9,\n",
       "  699,\n",
       "  11583,\n",
       "  8,\n",
       "  664,\n",
       "  1147,\n",
       "  210,\n",
       "  410,\n",
       "  1827,\n",
       "  971,\n",
       "  773,\n",
       "  53,\n",
       "  149,\n",
       "  1174,\n",
       "  1865,\n",
       "  1133,\n",
       "  19,\n",
       "  336,\n",
       "  28,\n",
       "  1546,\n",
       "  855,\n",
       "  1294,\n",
       "  1019,\n",
       "  291,\n",
       "  9,\n",
       "  18579,\n",
       "  64,\n",
       "  2343,\n",
       "  147,\n",
       "  366,\n",
       "  193,\n",
       "  2205,\n",
       "  7926,\n",
       "  5195,\n",
       "  3967,\n",
       "  531,\n",
       "  29,\n",
       "  8,\n",
       "  5196,\n",
       "  21,\n",
       "  1295,\n",
       "  88,\n",
       "  450,\n",
       "  6,\n",
       "  102,\n",
       "  814,\n",
       "  71,\n",
       "  4117,\n",
       "  469,\n",
       "  4294,\n",
       "  93,\n",
       "  210,\n",
       "  50,\n",
       "  5824,\n",
       "  64,\n",
       "  1935,\n",
       "  77,\n",
       "  7927,\n",
       "  93,\n",
       "  5,\n",
       "  4118,\n",
       "  1173,\n",
       "  93,\n",
       "  46,\n",
       "  154,\n",
       "  106,\n",
       "  421,\n",
       "  8,\n",
       "  2737,\n",
       "  30,\n",
       "  151,\n",
       "  1090,\n",
       "  1173,\n",
       "  3968,\n",
       "  6,\n",
       "  469,\n",
       "  4294,\n",
       "  2119,\n",
       "  5,\n",
       "  2437,\n",
       "  13891,\n",
       "  149,\n",
       "  778,\n",
       "  2888,\n",
       "  1269,\n",
       "  614,\n",
       "  18580,\n",
       "  754,\n",
       "  8,\n",
       "  149,\n",
       "  1174,\n",
       "  1865,\n",
       "  19,\n",
       "  1754,\n",
       "  171,\n",
       "  378,\n",
       "  1905,\n",
       "  709,\n",
       "  54,\n",
       "  983,\n",
       "  2168,\n",
       "  971,\n",
       "  4906,\n",
       "  778,\n",
       "  257,\n",
       "  8,\n",
       "  292,\n",
       "  64,\n",
       "  612,\n",
       "  5,\n",
       "  412,\n",
       "  1056,\n",
       "  151,\n",
       "  788,\n",
       "  625,\n",
       "  7928,\n",
       "  28,\n",
       "  29,\n",
       "  1295,\n",
       "  1677,\n",
       "  443,\n",
       "  79,\n",
       "  990,\n",
       "  34,\n",
       "  3,\n",
       "  12,\n",
       "  21,\n",
       "  2120,\n",
       "  18581,\n",
       "  45,\n",
       "  1020,\n",
       "  11584,\n",
       "  26,\n",
       "  45,\n",
       "  94,\n",
       "  196,\n",
       "  29,\n",
       "  45,\n",
       "  122,\n",
       "  248,\n",
       "  1905,\n",
       "  709,\n",
       "  350,\n",
       "  4907,\n",
       "  122,\n",
       "  612,\n",
       "  1078,\n",
       "  21,\n",
       "  1565,\n",
       "  983,\n",
       "  4906,\n",
       "  289,\n",
       "  735,\n",
       "  1134,\n",
       "  410,\n",
       "  983,\n",
       "  402,\n",
       "  149,\n",
       "  983,\n",
       "  1,\n",
       "  1216,\n",
       "  11585,\n",
       "  983,\n",
       "  1296,\n",
       "  23,\n",
       "  18582,\n",
       "  18583,\n",
       "  1652,\n",
       "  336,\n",
       "  822,\n",
       "  3041,\n",
       "  598,\n",
       "  410,\n",
       "  52,\n",
       "  587,\n",
       "  296,\n",
       "  2662,\n",
       "  210,\n",
       "  77,\n",
       "  539,\n",
       "  171,\n",
       "  1,\n",
       "  18584,\n",
       "  18585,\n",
       "  673,\n",
       "  1678,\n",
       "  232,\n",
       "  93,\n",
       "  3144,\n",
       "  93,\n",
       "  72,\n",
       "  32,\n",
       "  6,\n",
       "  315,\n",
       "  410,\n",
       "  50,\n",
       "  873,\n",
       "  13892,\n",
       "  93,\n",
       "  971,\n",
       "  171,\n",
       "  149,\n",
       "  8,\n",
       "  378,\n",
       "  778,\n",
       "  10,\n",
       "  30,\n",
       "  3350,\n",
       "  832,\n",
       "  381,\n",
       "  387,\n",
       "  1025,\n",
       "  173,\n",
       "  571,\n",
       "  18586,\n",
       "  120,\n",
       "  6,\n",
       "  315,\n",
       "  50,\n",
       "  873,\n",
       "  972,\n",
       "  778,\n",
       "  714,\n",
       "  384,\n",
       "  60,\n",
       "  1866,\n",
       "  1010,\n",
       "  800,\n",
       "  92,\n",
       "  240,\n",
       "  233,\n",
       "  428,\n",
       "  71,\n",
       "  384,\n",
       "  1867,\n",
       "  735,\n",
       "  1198,\n",
       "  2206,\n",
       "  1547,\n",
       "  800,\n",
       "  3433,\n",
       "  2889,\n",
       "  2888,\n",
       "  778,\n",
       "  983,\n",
       "  143,\n",
       "  397,\n",
       "  1456,\n",
       "  50,\n",
       "  77,\n",
       "  539,\n",
       "  100,\n",
       "  512,\n",
       "  2,\n",
       "  11585,\n",
       "  921,\n",
       "  96,\n",
       "  2487,\n",
       "  18587,\n",
       "  2121,\n",
       "  5493,\n",
       "  113,\n",
       "  767,\n",
       "  435,\n",
       "  444,\n",
       "  1,\n",
       "  2,\n",
       "  11585,\n",
       "  2390,\n",
       "  160,\n",
       "  949,\n",
       "  38,\n",
       "  50,\n",
       "  500,\n",
       "  41,\n",
       "  7,\n",
       "  428,\n",
       "  64,\n",
       "  6230,\n",
       "  2343,\n",
       "  35,\n",
       "  9924,\n",
       "  18588,\n",
       "  710,\n",
       "  1173,\n",
       "  93,\n",
       "  46,\n",
       "  6727,\n",
       "  35,\n",
       "  7,\n",
       "  714,\n",
       "  5494,\n",
       "  6728,\n",
       "  3825,\n",
       "  1049,\n",
       "  93,\n",
       "  644,\n",
       "  7926,\n",
       "  2207,\n",
       "  1330,\n",
       "  571,\n",
       "  3682,\n",
       "  531,\n",
       "  9,\n",
       "  795,\n",
       "  644,\n",
       "  48,\n",
       "  18589,\n",
       "  18590,\n",
       "  5494,\n",
       "  93,\n",
       "  18591,\n",
       "  5196,\n",
       "  7926,\n",
       "  452,\n",
       "  2205,\n",
       "  9,\n",
       "  8,\n",
       "  279,\n",
       "  1865,\n",
       "  93,\n",
       "  19,\n",
       "  18592,\n",
       "  101,\n",
       "  644,\n",
       "  2738,\n",
       "  7926,\n",
       "  48,\n",
       "  18593,\n",
       "  1868,\n",
       "  2207,\n",
       "  4908,\n",
       "  2803,\n",
       "  387,\n",
       "  2242,\n",
       "  46,\n",
       "  4117,\n",
       "  8794,\n",
       "  93,\n",
       "  1653,\n",
       "  427,\n",
       "  290,\n",
       "  116,\n",
       "  239,\n",
       "  2243,\n",
       "  353,\n",
       "  6729,\n",
       "  3561,\n",
       "  685,\n",
       "  2532,\n",
       "  5196,\n",
       "  243,\n",
       "  18594,\n",
       "  171,\n",
       "  6,\n",
       "  71,\n",
       "  1828,\n",
       "  210,\n",
       "  671,\n",
       "  247,\n",
       "  70,\n",
       "  291,\n",
       "  2804,\n",
       "  1270,\n",
       "  1147,\n",
       "  8795,\n",
       "  1521,\n",
       "  6,\n",
       "  873,\n",
       "  50,\n",
       "  50],\n",
       " [1490,\n",
       "  632,\n",
       "  299,\n",
       "  381,\n",
       "  1382,\n",
       "  129,\n",
       "  1490,\n",
       "  632,\n",
       "  5197,\n",
       "  1522,\n",
       "  658,\n",
       "  6231,\n",
       "  3683,\n",
       "  18595,\n",
       "  779,\n",
       "  288,\n",
       "  31,\n",
       "  1973,\n",
       "  145,\n",
       "  2960,\n",
       "  26,\n",
       "  4667,\n",
       "  334,\n",
       "  5495,\n",
       "  31,\n",
       "  425,\n",
       "  3826,\n",
       "  780,\n",
       "  833,\n",
       "  3434,\n",
       "  2,\n",
       "  1522,\n",
       "  1331,\n",
       "  1490,\n",
       "  117,\n",
       "  80,\n",
       "  19,\n",
       "  3827,\n",
       "  626,\n",
       "  1679,\n",
       "  164,\n",
       "  692,\n",
       "  2739,\n",
       "  1135,\n",
       "  23,\n",
       "  98,\n",
       "  2,\n",
       "  5495,\n",
       "  113,\n",
       "  2533,\n",
       "  1091,\n",
       "  779,\n",
       "  8796,\n",
       "  1679,\n",
       "  426,\n",
       "  780,\n",
       "  833,\n",
       "  4465,\n",
       "  8797,\n",
       "  1175,\n",
       "  2291,\n",
       "  1829,\n",
       "  1457,\n",
       "  1079,\n",
       "  8798,\n",
       "  457,\n",
       "  2,\n",
       "  5495,\n",
       "  411,\n",
       "  1367,\n",
       "  2,\n",
       "  1522,\n",
       "  22,\n",
       "  1973,\n",
       "  145,\n",
       "  1548,\n",
       "  2,\n",
       "  5495,\n",
       "  3435,\n",
       "  411,\n",
       "  143,\n",
       "  2,\n",
       "  1522,\n",
       "  22,\n",
       "  1973,\n",
       "  1401,\n",
       "  1490,\n",
       "  381,\n",
       "  2,\n",
       "  8797,\n",
       "  6232,\n",
       "  3435,\n",
       "  2960,\n",
       "  2,\n",
       "  5495,\n",
       "  760,\n",
       "  2438,\n",
       "  1974,\n",
       "  1973,\n",
       "  1401,\n",
       "  2122,\n",
       "  129,\n",
       "  1490,\n",
       "  116,\n",
       "  320,\n",
       "  890,\n",
       "  1680,\n",
       "  1217,\n",
       "  780,\n",
       "  833,\n",
       "  494,\n",
       "  7929,\n",
       "  2,\n",
       "  1217,\n",
       "  760,\n",
       "  779,\n",
       "  9925,\n",
       "  262,\n",
       "  429,\n",
       "  11586,\n",
       "  394,\n",
       "  1490,\n",
       "  1973,\n",
       "  261,\n",
       "  300,\n",
       "  2,\n",
       "  1522,\n",
       "  139,\n",
       "  736,\n",
       "  329,\n",
       "  7250,\n",
       "  18596,\n",
       "  632,\n",
       "  3828,\n",
       "  9926,\n",
       "  5198,\n",
       "  843,\n",
       "  2090,\n",
       "  937,\n",
       "  2,\n",
       "  1522,\n",
       "  5199,\n",
       "  1490,\n",
       "  3042,\n",
       "  4119,\n",
       "  13893,\n",
       "  1133,\n",
       "  520,\n",
       "  637,\n",
       "  6233,\n",
       "  590,\n",
       "  2244,\n",
       "  1490,\n",
       "  117,\n",
       "  5825,\n",
       "  95,\n",
       "  474,\n",
       "  870,\n",
       "  1133,\n",
       "  2534,\n",
       "  9927,\n",
       "  23,\n",
       "  1491,\n",
       "  3827,\n",
       "  781,\n",
       "  248,\n",
       "  7251,\n",
       "  307,\n",
       "  41,\n",
       "  651,\n",
       "  248,\n",
       "  128,\n",
       "  2,\n",
       "  1522,\n",
       "  429,\n",
       "  103,\n",
       "  13,\n",
       "  18,\n",
       "  34,\n",
       "  216,\n",
       "  1091,\n",
       "  129,\n",
       "  6234,\n",
       "  205,\n",
       "  2663,\n",
       "  1723,\n",
       "  1402,\n",
       "  4295,\n",
       "  2208,\n",
       "  6235],\n",
       " [2805,\n",
       "  6236,\n",
       "  3436,\n",
       "  5496,\n",
       "  1176,\n",
       "  15,\n",
       "  4668,\n",
       "  255,\n",
       "  376,\n",
       "  856,\n",
       "  3436,\n",
       "  169,\n",
       "  126,\n",
       "  430,\n",
       "  470,\n",
       "  874,\n",
       "  1218,\n",
       "  2169,\n",
       "  938,\n",
       "  3041,\n",
       "  1368,\n",
       "  619,\n",
       "  693,\n",
       "  73,\n",
       "  32,\n",
       "  241,\n",
       "  74,\n",
       "  43,\n",
       "  575,\n",
       "  2805,\n",
       "  632,\n",
       "  324,\n",
       "  54,\n",
       "  26,\n",
       "  45,\n",
       "  203,\n",
       "  1176,\n",
       "  612,\n",
       "  73,\n",
       "  190,\n",
       "  4119,\n",
       "  856,\n",
       "  3436,\n",
       "  437,\n",
       "  1975,\n",
       "  728,\n",
       "  6730,\n",
       "  30,\n",
       "  74,\n",
       "  30,\n",
       "  154,\n",
       "  154,\n",
       "  5496,\n",
       "  3436,\n",
       "  4466,\n",
       "  2091,\n",
       "  117,\n",
       "  768,\n",
       "  2091,\n",
       "  107,\n",
       "  42,\n",
       "  390,\n",
       "  103,\n",
       "  177,\n",
       "  47,\n",
       "  34,\n",
       "  1176,\n",
       "  4669,\n",
       "  958,\n",
       "  431,\n",
       "  337,\n",
       "  430,\n",
       "  338,\n",
       "  140,\n",
       "  1231,\n",
       "  1906,\n",
       "  3436,\n",
       "  5497,\n",
       "  142,\n",
       "  13894,\n",
       "  11,\n",
       "  142,\n",
       "  403,\n",
       "  338,\n",
       "  54,\n",
       "  524,\n",
       "  4,\n",
       "  202,\n",
       "  280,\n",
       "  39,\n",
       "  437,\n",
       "  1549,\n",
       "  599,\n",
       "  10,\n",
       "  22,\n",
       "  659,\n",
       "  470,\n",
       "  338,\n",
       "  619,\n",
       "  370,\n",
       "  1,\n",
       "  54,\n",
       "  67,\n",
       "  76,\n",
       "  4,\n",
       "  2961,\n",
       "  1119,\n",
       "  546,\n",
       "  39,\n",
       "  901,\n",
       "  22,\n",
       "  83,\n",
       "  430,\n",
       "  470,\n",
       "  1332,\n",
       "  438,\n",
       "  469,\n",
       "  2664,\n",
       "  265,\n",
       "  1079,\n",
       "  2589,\n",
       "  140,\n",
       "  1976,\n",
       "  2488,\n",
       "  114,\n",
       "  5496,\n",
       "  991,\n",
       "  1492,\n",
       "  13895,\n",
       "  1319],\n",
       " [9928,\n",
       "  205,\n",
       "  1026,\n",
       "  1550,\n",
       "  258,\n",
       "  973,\n",
       "  163,\n",
       "  1026,\n",
       "  211,\n",
       "  205,\n",
       "  1755,\n",
       "  18597,\n",
       "  2344,\n",
       "  470,\n",
       "  175,\n",
       "  9928,\n",
       "  1550,\n",
       "  258,\n",
       "  180,\n",
       "  755,\n",
       "  11,\n",
       "  7930,\n",
       "  2123,\n",
       "  1106,\n",
       "  660,\n",
       "  18598,\n",
       "  13896,\n",
       "  9928,\n",
       "  439,\n",
       "  7931,\n",
       "  68,\n",
       "  755,\n",
       "  592,\n",
       "  163,\n",
       "  4909,\n",
       "  422,\n",
       "  2665,\n",
       "  11587,\n",
       "  463,\n",
       "  1136,\n",
       "  595,\n",
       "  3562,\n",
       "  506,\n",
       "  2209,\n",
       "  674,\n",
       "  211,\n",
       "  246,\n",
       "  620,\n",
       "  1724,\n",
       "  53,\n",
       "  7252,\n",
       "  449,\n",
       "  71,\n",
       "  705,\n",
       "  13897,\n",
       "  13896,\n",
       "  163,\n",
       "  1106,\n",
       "  11588,\n",
       "  211,\n",
       "  339,\n",
       "  4910,\n",
       "  11589,\n",
       "  1106,\n",
       "  347,\n",
       "  506,\n",
       "  470,\n",
       "  9,\n",
       "  175,\n",
       "  7253,\n",
       "  55,\n",
       "  2803,\n",
       "  686,\n",
       "  5200,\n",
       "  139,\n",
       "  5498,\n",
       "  933,\n",
       "  27,\n",
       "  973,\n",
       "  139,\n",
       "  205,\n",
       "  540,\n",
       "  241,\n",
       "  11,\n",
       "  627,\n",
       "  163,\n",
       "  633,\n",
       "  8799,\n",
       "  246,\n",
       "  18599,\n",
       "  1907,\n",
       "  1219,\n",
       "  9929,\n",
       "  604,\n",
       "  1136,\n",
       "  3969,\n",
       "  3825,\n",
       "  3238,\n",
       "  59,\n",
       "  3829,\n",
       "  3684,\n",
       "  205,\n",
       "  3437,\n",
       "  258,\n",
       "  9930,\n",
       "  11590,\n",
       "  2806,\n",
       "  506,\n",
       "  9931,\n",
       "  3043,\n",
       "  2807,\n",
       "  1724,\n",
       "  1977,\n",
       "  211,\n",
       "  973,\n",
       "  13898,\n",
       "  2489,\n",
       "  2666,\n",
       "  711,\n",
       "  6237,\n",
       "  241,\n",
       "  711,\n",
       "  3239,\n",
       "  1297,\n",
       "  5826,\n",
       "  915,\n",
       "  96,\n",
       "  3240,\n",
       "  2124,\n",
       "  1219,\n",
       "  4296,\n",
       "  113,\n",
       "  1936,\n",
       "  470,\n",
       "  18,\n",
       "  163,\n",
       "  3437,\n",
       "  258,\n",
       "  271,\n",
       "  297,\n",
       "  3044,\n",
       "  1724,\n",
       "  241,\n",
       "  706,\n",
       "  8800,\n",
       "  11591,\n",
       "  4911,\n",
       "  3241,\n",
       "  7932,\n",
       "  4120,\n",
       "  922,\n",
       "  4121,\n",
       "  2962,\n",
       "  620,\n",
       "  782,\n",
       "  7252,\n",
       "  18600,\n",
       "  8801,\n",
       "  782,\n",
       "  3044,\n",
       "  367,\n",
       "  3145,\n",
       "  782,\n",
       "  4909,\n",
       "  9929,\n",
       "  782,\n",
       "  1907,\n",
       "  1176,\n",
       "  782,\n",
       "  3563,\n",
       "  4122,\n",
       "  782,\n",
       "  8802,\n",
       "  3829,\n",
       "  782,\n",
       "  3825,\n",
       "  3238,\n",
       "  3351,\n",
       "  782,\n",
       "  5499,\n",
       "  9928,\n",
       "  782,\n",
       "  1026,\n",
       "  13899,\n",
       "  782,\n",
       "  9932,\n",
       "  2963,\n",
       "  782,\n",
       "  4120,\n",
       "  1776,\n",
       "  782,\n",
       "  18601,\n",
       "  1383,\n",
       "  782,\n",
       "  2210,\n",
       "  6731,\n",
       "  782,\n",
       "  3685,\n",
       "  9933,\n",
       "  11592,\n",
       "  13900,\n",
       "  782,\n",
       "  11593,\n",
       "  7254,\n",
       "  782,\n",
       "  367,\n",
       "  422,\n",
       "  449,\n",
       "  782,\n",
       "  13897,\n",
       "  1297,\n",
       "  782,\n",
       "  2666,\n",
       "  2964,\n",
       "  782,\n",
       "  11594,\n",
       "  711,\n",
       "  3239,\n",
       "  782,\n",
       "  2489,\n",
       "  13901,\n",
       "  3145,\n",
       "  782,\n",
       "  3043,\n",
       "  2807,\n",
       "  5826,\n",
       "  782,\n",
       "  711,\n",
       "  6237,\n",
       "  13902,\n",
       "  782,\n",
       "  11595,\n",
       "  3969,\n",
       "  782,\n",
       "  604,\n",
       "  5500,\n",
       "  782,\n",
       "  6238,\n",
       "  11596,\n",
       "  782,\n",
       "  18602,\n",
       "  11590,\n",
       "  782,\n",
       "  3684,\n",
       "  9931,\n",
       "  782,\n",
       "  2806,\n",
       "  3146,\n",
       "  782,\n",
       "  13903,\n",
       "  4296,\n",
       "  782,\n",
       "  2124,\n",
       "  9934,\n",
       "  782,\n",
       "  13904,\n",
       "  3686,\n",
       "  7253,\n",
       "  782,\n",
       "  18603,\n",
       "  197,\n",
       "  286,\n",
       "  633,\n",
       "  8799,\n",
       "  246],\n",
       " [3242,\n",
       "  4467,\n",
       "  4670,\n",
       "  531,\n",
       "  182,\n",
       "  3242,\n",
       "  4467,\n",
       "  857,\n",
       "  13905,\n",
       "  1777,\n",
       "  1242,\n",
       "  1092,\n",
       "  7255,\n",
       "  5501,\n",
       "  6239,\n",
       "  4671,\n",
       "  665,\n",
       "  858,\n",
       "  1320,\n",
       "  27,\n",
       "  9,\n",
       "  8,\n",
       "  531,\n",
       "  182,\n",
       "  508,\n",
       "  184,\n",
       "  13906,\n",
       "  8803,\n",
       "  633,\n",
       "  1162,\n",
       "  51,\n",
       "  141,\n",
       "  769,\n",
       "  1352,\n",
       "  1777,\n",
       "  1590,\n",
       "  3352,\n",
       "  783,\n",
       "  242,\n",
       "  2211,\n",
       "  47,\n",
       "  305,\n",
       "  13907,\n",
       "  403,\n",
       "  151,\n",
       "  2665,\n",
       "  13,\n",
       "  42,\n",
       "  27,\n",
       "  9,\n",
       "  214,\n",
       "  6240,\n",
       "  180,\n",
       "  110,\n",
       "  13908,\n",
       "  13909,\n",
       "  6241,\n",
       "  11597,\n",
       "  68,\n",
       "  240,\n",
       "  13910,\n",
       "  13911,\n",
       "  8804,\n",
       "  86,\n",
       "  107,\n",
       "  3830,\n",
       "  13912,\n",
       "  7933,\n",
       "  2125,\n",
       "  1242,\n",
       "  1830,\n",
       "  3243,\n",
       "  2965,\n",
       "  744,\n",
       "  566,\n",
       "  11598,\n",
       "  3242,\n",
       "  4467,\n",
       "  531,\n",
       "  182,\n",
       "  2740,\n",
       "  363,\n",
       "  11599,\n",
       "  666,\n",
       "  259,\n",
       "  527,\n",
       "  8,\n",
       "  47,\n",
       "  20,\n",
       "  156,\n",
       "  1831,\n",
       "  4912,\n",
       "  1777,\n",
       "  5201,\n",
       "  439,\n",
       "  518,\n",
       "  4672,\n",
       "  3242,\n",
       "  6242,\n",
       "  184,\n",
       "  13913,\n",
       "  9935,\n",
       "  666,\n",
       "  633,\n",
       "  13914,\n",
       "  13915,\n",
       "  484,\n",
       "  3244,\n",
       "  3353,\n",
       "  20,\n",
       "  1242,\n",
       "  2014,\n",
       "  9936,\n",
       "  6732,\n",
       "  1978,\n",
       "  3242,\n",
       "  6242,\n",
       "  1778,\n",
       "  4468,\n",
       "  105,\n",
       "  1566,\n",
       "  9937,\n",
       "  9937,\n",
       "  263,\n",
       "  1243,\n",
       "  131,\n",
       "  1777,\n",
       "  11600,\n",
       "  7255,\n",
       "  6239,\n",
       "  665,\n",
       "  1613,\n",
       "  9938,\n",
       "  856,\n",
       "  5202,\n",
       "  6733,\n",
       "  11601,\n",
       "  5203,\n",
       "  13916,\n",
       "  1064,\n",
       "  13917,\n",
       "  1654,\n",
       "  1705,\n",
       "  57,\n",
       "  1908,\n",
       "  354,\n",
       "  1,\n",
       "  3147,\n",
       "  13918,\n",
       "  232,\n",
       "  1937,\n",
       "  3045,\n",
       "  5827,\n",
       "  95,\n",
       "  8,\n",
       "  784,\n",
       "  249,\n",
       "  13919,\n",
       "  11602,\n",
       "  13920,\n",
       "  377,\n",
       "  1403,\n",
       "  1523,\n",
       "  12,\n",
       "  7256,\n",
       "  13921,\n",
       "  6243,\n",
       "  377,\n",
       "  8805,\n",
       "  939,\n",
       "  7,\n",
       "  572,\n",
       "  12,\n",
       "  2590,\n",
       "  1777,\n",
       "  13922,\n",
       "  11603]]"
      ]
     },
     "execution_count": 108,
     "metadata": {},
     "output_type": "execute_result"
    }
   ],
   "source": [
    "X = get_sequence_of_tokens(X)\n",
    "X[:5]"
   ]
  },
  {
   "cell_type": "markdown",
   "id": "polish-malta",
   "metadata": {
    "id": "polish-malta"
   },
   "source": [
    "#### 6.Padding the Sequences\n",
    "\n",
    "Now that we have generated a data-set which contains sequence of tokens, it is possible that different sequences have different lengths. Before starting training the model, we need to pad the sequences and make their lengths equal. We can use pad_sequence function of Keras for this purpose."
   ]
  },
  {
   "cell_type": "code",
   "execution_count": 124,
   "id": "rental-system",
   "metadata": {
    "id": "rental-system"
   },
   "outputs": [],
   "source": [
    "from tensorflow.keras.preprocessing.sequence import pad_sequences\n",
    "\n",
    "def generate_padded_sequences(input_sequences, max_sequence = None):\n",
    "    if max_sequence is None:\n",
    "        max_sequence = max([len(x) for x in input_sequences])\n",
    "    input_sequences = pad_sequences(input_sequences, maxlen = max_sequence, padding = \"post\", truncating = \"post\")\n",
    "    \n",
    "    return input_sequences, max_sequence"
   ]
  },
  {
   "cell_type": "code",
   "execution_count": 125,
   "id": "absolute-defendant",
   "metadata": {
    "colab": {
     "base_uri": "https://localhost:8080/"
    },
    "id": "absolute-defendant",
    "outputId": "ab31fe5e-2378-421c-c6ca-a05fe04e78b2"
   },
   "outputs": [
    {
     "data": {
      "text/plain": [
       "array([[   93,   173,   512,   971,    53,  1002,    88,  4666,  1173,\n",
       "           93,   147,   193,  2205,  1318,  1230,  1294,    32,     6,\n",
       "          873,    93,  5823,   333,   107,     3,    12,   141,   828,\n",
       "         1198,  2290,   579,   160,  1188,    48,  1253,  2802,  1589,\n",
       "            7,    64,   759,     9,   699, 11583,     8,   664,  1147,\n",
       "          210,   410,  1827,   971,   773,    53,   149,  1174,  1865,\n",
       "         1133,    19,   336,    28,  1546,   855,  1294,  1019,   291,\n",
       "            9, 18579,    64,  2343,   147,   366,   193,  2205,  7926,\n",
       "         5195,  3967,   531,    29,     8,  5196,    21,  1295,    88,\n",
       "          450,     6,   102,   814,    71,  4117,   469,  4294,    93,\n",
       "          210,    50,  5824,    64,  1935,    77,  7927,    93,     5,\n",
       "         4118],\n",
       "       [ 1490,   632,   299,   381,  1382,   129,  1490,   632,  5197,\n",
       "         1522,   658,  6231,  3683, 18595,   779,   288,    31,  1973,\n",
       "          145,  2960,    26,  4667,   334,  5495,    31,   425,  3826,\n",
       "          780,   833,  3434,     2,  1522,  1331,  1490,   117,    80,\n",
       "           19,  3827,   626,  1679,   164,   692,  2739,  1135,    23,\n",
       "           98,     2,  5495,   113,  2533,  1091,   779,  8796,  1679,\n",
       "          426,   780,   833,  4465,  8797,  1175,  2291,  1829,  1457,\n",
       "         1079,  8798,   457,     2,  5495,   411,  1367,     2,  1522,\n",
       "           22,  1973,   145,  1548,     2,  5495,  3435,   411,   143,\n",
       "            2,  1522,    22,  1973,  1401,  1490,   381,     2,  8797,\n",
       "         6232,  3435,  2960,     2,  5495,   760,  2438,  1974,  1973,\n",
       "         1401],\n",
       "       [ 2805,  6236,  3436,  5496,  1176,    15,  4668,   255,   376,\n",
       "          856,  3436,   169,   126,   430,   470,   874,  1218,  2169,\n",
       "          938,  3041,  1368,   619,   693,    73,    32,   241,    74,\n",
       "           43,   575,  2805,   632,   324,    54,    26,    45,   203,\n",
       "         1176,   612,    73,   190,  4119,   856,  3436,   437,  1975,\n",
       "          728,  6730,    30,    74,    30,   154,   154,  5496,  3436,\n",
       "         4466,  2091,   117,   768,  2091,   107,    42,   390,   103,\n",
       "          177,    47,    34,  1176,  4669,   958,   431,   337,   430,\n",
       "          338,   140,  1231,  1906,  3436,  5497,   142, 13894,    11,\n",
       "          142,   403,   338,    54,   524,     4,   202,   280,    39,\n",
       "          437,  1549,   599,    10,    22,   659,   470,   338,   619,\n",
       "          370],\n",
       "       [ 9928,   205,  1026,  1550,   258,   973,   163,  1026,   211,\n",
       "          205,  1755, 18597,  2344,   470,   175,  9928,  1550,   258,\n",
       "          180,   755,    11,  7930,  2123,  1106,   660, 18598, 13896,\n",
       "         9928,   439,  7931,    68,   755,   592,   163,  4909,   422,\n",
       "         2665, 11587,   463,  1136,   595,  3562,   506,  2209,   674,\n",
       "          211,   246,   620,  1724,    53,  7252,   449,    71,   705,\n",
       "        13897, 13896,   163,  1106, 11588,   211,   339,  4910, 11589,\n",
       "         1106,   347,   506,   470,     9,   175,  7253,    55,  2803,\n",
       "          686,  5200,   139,  5498,   933,    27,   973,   139,   205,\n",
       "          540,   241,    11,   627,   163,   633,  8799,   246, 18599,\n",
       "         1907,  1219,  9929,   604,  1136,  3969,  3825,  3238,    59,\n",
       "         3829],\n",
       "       [ 3242,  4467,  4670,   531,   182,  3242,  4467,   857, 13905,\n",
       "         1777,  1242,  1092,  7255,  5501,  6239,  4671,   665,   858,\n",
       "         1320,    27,     9,     8,   531,   182,   508,   184, 13906,\n",
       "         8803,   633,  1162,    51,   141,   769,  1352,  1777,  1590,\n",
       "         3352,   783,   242,  2211,    47,   305, 13907,   403,   151,\n",
       "         2665,    13,    42,    27,     9,   214,  6240,   180,   110,\n",
       "        13908, 13909,  6241, 11597,    68,   240, 13910, 13911,  8804,\n",
       "           86,   107,  3830, 13912,  7933,  2125,  1242,  1830,  3243,\n",
       "         2965,   744,   566, 11598,  3242,  4467,   531,   182,  2740,\n",
       "          363, 11599,   666,   259,   527,     8,    47,    20,   156,\n",
       "         1831,  4912,  1777,  5201,   439,   518,  4672,  3242,  6242,\n",
       "          184]], dtype=int32)"
      ]
     },
     "execution_count": 125,
     "metadata": {},
     "output_type": "execute_result"
    }
   ],
   "source": [
    "X, max_sequence = generate_padded_sequences(X, 100)\n",
    "X[:5]"
   ]
  },
  {
   "cell_type": "markdown",
   "id": "balanced-skirt",
   "metadata": {
    "id": "balanced-skirt"
   },
   "source": [
    "#### 7. Splitting the data"
   ]
  },
  {
   "cell_type": "code",
   "execution_count": 126,
   "id": "responsible-characteristic",
   "metadata": {
    "id": "responsible-characteristic"
   },
   "outputs": [],
   "source": [
    "from sklearn.model_selection import train_test_split\n",
    "\n",
    "X_train, X_test, y_train, y_test = train_test_split(X, Y, test_size = 0.2, random_state = 42)"
   ]
  },
  {
   "cell_type": "code",
   "execution_count": 127,
   "id": "regular-hundred",
   "metadata": {
    "colab": {
     "base_uri": "https://localhost:8080/"
    },
    "id": "regular-hundred",
    "outputId": "e2c7a62f-96c5-4725-cb79-fd8bc60b8ebc"
   },
   "outputs": [
    {
     "name": "stdout",
     "output_type": "stream",
     "text": [
      "(1780, 100) (1780, 1)\n",
      "(445, 100) (445, 1)\n"
     ]
    }
   ],
   "source": [
    "print(X_train.shape, y_train.shape)\n",
    "print(X_test.shape, y_test.shape)"
   ]
  },
  {
   "cell_type": "markdown",
   "id": "friendly-nursery",
   "metadata": {
    "id": "friendly-nursery"
   },
   "source": [
    "### 6.  LSTMs for Text Generation\n",
    "\n",
    "Unlike Feed-forward neural networks in which activation outputs are propagated only in one direction, the activation outputs from neurons propagate in both directions (from inputs to outputs and from outputs to inputs) in Recurrent Neural Networks. This creates loops in the neural network architecture which acts as a ‘memory state’ of the neurons. This state allows the neurons an ability to remember what have been learned so far.\n",
    "\n",
    "The memory state in RNNs gives an advantage over traditional neural networks but a problem called Vanishing Gradient is associated with them. In this problem, while learning with a large number of layers, it becomes really hard for the network to learn and tune the parameters of the earlier layers. To address this problem, A new type of RNNs called LSTMs (Long Short Term Memory) Models have been developed.\n",
    "\n",
    "LSTMs have an additional state called ‘cell state’ through which the network makes adjustments in the information flow. The advantage of this state is that the model can remember or forget the leanings more selectively. To learn more about LSTMs, here is a great post. Lets architecture a LSTM model in our code. I have added total three layers in the model.\n",
    "\n",
    "1. Input Layer : Takes the sequence of words as input\n",
    "2. LSTM Layer : Computes the output using LSTM units. I have added 100 units in the layer, but this number can be fine tuned later.\n",
    "3. Dropout Layer : A regularisation layer which randomly turns-off the activations of some neurons in the LSTM layer. It helps in preventing over fitting. (Optional Layer)\n",
    "4. Output Layer : Computes the probability of the best possible next word as output\n",
    "\n",
    "We will run this model for total 100 epoochs but it can be experimented further."
   ]
  },
  {
   "cell_type": "code",
   "execution_count": 128,
   "id": "administrative-somalia",
   "metadata": {
    "id": "administrative-somalia"
   },
   "outputs": [],
   "source": [
    "from keras.layers import Embedding, SpatialDropout1D, LSTM, Dense, Dropout\n",
    "from keras.models import Sequential\n",
    "from keras.callbacks import EarlyStopping\n",
    "\n",
    "def create_model(total_words, max_sequence):\n",
    "    \"\"\"\n",
    "    Generates a sparse matrix from ratings dataframe.\n",
    "    \n",
    "    Args:\n",
    "        df: pandas dataframe\n",
    "    \n",
    "    Returns:\n",
    "        X: sparse matrix\n",
    "        movie_mapper: dict that maps movie id's to movie indices\n",
    "    \"\"\"\n",
    "    \n",
    "    model = Sequential()\n",
    "    \n",
    "    # Add Input Embedding, Hidden and Ouput Layer\n",
    "    model.add(Embedding(input_dim = total_words, output_dim = 100, input_length = max_sequence))\n",
    "    model.add(SpatialDropout1D(0.4))\n",
    "    model.add(LSTM(100, dropout=0.4))\n",
    "    model.add(Dense(units = 5, activation='softmax'))\n",
    "\n",
    "    model.compile(loss='categorical_crossentropy', optimizer='adam', metrics=['accuracy'])\n",
    "   \n",
    "    return model"
   ]
  },
  {
   "cell_type": "code",
   "execution_count": 129,
   "id": "daily-musical",
   "metadata": {
    "colab": {
     "base_uri": "https://localhost:8080/"
    },
    "id": "daily-musical",
    "outputId": "7c9f9408-c16c-4354-fcfc-5d9f756be16c"
   },
   "outputs": [
    {
     "name": "stdout",
     "output_type": "stream",
     "text": [
      "Model: \"sequential_3\"\n",
      "_________________________________________________________________\n",
      " Layer (type)                Output Shape              Param #   \n",
      "=================================================================\n",
      " embedding_3 (Embedding)     (None, 100, 100)          4377100   \n",
      "                                                                 \n",
      " spatial_dropout1d_3 (Spatia  (None, 100, 100)         0         \n",
      " lDropout1D)                                                     \n",
      "                                                                 \n",
      " lstm_3 (LSTM)               (None, 100)               80400     \n",
      "                                                                 \n",
      " dense_3 (Dense)             (None, 5)                 505       \n",
      "                                                                 \n",
      "=================================================================\n",
      "Total params: 4,458,005\n",
      "Trainable params: 4,458,005\n",
      "Non-trainable params: 0\n",
      "_________________________________________________________________\n"
     ]
    }
   ],
   "source": [
    "model = create_model(total_words, max_sequence)\n",
    "model.summary()"
   ]
  },
  {
   "cell_type": "markdown",
   "id": "loved-surge",
   "metadata": {
    "id": "loved-surge"
   },
   "source": [
    "Let's train our model now"
   ]
  },
  {
   "cell_type": "code",
   "execution_count": 130,
   "id": "desperate-fellowship",
   "metadata": {
    "id": "desperate-fellowship"
   },
   "outputs": [],
   "source": [
    "from tensorflow.keras.utils import to_categorical\n",
    "\n",
    "y_train = to_categorical(y_train, 5)\n",
    "y_test = to_categorical(y_test, 5)"
   ]
  },
  {
   "cell_type": "code",
   "execution_count": 131,
   "id": "active-punch",
   "metadata": {
    "colab": {
     "base_uri": "https://localhost:8080/"
    },
    "id": "active-punch",
    "outputId": "1ef9a593-11a4-45a0-a55f-77727505c973"
   },
   "outputs": [
    {
     "data": {
      "text/plain": [
       "(1780, 100)"
      ]
     },
     "execution_count": 131,
     "metadata": {},
     "output_type": "execute_result"
    }
   ],
   "source": [
    "X_train.shape"
   ]
  },
  {
   "cell_type": "code",
   "execution_count": 132,
   "id": "billion-information",
   "metadata": {
    "colab": {
     "base_uri": "https://localhost:8080/"
    },
    "id": "billion-information",
    "outputId": "1c2e2ab3-d757-4ce9-e147-9c4bacacb82e"
   },
   "outputs": [
    {
     "name": "stdout",
     "output_type": "stream",
     "text": [
      "Epoch 1/10\n",
      "45/45 - 3s - loss: 1.4731 - accuracy: 0.3553 - val_loss: 1.2730 - val_accuracy: 0.4944 - 3s/epoch - 63ms/step\n",
      "Epoch 2/10\n",
      "45/45 - 0s - loss: 1.1193 - accuracy: 0.4754 - val_loss: 1.0195 - val_accuracy: 0.4775 - 469ms/epoch - 10ms/step\n",
      "Epoch 3/10\n",
      "45/45 - 0s - loss: 0.8622 - accuracy: 0.5625 - val_loss: 0.8162 - val_accuracy: 0.6208 - 482ms/epoch - 11ms/step\n",
      "Epoch 4/10\n",
      "45/45 - 0s - loss: 0.5143 - accuracy: 0.8104 - val_loss: 0.5628 - val_accuracy: 0.8343 - 458ms/epoch - 10ms/step\n",
      "Epoch 5/10\n",
      "45/45 - 0s - loss: 0.2982 - accuracy: 0.9052 - val_loss: 0.7900 - val_accuracy: 0.6742 - 480ms/epoch - 11ms/step\n",
      "Epoch 6/10\n",
      "45/45 - 0s - loss: 0.4930 - accuracy: 0.8511 - val_loss: 0.6640 - val_accuracy: 0.8090 - 449ms/epoch - 10ms/step\n",
      "Epoch 7/10\n",
      "45/45 - 0s - loss: 0.1645 - accuracy: 0.9712 - val_loss: 0.2083 - val_accuracy: 0.9466 - 477ms/epoch - 11ms/step\n",
      "Epoch 8/10\n",
      "45/45 - 0s - loss: 0.0545 - accuracy: 0.9916 - val_loss: 0.1899 - val_accuracy: 0.9522 - 454ms/epoch - 10ms/step\n",
      "Epoch 9/10\n",
      "45/45 - 0s - loss: 0.0224 - accuracy: 0.9965 - val_loss: 0.1916 - val_accuracy: 0.9494 - 466ms/epoch - 10ms/step\n",
      "Epoch 10/10\n",
      "45/45 - 0s - loss: 0.0129 - accuracy: 0.9993 - val_loss: 0.2110 - val_accuracy: 0.9579 - 475ms/epoch - 11ms/step\n"
     ]
    },
    {
     "data": {
      "text/plain": [
       "<keras.callbacks.History at 0x7fc8405371d0>"
      ]
     },
     "execution_count": 132,
     "metadata": {},
     "output_type": "execute_result"
    }
   ],
   "source": [
    "model.fit(X_train, y_train, epochs = 10, batch_size = 32, validation_split = 0.2, verbose = 2) #, callbacks = [EarlyStopping(monitor='val_loss', patience=7, min_delta=0.0001)]"
   ]
  },
  {
   "cell_type": "code",
   "execution_count": 133,
   "id": "institutional-commodity",
   "metadata": {
    "colab": {
     "base_uri": "https://localhost:8080/"
    },
    "id": "institutional-commodity",
    "outputId": "b6eb99b1-161c-4bec-f1b4-1ab7effbcec0"
   },
   "outputs": [
    {
     "name": "stdout",
     "output_type": "stream",
     "text": [
      "Accuracy: 93.93%\n"
     ]
    }
   ],
   "source": [
    "scores = model.evaluate(X_test, y_test, verbose=0)\n",
    "print(\"Accuracy: %.2f%%\" % (scores[1]*100))"
   ]
  },
  {
   "cell_type": "code",
   "execution_count": 123,
   "id": "hydraulic-singles",
   "metadata": {
    "colab": {
     "base_uri": "https://localhost:8080/"
    },
    "id": "hydraulic-singles",
    "outputId": "80ef868f-268a-4153-89df-c1bc3123e0df"
   },
   "outputs": [
    {
     "name": "stderr",
     "output_type": "stream",
     "text": [
      "WARNING:absl:Found untraced functions such as lstm_cell_2_layer_call_fn, lstm_cell_2_layer_call_and_return_conditional_losses while saving (showing 2 of 2). These functions will not be directly callable after loading.\n",
      "WARNING:absl:<keras.layers.recurrent.LSTMCell object at 0x7fc8c4e874d0> has the same name 'LSTMCell' as a built-in Keras object. Consider renaming <class 'keras.layers.recurrent.LSTMCell'> to avoid naming conflicts when loading with `tf.keras.models.load_model`. If renaming is not possible, pass the object in the `custom_objects` parameter of the load function.\n"
     ]
    }
   ],
   "source": [
    "model.save('model')"
   ]
  }
 ],
 "metadata": {
  "accelerator": "GPU",
  "colab": {
   "provenance": []
  },
  "gpuClass": "standard",
  "kernelspec": {
   "display_name": "Python 3",
   "language": "python",
   "name": "python3"
  },
  "language_info": {
   "codemirror_mode": {
    "name": "ipython",
    "version": 3
   },
   "file_extension": ".py",
   "mimetype": "text/x-python",
   "name": "python",
   "nbconvert_exporter": "python",
   "pygments_lexer": "ipython3",
   "version": "3.8.8"
  }
 },
 "nbformat": 4,
 "nbformat_minor": 5
}
